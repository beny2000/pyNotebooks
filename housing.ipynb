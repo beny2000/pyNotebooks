{
 "cells": [
  {
   "cell_type": "markdown",
   "metadata": {},
   "source": [
    "# Housing Cost Estimations"
   ]
  },
  {
   "cell_type": "code",
   "execution_count": 16,
   "metadata": {},
   "outputs": [
    {
     "name": "stdout",
     "output_type": "stream",
     "text": [
      "Defaulting to user installation because normal site-packages is not writeable\n",
      "Collecting mortgage\n",
      "  Downloading mortgage-1.0.5-py3-none-any.whl (6.5 kB)\n",
      "Installing collected packages: mortgage\n",
      "Successfully installed mortgage-1.0.5\n"
     ]
    }
   ],
   "source": [
    "!pip install mortgage"
   ]
  },
  {
   "cell_type": "code",
   "execution_count": 281,
   "metadata": {},
   "outputs": [],
   "source": [
    "import pandas as pd\n",
    "import matplotlib.pyplot as plt\n",
    "import numpy as np\n",
    "import plotly.express as px\n",
    "from mortgage import Loan\n",
    "import plotly.graph_objects as go\n",
    "from ipywidgets import interact, widgets"
   ]
  },
  {
   "cell_type": "markdown",
   "metadata": {},
   "source": [
    "## Purchasing Costs"
   ]
  },
  {
   "cell_type": "code",
   "execution_count": 178,
   "metadata": {},
   "outputs": [
    {
     "data": {
      "text/html": [
       "<div>\n",
       "<style scoped>\n",
       "    .dataframe tbody tr th:only-of-type {\n",
       "        vertical-align: middle;\n",
       "    }\n",
       "\n",
       "    .dataframe tbody tr th {\n",
       "        vertical-align: top;\n",
       "    }\n",
       "\n",
       "    .dataframe thead th {\n",
       "        text-align: right;\n",
       "    }\n",
       "</style>\n",
       "<table border=\"1\" class=\"dataframe\">\n",
       "  <thead>\n",
       "    <tr style=\"text-align: right;\">\n",
       "      <th></th>\n",
       "      <th>Month</th>\n",
       "      <th># of Sales</th>\n",
       "      <th>Monthly Change ($)</th>\n",
       "      <th>Monthly Change (%)</th>\n",
       "      <th>Days on Market</th>\n",
       "      <th>Above/Below Asking (%)</th>\n",
       "      <th>Avg List Price ($)</th>\n",
       "      <th>Avg Sold Price ($)</th>\n",
       "      <th>Year</th>\n",
       "    </tr>\n",
       "  </thead>\n",
       "  <tbody>\n",
       "    <tr>\n",
       "      <th>118</th>\n",
       "      <td>January 2012</td>\n",
       "      <td>796</td>\n",
       "      <td>314000.0</td>\n",
       "      <td>0.00</td>\n",
       "      <td>25.0</td>\n",
       "      <td>-1.56</td>\n",
       "      <td>319000.0</td>\n",
       "      <td>314000.0</td>\n",
       "      <td>2012</td>\n",
       "    </tr>\n",
       "    <tr>\n",
       "      <th>117</th>\n",
       "      <td>February 2012</td>\n",
       "      <td>1,261</td>\n",
       "      <td>14000.0</td>\n",
       "      <td>4.45</td>\n",
       "      <td>18.0</td>\n",
       "      <td>-1.79</td>\n",
       "      <td>334000.0</td>\n",
       "      <td>328000.0</td>\n",
       "      <td>2012</td>\n",
       "    </tr>\n",
       "    <tr>\n",
       "      <th>116</th>\n",
       "      <td>March 2012</td>\n",
       "      <td>1,586</td>\n",
       "      <td>1000.0</td>\n",
       "      <td>0.30</td>\n",
       "      <td>20.0</td>\n",
       "      <td>-0.27</td>\n",
       "      <td>329900.0</td>\n",
       "      <td>329000.0</td>\n",
       "      <td>2012</td>\n",
       "    </tr>\n",
       "    <tr>\n",
       "      <th>115</th>\n",
       "      <td>April 2012</td>\n",
       "      <td>1,509</td>\n",
       "      <td>4000.0</td>\n",
       "      <td>1.21</td>\n",
       "      <td>21.0</td>\n",
       "      <td>-0.59</td>\n",
       "      <td>335000.0</td>\n",
       "      <td>333000.0</td>\n",
       "      <td>2012</td>\n",
       "    </tr>\n",
       "    <tr>\n",
       "      <th>114</th>\n",
       "      <td>May 2012</td>\n",
       "      <td>1,562</td>\n",
       "      <td>2759.0</td>\n",
       "      <td>0.82</td>\n",
       "      <td>19.0</td>\n",
       "      <td>-1.21</td>\n",
       "      <td>339900.0</td>\n",
       "      <td>335759.0</td>\n",
       "      <td>2012</td>\n",
       "    </tr>\n",
       "    <tr>\n",
       "      <th>...</th>\n",
       "      <td>...</td>\n",
       "      <td>...</td>\n",
       "      <td>...</td>\n",
       "      <td>...</td>\n",
       "      <td>...</td>\n",
       "      <td>...</td>\n",
       "      <td>...</td>\n",
       "      <td>...</td>\n",
       "      <td>...</td>\n",
       "    </tr>\n",
       "    <tr>\n",
       "      <th>4</th>\n",
       "      <td>July 2022</td>\n",
       "      <td>754</td>\n",
       "      <td>-11895.0</td>\n",
       "      <td>-1.73</td>\n",
       "      <td>17.0</td>\n",
       "      <td>-2.08</td>\n",
       "      <td>689450.0</td>\n",
       "      <td>675106.0</td>\n",
       "      <td>2022</td>\n",
       "    </tr>\n",
       "    <tr>\n",
       "      <th>3</th>\n",
       "      <td>August 2022</td>\n",
       "      <td>937</td>\n",
       "      <td>-15106.0</td>\n",
       "      <td>-2.23</td>\n",
       "      <td>20.0</td>\n",
       "      <td>-2.79</td>\n",
       "      <td>679000.0</td>\n",
       "      <td>660000.0</td>\n",
       "      <td>2022</td>\n",
       "    </tr>\n",
       "    <tr>\n",
       "      <th>2</th>\n",
       "      <td>September 2022</td>\n",
       "      <td>814</td>\n",
       "      <td>10000.0</td>\n",
       "      <td>1.51</td>\n",
       "      <td>18.0</td>\n",
       "      <td>-1.21</td>\n",
       "      <td>678250.0</td>\n",
       "      <td>670000.0</td>\n",
       "      <td>2022</td>\n",
       "    </tr>\n",
       "    <tr>\n",
       "      <th>1</th>\n",
       "      <td>October 2022</td>\n",
       "      <td>824</td>\n",
       "      <td>-12000.0</td>\n",
       "      <td>-1.79</td>\n",
       "      <td>18.0</td>\n",
       "      <td>-1.78</td>\n",
       "      <td>669950.0</td>\n",
       "      <td>658000.0</td>\n",
       "      <td>2022</td>\n",
       "    </tr>\n",
       "    <tr>\n",
       "      <th>0</th>\n",
       "      <td>November 2022</td>\n",
       "      <td>808</td>\n",
       "      <td>-13000.0</td>\n",
       "      <td>-1.97</td>\n",
       "      <td>18.0</td>\n",
       "      <td>-1.14</td>\n",
       "      <td>652500.0</td>\n",
       "      <td>645000.0</td>\n",
       "      <td>2022</td>\n",
       "    </tr>\n",
       "  </tbody>\n",
       "</table>\n",
       "<p>119 rows × 9 columns</p>\n",
       "</div>"
      ],
      "text/plain": [
       "              Month # of Sales  Monthly Change ($)  Monthly Change (%)  \\\n",
       "118    January 2012        796            314000.0                0.00   \n",
       "117   February 2012      1,261             14000.0                4.45   \n",
       "116      March 2012      1,586              1000.0                0.30   \n",
       "115      April 2012      1,509              4000.0                1.21   \n",
       "114        May 2012      1,562              2759.0                0.82   \n",
       "..              ...        ...                 ...                 ...   \n",
       "4         July 2022        754            -11895.0               -1.73   \n",
       "3       August 2022        937            -15106.0               -2.23   \n",
       "2    September 2022        814             10000.0                1.51   \n",
       "1      October 2022        824            -12000.0               -1.79   \n",
       "0     November 2022        808            -13000.0               -1.97   \n",
       "\n",
       "     Days on Market  Above/Below Asking (%)  Avg List Price ($)  \\\n",
       "118            25.0                   -1.56            319000.0   \n",
       "117            18.0                   -1.79            334000.0   \n",
       "116            20.0                   -0.27            329900.0   \n",
       "115            21.0                   -0.59            335000.0   \n",
       "114            19.0                   -1.21            339900.0   \n",
       "..              ...                     ...                 ...   \n",
       "4              17.0                   -2.08            689450.0   \n",
       "3              20.0                   -2.79            679000.0   \n",
       "2              18.0                   -1.21            678250.0   \n",
       "1              18.0                   -1.78            669950.0   \n",
       "0              18.0                   -1.14            652500.0   \n",
       "\n",
       "     Avg Sold Price ($)  Year  \n",
       "118            314000.0  2012  \n",
       "117            328000.0  2012  \n",
       "116            329000.0  2012  \n",
       "115            333000.0  2012  \n",
       "114            335759.0  2012  \n",
       "..                  ...   ...  \n",
       "4              675106.0  2022  \n",
       "3              660000.0  2022  \n",
       "2              670000.0  2022  \n",
       "1              658000.0  2022  \n",
       "0              645000.0  2022  \n",
       "\n",
       "[119 rows x 9 columns]"
      ]
     },
     "execution_count": 178,
     "metadata": {},
     "output_type": "execute_result"
    }
   ],
   "source": [
    "buy = pd.read_csv(\"TO_housing_prices.csv\", index_col=0)\n",
    "buy"
   ]
  },
  {
   "cell_type": "code",
   "execution_count": 186,
   "metadata": {},
   "outputs": [
    {
     "data": {
      "application/vnd.plotly.v1+json": {
       "config": {
        "plotlyServerURL": "https://plot.ly"
       },
       "data": [
        {
         "hovertemplate": "<b>%{hovertext}</b><br><br>Month=%{x}<br>Avg Sold Price ($)=%{y}<extra></extra>",
         "hovertext": [
          2012,
          2012,
          2012,
          2012,
          2012,
          2012,
          2012,
          2012,
          2012,
          2012,
          2012,
          2012,
          2013,
          2013,
          2013,
          2013,
          2013,
          2013,
          2013,
          2013,
          2013,
          2013,
          2013,
          2013,
          2014,
          2014,
          2014,
          2014,
          2014,
          2014,
          2014,
          2014,
          2014,
          2014,
          2014,
          2014,
          2016,
          2016,
          2016,
          2016,
          2016,
          2016,
          2016,
          2016,
          2016,
          2016,
          2016,
          2016,
          2017,
          2017,
          2017,
          2017,
          2017,
          2017,
          2017,
          2017,
          2017,
          2017,
          2017,
          2017,
          2018,
          2018,
          2018,
          2018,
          2018,
          2018,
          2018,
          2018,
          2018,
          2018,
          2018,
          2018,
          2019,
          2019,
          2019,
          2019,
          2019,
          2019,
          2019,
          2019,
          2019,
          2019,
          2019,
          2019,
          2020,
          2020,
          2020,
          2020,
          2020,
          2020,
          2020,
          2020,
          2020,
          2020,
          2020,
          2020,
          2021,
          2021,
          2021,
          2021,
          2021,
          2021,
          2021,
          2021,
          2021,
          2021,
          2021,
          2021,
          2022,
          2022,
          2022,
          2022,
          2022,
          2022,
          2022,
          2022,
          2022,
          2022,
          2022
         ],
         "legendgroup": "",
         "line": {
          "color": "#636efa",
          "dash": "solid"
         },
         "marker": {
          "symbol": "circle"
         },
         "mode": "lines",
         "name": "",
         "orientation": "v",
         "showlegend": false,
         "type": "scatter",
         "x": [
          "January 2012",
          "February 2012",
          "March 2012",
          "April 2012",
          "May 2012",
          "June 2012",
          "July 2012",
          "August 2012",
          "September 2012",
          "October 2012",
          "November 2012",
          "December 2012",
          "January 2013",
          "February 2013",
          "March 2013",
          "April 2013",
          "May 2013",
          "June 2013",
          "July 2013",
          "August 2013",
          "September 2013",
          "October 2013",
          "November 2013",
          "December 2013",
          "January 2014",
          "February 2014",
          "March 2014",
          "April 2014",
          "May 2014",
          "June 2014",
          "July 2014",
          "August 2014",
          "September 2014",
          "October 2014",
          "November 2014",
          "December 2014",
          "January 2016",
          "February 2016",
          "March 2016",
          "April 2016",
          "May 2016",
          "June 2016",
          "July 2016",
          "August 2016",
          "September 2016",
          "October 2016",
          "November 2016",
          "December 2016",
          "January 2017",
          "February 2017",
          "March 2017",
          "April 2017",
          "May 2017",
          "June 2017",
          "July 2017",
          "August 2017",
          "September 2017",
          "October 2017",
          "November 2017",
          "December 2017",
          "January 2018",
          "February 2018",
          "March 2018",
          "April 2018",
          "May 2018",
          "June 2018",
          "July 2018",
          "August 2018",
          "September 2018",
          "October 2018",
          "November 2018",
          "December 2018",
          "January 2019",
          "February 2019",
          "March 2019",
          "April 2019",
          "May 2019",
          "June 2019",
          "July 2019",
          "August 2019",
          "September 2019",
          "October 2019",
          "November 2019",
          "December 2019",
          "January 2020",
          "February 2020",
          "March 2020",
          "April 2020",
          "May 2020",
          "June 2020",
          "July 2020",
          "August 2020",
          "September 2020",
          "October 2020",
          "November 2020",
          "December 2020",
          "January 2021",
          "February 2021",
          "March 2021",
          "April 2021",
          "May 2021",
          "June 2021",
          "July 2021",
          "August 2021",
          "September 2021",
          "October 2021",
          "November 2021",
          "December 2021",
          "January 2022",
          "February 2022",
          "March 2022",
          "April 2022",
          "May 2022",
          "June 2022",
          "July 2022",
          "August 2022",
          "September 2022",
          "October 2022",
          "November 2022"
         ],
         "xaxis": "x",
         "y": [
          314000,
          328000,
          329000,
          333000,
          335759,
          332800,
          322500,
          321000,
          328000,
          325500,
          316125,
          315000,
          323250,
          320250,
          330500,
          335000,
          336000,
          330000,
          327000,
          321900,
          331000,
          332500,
          330500,
          325000,
          330750,
          339000,
          338100,
          347900,
          340000,
          349500,
          340500,
          330000,
          340000,
          343000,
          339490,
          341500,
          368000,
          377000,
          366000,
          385000,
          388000,
          385000,
          378000,
          390000,
          396900,
          401750,
          412000,
          410000,
          425000,
          453000,
          488800,
          501000,
          483000,
          472750,
          469995,
          473250,
          490000,
          485000,
          485000,
          478000,
          498000,
          510000,
          516800,
          530000,
          535000,
          535000,
          524900,
          520000,
          545000,
          536000,
          530000,
          526500,
          531000,
          543500,
          547750,
          565000,
          570000,
          570000,
          565000,
          570000,
          574900,
          590000,
          592250,
          580000,
          594500,
          641500,
          635000,
          580000,
          595050,
          610000,
          615000,
          600000,
          597000,
          580000,
          569500,
          565000,
          581250,
          618000,
          647000,
          641000,
          640000,
          640000,
          645000,
          640000,
          650000,
          655000,
          648000,
          651000,
          708000,
          745000,
          748000,
          730000,
          703250,
          687000,
          675106,
          660000,
          670000,
          658000,
          645000
         ],
         "yaxis": "y"
        }
       ],
       "layout": {
        "legend": {
         "tracegroupgap": 0
        },
        "template": {
         "data": {
          "bar": [
           {
            "error_x": {
             "color": "#2a3f5f"
            },
            "error_y": {
             "color": "#2a3f5f"
            },
            "marker": {
             "line": {
              "color": "#E5ECF6",
              "width": 0.5
             },
             "pattern": {
              "fillmode": "overlay",
              "size": 10,
              "solidity": 0.2
             }
            },
            "type": "bar"
           }
          ],
          "barpolar": [
           {
            "marker": {
             "line": {
              "color": "#E5ECF6",
              "width": 0.5
             },
             "pattern": {
              "fillmode": "overlay",
              "size": 10,
              "solidity": 0.2
             }
            },
            "type": "barpolar"
           }
          ],
          "carpet": [
           {
            "aaxis": {
             "endlinecolor": "#2a3f5f",
             "gridcolor": "white",
             "linecolor": "white",
             "minorgridcolor": "white",
             "startlinecolor": "#2a3f5f"
            },
            "baxis": {
             "endlinecolor": "#2a3f5f",
             "gridcolor": "white",
             "linecolor": "white",
             "minorgridcolor": "white",
             "startlinecolor": "#2a3f5f"
            },
            "type": "carpet"
           }
          ],
          "choropleth": [
           {
            "colorbar": {
             "outlinewidth": 0,
             "ticks": ""
            },
            "type": "choropleth"
           }
          ],
          "contour": [
           {
            "colorbar": {
             "outlinewidth": 0,
             "ticks": ""
            },
            "colorscale": [
             [
              0,
              "#0d0887"
             ],
             [
              0.1111111111111111,
              "#46039f"
             ],
             [
              0.2222222222222222,
              "#7201a8"
             ],
             [
              0.3333333333333333,
              "#9c179e"
             ],
             [
              0.4444444444444444,
              "#bd3786"
             ],
             [
              0.5555555555555556,
              "#d8576b"
             ],
             [
              0.6666666666666666,
              "#ed7953"
             ],
             [
              0.7777777777777778,
              "#fb9f3a"
             ],
             [
              0.8888888888888888,
              "#fdca26"
             ],
             [
              1,
              "#f0f921"
             ]
            ],
            "type": "contour"
           }
          ],
          "contourcarpet": [
           {
            "colorbar": {
             "outlinewidth": 0,
             "ticks": ""
            },
            "type": "contourcarpet"
           }
          ],
          "heatmap": [
           {
            "colorbar": {
             "outlinewidth": 0,
             "ticks": ""
            },
            "colorscale": [
             [
              0,
              "#0d0887"
             ],
             [
              0.1111111111111111,
              "#46039f"
             ],
             [
              0.2222222222222222,
              "#7201a8"
             ],
             [
              0.3333333333333333,
              "#9c179e"
             ],
             [
              0.4444444444444444,
              "#bd3786"
             ],
             [
              0.5555555555555556,
              "#d8576b"
             ],
             [
              0.6666666666666666,
              "#ed7953"
             ],
             [
              0.7777777777777778,
              "#fb9f3a"
             ],
             [
              0.8888888888888888,
              "#fdca26"
             ],
             [
              1,
              "#f0f921"
             ]
            ],
            "type": "heatmap"
           }
          ],
          "heatmapgl": [
           {
            "colorbar": {
             "outlinewidth": 0,
             "ticks": ""
            },
            "colorscale": [
             [
              0,
              "#0d0887"
             ],
             [
              0.1111111111111111,
              "#46039f"
             ],
             [
              0.2222222222222222,
              "#7201a8"
             ],
             [
              0.3333333333333333,
              "#9c179e"
             ],
             [
              0.4444444444444444,
              "#bd3786"
             ],
             [
              0.5555555555555556,
              "#d8576b"
             ],
             [
              0.6666666666666666,
              "#ed7953"
             ],
             [
              0.7777777777777778,
              "#fb9f3a"
             ],
             [
              0.8888888888888888,
              "#fdca26"
             ],
             [
              1,
              "#f0f921"
             ]
            ],
            "type": "heatmapgl"
           }
          ],
          "histogram": [
           {
            "marker": {
             "pattern": {
              "fillmode": "overlay",
              "size": 10,
              "solidity": 0.2
             }
            },
            "type": "histogram"
           }
          ],
          "histogram2d": [
           {
            "colorbar": {
             "outlinewidth": 0,
             "ticks": ""
            },
            "colorscale": [
             [
              0,
              "#0d0887"
             ],
             [
              0.1111111111111111,
              "#46039f"
             ],
             [
              0.2222222222222222,
              "#7201a8"
             ],
             [
              0.3333333333333333,
              "#9c179e"
             ],
             [
              0.4444444444444444,
              "#bd3786"
             ],
             [
              0.5555555555555556,
              "#d8576b"
             ],
             [
              0.6666666666666666,
              "#ed7953"
             ],
             [
              0.7777777777777778,
              "#fb9f3a"
             ],
             [
              0.8888888888888888,
              "#fdca26"
             ],
             [
              1,
              "#f0f921"
             ]
            ],
            "type": "histogram2d"
           }
          ],
          "histogram2dcontour": [
           {
            "colorbar": {
             "outlinewidth": 0,
             "ticks": ""
            },
            "colorscale": [
             [
              0,
              "#0d0887"
             ],
             [
              0.1111111111111111,
              "#46039f"
             ],
             [
              0.2222222222222222,
              "#7201a8"
             ],
             [
              0.3333333333333333,
              "#9c179e"
             ],
             [
              0.4444444444444444,
              "#bd3786"
             ],
             [
              0.5555555555555556,
              "#d8576b"
             ],
             [
              0.6666666666666666,
              "#ed7953"
             ],
             [
              0.7777777777777778,
              "#fb9f3a"
             ],
             [
              0.8888888888888888,
              "#fdca26"
             ],
             [
              1,
              "#f0f921"
             ]
            ],
            "type": "histogram2dcontour"
           }
          ],
          "mesh3d": [
           {
            "colorbar": {
             "outlinewidth": 0,
             "ticks": ""
            },
            "type": "mesh3d"
           }
          ],
          "parcoords": [
           {
            "line": {
             "colorbar": {
              "outlinewidth": 0,
              "ticks": ""
             }
            },
            "type": "parcoords"
           }
          ],
          "pie": [
           {
            "automargin": true,
            "type": "pie"
           }
          ],
          "scatter": [
           {
            "fillpattern": {
             "fillmode": "overlay",
             "size": 10,
             "solidity": 0.2
            },
            "type": "scatter"
           }
          ],
          "scatter3d": [
           {
            "line": {
             "colorbar": {
              "outlinewidth": 0,
              "ticks": ""
             }
            },
            "marker": {
             "colorbar": {
              "outlinewidth": 0,
              "ticks": ""
             }
            },
            "type": "scatter3d"
           }
          ],
          "scattercarpet": [
           {
            "marker": {
             "colorbar": {
              "outlinewidth": 0,
              "ticks": ""
             }
            },
            "type": "scattercarpet"
           }
          ],
          "scattergeo": [
           {
            "marker": {
             "colorbar": {
              "outlinewidth": 0,
              "ticks": ""
             }
            },
            "type": "scattergeo"
           }
          ],
          "scattergl": [
           {
            "marker": {
             "colorbar": {
              "outlinewidth": 0,
              "ticks": ""
             }
            },
            "type": "scattergl"
           }
          ],
          "scattermapbox": [
           {
            "marker": {
             "colorbar": {
              "outlinewidth": 0,
              "ticks": ""
             }
            },
            "type": "scattermapbox"
           }
          ],
          "scatterpolar": [
           {
            "marker": {
             "colorbar": {
              "outlinewidth": 0,
              "ticks": ""
             }
            },
            "type": "scatterpolar"
           }
          ],
          "scatterpolargl": [
           {
            "marker": {
             "colorbar": {
              "outlinewidth": 0,
              "ticks": ""
             }
            },
            "type": "scatterpolargl"
           }
          ],
          "scatterternary": [
           {
            "marker": {
             "colorbar": {
              "outlinewidth": 0,
              "ticks": ""
             }
            },
            "type": "scatterternary"
           }
          ],
          "surface": [
           {
            "colorbar": {
             "outlinewidth": 0,
             "ticks": ""
            },
            "colorscale": [
             [
              0,
              "#0d0887"
             ],
             [
              0.1111111111111111,
              "#46039f"
             ],
             [
              0.2222222222222222,
              "#7201a8"
             ],
             [
              0.3333333333333333,
              "#9c179e"
             ],
             [
              0.4444444444444444,
              "#bd3786"
             ],
             [
              0.5555555555555556,
              "#d8576b"
             ],
             [
              0.6666666666666666,
              "#ed7953"
             ],
             [
              0.7777777777777778,
              "#fb9f3a"
             ],
             [
              0.8888888888888888,
              "#fdca26"
             ],
             [
              1,
              "#f0f921"
             ]
            ],
            "type": "surface"
           }
          ],
          "table": [
           {
            "cells": {
             "fill": {
              "color": "#EBF0F8"
             },
             "line": {
              "color": "white"
             }
            },
            "header": {
             "fill": {
              "color": "#C8D4E3"
             },
             "line": {
              "color": "white"
             }
            },
            "type": "table"
           }
          ]
         },
         "layout": {
          "annotationdefaults": {
           "arrowcolor": "#2a3f5f",
           "arrowhead": 0,
           "arrowwidth": 1
          },
          "autotypenumbers": "strict",
          "coloraxis": {
           "colorbar": {
            "outlinewidth": 0,
            "ticks": ""
           }
          },
          "colorscale": {
           "diverging": [
            [
             0,
             "#8e0152"
            ],
            [
             0.1,
             "#c51b7d"
            ],
            [
             0.2,
             "#de77ae"
            ],
            [
             0.3,
             "#f1b6da"
            ],
            [
             0.4,
             "#fde0ef"
            ],
            [
             0.5,
             "#f7f7f7"
            ],
            [
             0.6,
             "#e6f5d0"
            ],
            [
             0.7,
             "#b8e186"
            ],
            [
             0.8,
             "#7fbc41"
            ],
            [
             0.9,
             "#4d9221"
            ],
            [
             1,
             "#276419"
            ]
           ],
           "sequential": [
            [
             0,
             "#0d0887"
            ],
            [
             0.1111111111111111,
             "#46039f"
            ],
            [
             0.2222222222222222,
             "#7201a8"
            ],
            [
             0.3333333333333333,
             "#9c179e"
            ],
            [
             0.4444444444444444,
             "#bd3786"
            ],
            [
             0.5555555555555556,
             "#d8576b"
            ],
            [
             0.6666666666666666,
             "#ed7953"
            ],
            [
             0.7777777777777778,
             "#fb9f3a"
            ],
            [
             0.8888888888888888,
             "#fdca26"
            ],
            [
             1,
             "#f0f921"
            ]
           ],
           "sequentialminus": [
            [
             0,
             "#0d0887"
            ],
            [
             0.1111111111111111,
             "#46039f"
            ],
            [
             0.2222222222222222,
             "#7201a8"
            ],
            [
             0.3333333333333333,
             "#9c179e"
            ],
            [
             0.4444444444444444,
             "#bd3786"
            ],
            [
             0.5555555555555556,
             "#d8576b"
            ],
            [
             0.6666666666666666,
             "#ed7953"
            ],
            [
             0.7777777777777778,
             "#fb9f3a"
            ],
            [
             0.8888888888888888,
             "#fdca26"
            ],
            [
             1,
             "#f0f921"
            ]
           ]
          },
          "colorway": [
           "#636efa",
           "#EF553B",
           "#00cc96",
           "#ab63fa",
           "#FFA15A",
           "#19d3f3",
           "#FF6692",
           "#B6E880",
           "#FF97FF",
           "#FECB52"
          ],
          "font": {
           "color": "#2a3f5f"
          },
          "geo": {
           "bgcolor": "white",
           "lakecolor": "white",
           "landcolor": "#E5ECF6",
           "showlakes": true,
           "showland": true,
           "subunitcolor": "white"
          },
          "hoverlabel": {
           "align": "left"
          },
          "hovermode": "closest",
          "mapbox": {
           "style": "light"
          },
          "paper_bgcolor": "white",
          "plot_bgcolor": "#E5ECF6",
          "polar": {
           "angularaxis": {
            "gridcolor": "white",
            "linecolor": "white",
            "ticks": ""
           },
           "bgcolor": "#E5ECF6",
           "radialaxis": {
            "gridcolor": "white",
            "linecolor": "white",
            "ticks": ""
           }
          },
          "scene": {
           "xaxis": {
            "backgroundcolor": "#E5ECF6",
            "gridcolor": "white",
            "gridwidth": 2,
            "linecolor": "white",
            "showbackground": true,
            "ticks": "",
            "zerolinecolor": "white"
           },
           "yaxis": {
            "backgroundcolor": "#E5ECF6",
            "gridcolor": "white",
            "gridwidth": 2,
            "linecolor": "white",
            "showbackground": true,
            "ticks": "",
            "zerolinecolor": "white"
           },
           "zaxis": {
            "backgroundcolor": "#E5ECF6",
            "gridcolor": "white",
            "gridwidth": 2,
            "linecolor": "white",
            "showbackground": true,
            "ticks": "",
            "zerolinecolor": "white"
           }
          },
          "shapedefaults": {
           "line": {
            "color": "#2a3f5f"
           }
          },
          "ternary": {
           "aaxis": {
            "gridcolor": "white",
            "linecolor": "white",
            "ticks": ""
           },
           "baxis": {
            "gridcolor": "white",
            "linecolor": "white",
            "ticks": ""
           },
           "bgcolor": "#E5ECF6",
           "caxis": {
            "gridcolor": "white",
            "linecolor": "white",
            "ticks": ""
           }
          },
          "title": {
           "x": 0.05
          },
          "xaxis": {
           "automargin": true,
           "gridcolor": "white",
           "linecolor": "white",
           "ticks": "",
           "title": {
            "standoff": 15
           },
           "zerolinecolor": "white",
           "zerolinewidth": 2
          },
          "yaxis": {
           "automargin": true,
           "gridcolor": "white",
           "linecolor": "white",
           "ticks": "",
           "title": {
            "standoff": 15
           },
           "zerolinecolor": "white",
           "zerolinewidth": 2
          }
         }
        },
        "title": {
         "text": "Average Sold Price of Condos Over the Years"
        },
        "xaxis": {
         "anchor": "y",
         "domain": [
          0,
          1
         ],
         "title": {
          "text": "Month"
         }
        },
        "yaxis": {
         "anchor": "x",
         "domain": [
          0,
          1
         ],
         "title": {
          "text": "Avg Sold Price ($)"
         }
        }
       }
      }
     },
     "metadata": {},
     "output_type": "display_data"
    }
   ],
   "source": [
    "fig = px.line(buy, x='Month', y='Avg Sold Price ($)',\n",
    "              labels={'Avg Sold Price': 'Average Sold Price ($)'},\n",
    "              title='Average Sold Price of Condos Over the Years',\n",
    "              hover_name='Year',\n",
    "              color_discrete_map={'Year': 'blue'})\n",
    "\n",
    "fig.show()"
   ]
  },
  {
   "cell_type": "markdown",
   "metadata": {},
   "source": [
    "## Rental Costs"
   ]
  },
  {
   "cell_type": "code",
   "execution_count": 176,
   "metadata": {},
   "outputs": [],
   "source": [
    "rent = pd.read_csv(\"TO_rental_prices.csv\", index_col=0)\n"
   ]
  },
  {
   "cell_type": "code",
   "execution_count": 185,
   "metadata": {},
   "outputs": [
    {
     "data": {
      "application/vnd.plotly.v1+json": {
       "config": {
        "plotlyServerURL": "https://plot.ly"
       },
       "data": [
        {
         "hovertemplate": "<b>%{hovertext}</b><br><br>House Type=1 Bedroom<br>Year=%{x}<br>Monthly Price=%{y}<extra></extra>",
         "hovertext": [
          1990,
          1991,
          1992,
          1993,
          1994,
          1995,
          1996,
          1997,
          1998,
          1999,
          2000,
          2001,
          2002,
          2003,
          2004,
          2005,
          2006,
          2007,
          2008,
          2009,
          2010,
          2011,
          2012,
          2013,
          2014,
          2015,
          2016,
          2017,
          2018,
          2019,
          2020,
          2021,
          2022
         ],
         "legendgroup": "1 Bedroom",
         "line": {
          "color": "#636efa",
          "dash": "solid"
         },
         "marker": {
          "symbol": "circle"
         },
         "mode": "lines",
         "name": "1 Bedroom",
         "orientation": "v",
         "showlegend": true,
         "type": "scatter",
         "x": [
          1990,
          1991,
          1992,
          1993,
          1994,
          1995,
          1996,
          1997,
          1998,
          1999,
          2000,
          2001,
          2002,
          2003,
          2004,
          2005,
          2006,
          2007,
          2008,
          2009,
          2010,
          2011,
          2012,
          2013,
          2014,
          2015,
          2016,
          2017,
          2018,
          2019,
          2020,
          2021,
          2022
         ],
         "xaxis": "x",
         "y": [
          559,
          592,
          610,
          627,
          641,
          661,
          675,
          685,
          729,
          770,
          830,
          866,
          891,
          884,
          886,
          888,
          896,
          900,
          927,
          926,
          949,
          977,
          1007,
          1032,
          1067,
          1103,
          1132,
          1194,
          1261,
          1361,
          1421,
          1439,
          1527
         ],
         "yaxis": "y"
        },
        {
         "hovertemplate": "<b>%{hovertext}</b><br><br>House Type=2 Bedroom<br>Year=%{x}<br>Monthly Price=%{y}<extra></extra>",
         "hovertext": [
          1990,
          1991,
          1992,
          1993,
          1994,
          1995,
          1996,
          1997,
          1998,
          1999,
          2000,
          2001,
          2002,
          2003,
          2004,
          2005,
          2006,
          2007,
          2008,
          2009,
          2010,
          2011,
          2012,
          2013,
          2014,
          2015,
          2016,
          2017,
          2018,
          2019,
          2020,
          2021,
          2022
         ],
         "legendgroup": "2 Bedroom",
         "line": {
          "color": "#EF553B",
          "dash": "solid"
         },
         "marker": {
          "symbol": "circle"
         },
         "mode": "lines",
         "name": "2 Bedroom",
         "orientation": "v",
         "showlegend": true,
         "type": "scatter",
         "x": [
          1990,
          1991,
          1992,
          1993,
          1994,
          1995,
          1996,
          1997,
          1998,
          1999,
          2000,
          2001,
          2002,
          2003,
          2004,
          2005,
          2006,
          2007,
          2008,
          2009,
          2010,
          2011,
          2012,
          2013,
          2014,
          2015,
          2016,
          2017,
          2018,
          2019,
          2020,
          2021,
          2022
         ],
         "xaxis": "x",
         "y": [
          689,
          730,
          755,
          773,
          785,
          805,
          819,
          822,
          881,
          916,
          979,
          1027,
          1047,
          1040,
          1052,
          1052,
          1067,
          1061,
          1095,
          1096,
          1123,
          1148,
          1183,
          1211,
          1251,
          1286,
          1326,
          1403,
          1468,
          1563,
          1637,
          1680,
          1779
         ],
         "yaxis": "y"
        },
        {
         "hovertemplate": "<b>%{hovertext}</b><br><br>House Type=3+ Bedroom<br>Year=%{x}<br>Monthly Price=%{y}<extra></extra>",
         "hovertext": [
          1990,
          1991,
          1992,
          1993,
          1994,
          1995,
          1996,
          1997,
          1998,
          1999,
          2000,
          2001,
          2002,
          2003,
          2004,
          2005,
          2006,
          2007,
          2008,
          2009,
          2010,
          2011,
          2012,
          2013,
          2014,
          2015,
          2016,
          2017,
          2018,
          2019,
          2020,
          2021,
          2022
         ],
         "legendgroup": "3+ Bedroom",
         "line": {
          "color": "#00cc96",
          "dash": "solid"
         },
         "marker": {
          "symbol": "circle"
         },
         "mode": "lines",
         "name": "3+ Bedroom",
         "orientation": "v",
         "showlegend": true,
         "type": "scatter",
         "x": [
          1990,
          1991,
          1992,
          1993,
          1994,
          1995,
          1996,
          1997,
          1998,
          1999,
          2000,
          2001,
          2002,
          2003,
          2004,
          2005,
          2006,
          2007,
          2008,
          2009,
          2010,
          2011,
          2012,
          2013,
          2014,
          2015,
          2016,
          2017,
          2018,
          2019,
          2020,
          2021,
          2022
         ],
         "xaxis": "x",
         "y": [
          842,
          888,
          905,
          930,
          946,
          965,
          988,
          989,
          1053,
          1086,
          1170,
          1218,
          1257,
          1223,
          1245,
          1248,
          1271,
          1261,
          1293,
          1299,
          1329,
          1356,
          1411,
          1461,
          1466,
          1516,
          1525,
          1589,
          1647,
          1730,
          1854,
          1918,
          2018
         ],
         "yaxis": "y"
        },
        {
         "hovertemplate": "<b>%{hovertext}</b><br><br>House Type=Total<br>Year=%{x}<br>Monthly Price=%{y}<extra></extra>",
         "hovertext": [
          1990,
          1991,
          1992,
          1993,
          1994,
          1995,
          1996,
          1997,
          1998,
          1999,
          2000,
          2001,
          2002,
          2003,
          2004,
          2005,
          2006,
          2007,
          2008,
          2009,
          2010,
          2011,
          2012,
          2013,
          2014,
          2015,
          2016,
          2017,
          2018,
          2019,
          2020,
          2021,
          2022
         ],
         "legendgroup": "Total",
         "line": {
          "color": "#ab63fa",
          "dash": "solid"
         },
         "marker": {
          "symbol": "circle"
         },
         "mode": "lines",
         "name": "Total",
         "orientation": "v",
         "showlegend": true,
         "type": "scatter",
         "x": [
          1990,
          1991,
          1992,
          1993,
          1994,
          1995,
          1996,
          1997,
          1998,
          1999,
          2000,
          2001,
          2002,
          2003,
          2004,
          2005,
          2006,
          2007,
          2008,
          2009,
          2010,
          2011,
          2012,
          2013,
          2014,
          2015,
          2016,
          2017,
          2018,
          2019,
          2020,
          2021,
          2022
         ],
         "xaxis": "x",
         "y": [
          634,
          672,
          691,
          710,
          722,
          741,
          755,
          762,
          813,
          850,
          913,
          954,
          981,
          970,
          980,
          979,
          995,
          992,
          1021,
          1018,
          1048,
          1073,
          1108,
          1138,
          1170,
          1208,
          1240,
          1308,
          1370,
          1465,
          1536,
          1570,
          1665
         ],
         "yaxis": "y"
        }
       ],
       "layout": {
        "legend": {
         "title": {
          "text": "House Type"
         },
         "tracegroupgap": 0
        },
        "template": {
         "data": {
          "bar": [
           {
            "error_x": {
             "color": "#2a3f5f"
            },
            "error_y": {
             "color": "#2a3f5f"
            },
            "marker": {
             "line": {
              "color": "#E5ECF6",
              "width": 0.5
             },
             "pattern": {
              "fillmode": "overlay",
              "size": 10,
              "solidity": 0.2
             }
            },
            "type": "bar"
           }
          ],
          "barpolar": [
           {
            "marker": {
             "line": {
              "color": "#E5ECF6",
              "width": 0.5
             },
             "pattern": {
              "fillmode": "overlay",
              "size": 10,
              "solidity": 0.2
             }
            },
            "type": "barpolar"
           }
          ],
          "carpet": [
           {
            "aaxis": {
             "endlinecolor": "#2a3f5f",
             "gridcolor": "white",
             "linecolor": "white",
             "minorgridcolor": "white",
             "startlinecolor": "#2a3f5f"
            },
            "baxis": {
             "endlinecolor": "#2a3f5f",
             "gridcolor": "white",
             "linecolor": "white",
             "minorgridcolor": "white",
             "startlinecolor": "#2a3f5f"
            },
            "type": "carpet"
           }
          ],
          "choropleth": [
           {
            "colorbar": {
             "outlinewidth": 0,
             "ticks": ""
            },
            "type": "choropleth"
           }
          ],
          "contour": [
           {
            "colorbar": {
             "outlinewidth": 0,
             "ticks": ""
            },
            "colorscale": [
             [
              0,
              "#0d0887"
             ],
             [
              0.1111111111111111,
              "#46039f"
             ],
             [
              0.2222222222222222,
              "#7201a8"
             ],
             [
              0.3333333333333333,
              "#9c179e"
             ],
             [
              0.4444444444444444,
              "#bd3786"
             ],
             [
              0.5555555555555556,
              "#d8576b"
             ],
             [
              0.6666666666666666,
              "#ed7953"
             ],
             [
              0.7777777777777778,
              "#fb9f3a"
             ],
             [
              0.8888888888888888,
              "#fdca26"
             ],
             [
              1,
              "#f0f921"
             ]
            ],
            "type": "contour"
           }
          ],
          "contourcarpet": [
           {
            "colorbar": {
             "outlinewidth": 0,
             "ticks": ""
            },
            "type": "contourcarpet"
           }
          ],
          "heatmap": [
           {
            "colorbar": {
             "outlinewidth": 0,
             "ticks": ""
            },
            "colorscale": [
             [
              0,
              "#0d0887"
             ],
             [
              0.1111111111111111,
              "#46039f"
             ],
             [
              0.2222222222222222,
              "#7201a8"
             ],
             [
              0.3333333333333333,
              "#9c179e"
             ],
             [
              0.4444444444444444,
              "#bd3786"
             ],
             [
              0.5555555555555556,
              "#d8576b"
             ],
             [
              0.6666666666666666,
              "#ed7953"
             ],
             [
              0.7777777777777778,
              "#fb9f3a"
             ],
             [
              0.8888888888888888,
              "#fdca26"
             ],
             [
              1,
              "#f0f921"
             ]
            ],
            "type": "heatmap"
           }
          ],
          "heatmapgl": [
           {
            "colorbar": {
             "outlinewidth": 0,
             "ticks": ""
            },
            "colorscale": [
             [
              0,
              "#0d0887"
             ],
             [
              0.1111111111111111,
              "#46039f"
             ],
             [
              0.2222222222222222,
              "#7201a8"
             ],
             [
              0.3333333333333333,
              "#9c179e"
             ],
             [
              0.4444444444444444,
              "#bd3786"
             ],
             [
              0.5555555555555556,
              "#d8576b"
             ],
             [
              0.6666666666666666,
              "#ed7953"
             ],
             [
              0.7777777777777778,
              "#fb9f3a"
             ],
             [
              0.8888888888888888,
              "#fdca26"
             ],
             [
              1,
              "#f0f921"
             ]
            ],
            "type": "heatmapgl"
           }
          ],
          "histogram": [
           {
            "marker": {
             "pattern": {
              "fillmode": "overlay",
              "size": 10,
              "solidity": 0.2
             }
            },
            "type": "histogram"
           }
          ],
          "histogram2d": [
           {
            "colorbar": {
             "outlinewidth": 0,
             "ticks": ""
            },
            "colorscale": [
             [
              0,
              "#0d0887"
             ],
             [
              0.1111111111111111,
              "#46039f"
             ],
             [
              0.2222222222222222,
              "#7201a8"
             ],
             [
              0.3333333333333333,
              "#9c179e"
             ],
             [
              0.4444444444444444,
              "#bd3786"
             ],
             [
              0.5555555555555556,
              "#d8576b"
             ],
             [
              0.6666666666666666,
              "#ed7953"
             ],
             [
              0.7777777777777778,
              "#fb9f3a"
             ],
             [
              0.8888888888888888,
              "#fdca26"
             ],
             [
              1,
              "#f0f921"
             ]
            ],
            "type": "histogram2d"
           }
          ],
          "histogram2dcontour": [
           {
            "colorbar": {
             "outlinewidth": 0,
             "ticks": ""
            },
            "colorscale": [
             [
              0,
              "#0d0887"
             ],
             [
              0.1111111111111111,
              "#46039f"
             ],
             [
              0.2222222222222222,
              "#7201a8"
             ],
             [
              0.3333333333333333,
              "#9c179e"
             ],
             [
              0.4444444444444444,
              "#bd3786"
             ],
             [
              0.5555555555555556,
              "#d8576b"
             ],
             [
              0.6666666666666666,
              "#ed7953"
             ],
             [
              0.7777777777777778,
              "#fb9f3a"
             ],
             [
              0.8888888888888888,
              "#fdca26"
             ],
             [
              1,
              "#f0f921"
             ]
            ],
            "type": "histogram2dcontour"
           }
          ],
          "mesh3d": [
           {
            "colorbar": {
             "outlinewidth": 0,
             "ticks": ""
            },
            "type": "mesh3d"
           }
          ],
          "parcoords": [
           {
            "line": {
             "colorbar": {
              "outlinewidth": 0,
              "ticks": ""
             }
            },
            "type": "parcoords"
           }
          ],
          "pie": [
           {
            "automargin": true,
            "type": "pie"
           }
          ],
          "scatter": [
           {
            "fillpattern": {
             "fillmode": "overlay",
             "size": 10,
             "solidity": 0.2
            },
            "type": "scatter"
           }
          ],
          "scatter3d": [
           {
            "line": {
             "colorbar": {
              "outlinewidth": 0,
              "ticks": ""
             }
            },
            "marker": {
             "colorbar": {
              "outlinewidth": 0,
              "ticks": ""
             }
            },
            "type": "scatter3d"
           }
          ],
          "scattercarpet": [
           {
            "marker": {
             "colorbar": {
              "outlinewidth": 0,
              "ticks": ""
             }
            },
            "type": "scattercarpet"
           }
          ],
          "scattergeo": [
           {
            "marker": {
             "colorbar": {
              "outlinewidth": 0,
              "ticks": ""
             }
            },
            "type": "scattergeo"
           }
          ],
          "scattergl": [
           {
            "marker": {
             "colorbar": {
              "outlinewidth": 0,
              "ticks": ""
             }
            },
            "type": "scattergl"
           }
          ],
          "scattermapbox": [
           {
            "marker": {
             "colorbar": {
              "outlinewidth": 0,
              "ticks": ""
             }
            },
            "type": "scattermapbox"
           }
          ],
          "scatterpolar": [
           {
            "marker": {
             "colorbar": {
              "outlinewidth": 0,
              "ticks": ""
             }
            },
            "type": "scatterpolar"
           }
          ],
          "scatterpolargl": [
           {
            "marker": {
             "colorbar": {
              "outlinewidth": 0,
              "ticks": ""
             }
            },
            "type": "scatterpolargl"
           }
          ],
          "scatterternary": [
           {
            "marker": {
             "colorbar": {
              "outlinewidth": 0,
              "ticks": ""
             }
            },
            "type": "scatterternary"
           }
          ],
          "surface": [
           {
            "colorbar": {
             "outlinewidth": 0,
             "ticks": ""
            },
            "colorscale": [
             [
              0,
              "#0d0887"
             ],
             [
              0.1111111111111111,
              "#46039f"
             ],
             [
              0.2222222222222222,
              "#7201a8"
             ],
             [
              0.3333333333333333,
              "#9c179e"
             ],
             [
              0.4444444444444444,
              "#bd3786"
             ],
             [
              0.5555555555555556,
              "#d8576b"
             ],
             [
              0.6666666666666666,
              "#ed7953"
             ],
             [
              0.7777777777777778,
              "#fb9f3a"
             ],
             [
              0.8888888888888888,
              "#fdca26"
             ],
             [
              1,
              "#f0f921"
             ]
            ],
            "type": "surface"
           }
          ],
          "table": [
           {
            "cells": {
             "fill": {
              "color": "#EBF0F8"
             },
             "line": {
              "color": "white"
             }
            },
            "header": {
             "fill": {
              "color": "#C8D4E3"
             },
             "line": {
              "color": "white"
             }
            },
            "type": "table"
           }
          ]
         },
         "layout": {
          "annotationdefaults": {
           "arrowcolor": "#2a3f5f",
           "arrowhead": 0,
           "arrowwidth": 1
          },
          "autotypenumbers": "strict",
          "coloraxis": {
           "colorbar": {
            "outlinewidth": 0,
            "ticks": ""
           }
          },
          "colorscale": {
           "diverging": [
            [
             0,
             "#8e0152"
            ],
            [
             0.1,
             "#c51b7d"
            ],
            [
             0.2,
             "#de77ae"
            ],
            [
             0.3,
             "#f1b6da"
            ],
            [
             0.4,
             "#fde0ef"
            ],
            [
             0.5,
             "#f7f7f7"
            ],
            [
             0.6,
             "#e6f5d0"
            ],
            [
             0.7,
             "#b8e186"
            ],
            [
             0.8,
             "#7fbc41"
            ],
            [
             0.9,
             "#4d9221"
            ],
            [
             1,
             "#276419"
            ]
           ],
           "sequential": [
            [
             0,
             "#0d0887"
            ],
            [
             0.1111111111111111,
             "#46039f"
            ],
            [
             0.2222222222222222,
             "#7201a8"
            ],
            [
             0.3333333333333333,
             "#9c179e"
            ],
            [
             0.4444444444444444,
             "#bd3786"
            ],
            [
             0.5555555555555556,
             "#d8576b"
            ],
            [
             0.6666666666666666,
             "#ed7953"
            ],
            [
             0.7777777777777778,
             "#fb9f3a"
            ],
            [
             0.8888888888888888,
             "#fdca26"
            ],
            [
             1,
             "#f0f921"
            ]
           ],
           "sequentialminus": [
            [
             0,
             "#0d0887"
            ],
            [
             0.1111111111111111,
             "#46039f"
            ],
            [
             0.2222222222222222,
             "#7201a8"
            ],
            [
             0.3333333333333333,
             "#9c179e"
            ],
            [
             0.4444444444444444,
             "#bd3786"
            ],
            [
             0.5555555555555556,
             "#d8576b"
            ],
            [
             0.6666666666666666,
             "#ed7953"
            ],
            [
             0.7777777777777778,
             "#fb9f3a"
            ],
            [
             0.8888888888888888,
             "#fdca26"
            ],
            [
             1,
             "#f0f921"
            ]
           ]
          },
          "colorway": [
           "#636efa",
           "#EF553B",
           "#00cc96",
           "#ab63fa",
           "#FFA15A",
           "#19d3f3",
           "#FF6692",
           "#B6E880",
           "#FF97FF",
           "#FECB52"
          ],
          "font": {
           "color": "#2a3f5f"
          },
          "geo": {
           "bgcolor": "white",
           "lakecolor": "white",
           "landcolor": "#E5ECF6",
           "showlakes": true,
           "showland": true,
           "subunitcolor": "white"
          },
          "hoverlabel": {
           "align": "left"
          },
          "hovermode": "closest",
          "mapbox": {
           "style": "light"
          },
          "paper_bgcolor": "white",
          "plot_bgcolor": "#E5ECF6",
          "polar": {
           "angularaxis": {
            "gridcolor": "white",
            "linecolor": "white",
            "ticks": ""
           },
           "bgcolor": "#E5ECF6",
           "radialaxis": {
            "gridcolor": "white",
            "linecolor": "white",
            "ticks": ""
           }
          },
          "scene": {
           "xaxis": {
            "backgroundcolor": "#E5ECF6",
            "gridcolor": "white",
            "gridwidth": 2,
            "linecolor": "white",
            "showbackground": true,
            "ticks": "",
            "zerolinecolor": "white"
           },
           "yaxis": {
            "backgroundcolor": "#E5ECF6",
            "gridcolor": "white",
            "gridwidth": 2,
            "linecolor": "white",
            "showbackground": true,
            "ticks": "",
            "zerolinecolor": "white"
           },
           "zaxis": {
            "backgroundcolor": "#E5ECF6",
            "gridcolor": "white",
            "gridwidth": 2,
            "linecolor": "white",
            "showbackground": true,
            "ticks": "",
            "zerolinecolor": "white"
           }
          },
          "shapedefaults": {
           "line": {
            "color": "#2a3f5f"
           }
          },
          "ternary": {
           "aaxis": {
            "gridcolor": "white",
            "linecolor": "white",
            "ticks": ""
           },
           "baxis": {
            "gridcolor": "white",
            "linecolor": "white",
            "ticks": ""
           },
           "bgcolor": "#E5ECF6",
           "caxis": {
            "gridcolor": "white",
            "linecolor": "white",
            "ticks": ""
           }
          },
          "title": {
           "x": 0.05
          },
          "xaxis": {
           "automargin": true,
           "gridcolor": "white",
           "linecolor": "white",
           "ticks": "",
           "title": {
            "standoff": 15
           },
           "zerolinecolor": "white",
           "zerolinewidth": 2
          },
          "yaxis": {
           "automargin": true,
           "gridcolor": "white",
           "linecolor": "white",
           "ticks": "",
           "title": {
            "standoff": 15
           },
           "zerolinecolor": "white",
           "zerolinewidth": 2
          }
         }
        },
        "title": {
         "text": "Rental Prices of Condos Over the Years"
        },
        "xaxis": {
         "anchor": "y",
         "domain": [
          0,
          1
         ],
         "title": {
          "text": "Year"
         }
        },
        "yaxis": {
         "anchor": "x",
         "domain": [
          0,
          1
         ],
         "title": {
          "text": "Monthly Price"
         }
        }
       }
      }
     },
     "metadata": {},
     "output_type": "display_data"
    }
   ],
   "source": [
    "fig = px.line(rent, \n",
    "              x='Year', \n",
    "              y=rent.columns[2:], \n",
    "              labels={'value': 'Monthly Price', 'variable':'House Type'}, \n",
    "              title='Rental Prices of Condos Over the Years',\n",
    "              hover_name='Year',)\n",
    "\n",
    "fig.update_layout(\n",
    "    xaxis_title='Year',\n",
    "    yaxis_title='Monthly Price',\n",
    "    legend_title_text='House Type'\n",
    ")\n",
    "\n",
    "fig.show()"
   ]
  },
  {
   "cell_type": "markdown",
   "metadata": {},
   "source": [
    "## Living Costs"
   ]
  },
  {
   "cell_type": "code",
   "execution_count": 1,
   "metadata": {},
   "outputs": [
    {
     "name": "stdout",
     "output_type": "stream",
     "text": [
      "Yearly Hydro Cost\n",
      "Avg Hydro Cost: $1380.69\n"
     ]
    }
   ],
   "source": [
    "## hydro cost estimator\n",
    "\n",
    "def est_elect(usage):\n",
    "    # Est. Electricity Consumption\n",
    "    cost_off_peak = 8.7\n",
    "    cost_mid_peak = 12.2\n",
    "    cost_on_peak = 18.2\n",
    "    T_off_peak = 12\n",
    "    T_mid_peak = 6\n",
    "    T_on_peak = 6\n",
    "    fees = 50\n",
    "    trans = 1.891\n",
    "    \n",
    "    total_time = T_off_peak + T_mid_peak + T_on_peak\n",
    "    \n",
    "    weighted_average_cost = ((cost_off_peak * T_off_peak) + (cost_mid_peak * T_mid_peak) + (cost_on_peak * T_on_peak)) / total_time\n",
    "\n",
    "    return (((trans+weighted_average_cost) * usage)/100) + fees\n",
    "    # Est. Water Consumption\n",
    "def est_water(usage):\n",
    "    cost = 4.3863 # per m**3\n",
    "    return cost * usage\n",
    "\n",
    "print(f\"Yearly Hydro Cost\")\n",
    "costs = []\n",
    "for i in range(5000, 15000, 1000): # kWh\n",
    "    for j in range(100, 300, 100): # m**3\n",
    "        #print(f\"Electricity Consumption: {i} kWh. Cost ${est_elect(i):.2f}\")\n",
    "        #print(f\"Water Consumption: {(j/1000)*24:.2f} m^3. Cost ${est_water(j/1000*24):.2f}\")\n",
    "        #print(f\"Total Cost: ${est_elect(i) + est_water(j/1000*24):.2f}\")\n",
    "        costs.append(est_elect(i) + est_water(j/1000*24))\n",
    "\n",
    "avg_hydro_cost = sum(costs)/len(costs)\n",
    "print(f\"Avg Hydro Cost: ${avg_hydro_cost:.2f}\")"
   ]
  },
  {
   "cell_type": "code",
   "execution_count": 23,
   "metadata": {},
   "outputs": [
    {
     "name": "stdout",
     "output_type": "stream",
     "text": [
      "Monthly Finances \n",
      "--------------------\n",
      "Net income:  $10,250.0\n",
      "Expenses:    $5,214.56\n",
      "  Rent:          $3,000.00\n",
      "  Est. Utils:    $215.06\n",
      "  Est. Spending: $1,999.50\n",
      "Net Savings: $5,035.44\n",
      "Percent expenses of income: 51%\n",
      "===================================\n",
      "Yearly Finances \n",
      "--------------------\n",
      "Net income:  $123,000\n",
      "Expenses:    $62,574.69\n",
      "  Rent:          $36,000.00\n",
      "  Est. Utils:    $2,580.69\n",
      "  Est. Spending: $23,994.00\n",
      "Net Savings: $60,425.31\n",
      "Percent expenses of income: 51%\n"
     ]
    }
   ],
   "source": [
    "rent = 3000\n",
    "net_income = 63_000 + 60_000  # Ben (gross. $85k) + Liz (gross. $81k)\n",
    "est_util = avg_hydro_cost/12 + 100\n",
    "spending = list(range(1000, 3000))\n",
    "est_spending = sum(spending)/len(spending)\n",
    "\n",
    "expenses = (rent + est_util + est_spending) * 12\n",
    "savings = net_income - expenses\n",
    "\n",
    "print(f\"Monthly Finances \\n{'':-<20}\")\n",
    "print(f\"Net income:  ${net_income/12:,}\")\n",
    "print(f\"Expenses:    ${expenses/12:,.2f}\")\n",
    "print(f\"  Rent:          ${rent:,.2f}\")\n",
    "print(f\"  Est. Utils:    ${est_util:,.2f}\")\n",
    "print(f\"  Est. Spending: ${est_spending:,.2f}\")\n",
    "print(f\"Net Savings: ${savings/12:,.2f}\")\n",
    "print(f\"Percent expenses of income: {(expenses/12)/(net_income/12)*100:.0f}%\")\n",
    "print(f\"{'':=<35}\")\n",
    "print(f\"Yearly Finances \\n{'':-<20}\")\n",
    "print(f\"Net income:  ${net_income:,}\")\n",
    "print(f\"Expenses:    ${expenses:,.2f}\")\n",
    "print(f\"  Rent:          ${rent * 12:,.2f}\")\n",
    "print(f\"  Est. Utils:    ${est_util * 12:,.2f}\")\n",
    "print(f\"  Est. Spending: ${est_spending * 12:,.2f}\")\n",
    "print(f\"Net Savings: ${savings:,.2f}\")\n",
    "print(f\"Percent expenses of income: {expenses/net_income*100:.0f}%\")"
   ]
  },
  {
   "cell_type": "markdown",
   "metadata": {},
   "source": [
    "### Savings"
   ]
  },
  {
   "cell_type": "code",
   "execution_count": 284,
   "metadata": {},
   "outputs": [
    {
     "data": {
      "application/vnd.jupyter.widget-view+json": {
       "model_id": "dd6ddcdb498f4bc196cd80e55b53d81c",
       "version_major": 2,
       "version_minor": 0
      },
      "text/plain": [
       "interactive(children=(IntSlider(value=4, description='Years: ', max=10, min=1, style=SliderStyle(handle_color=…"
      ]
     },
     "metadata": {},
     "output_type": "display_data"
    },
    {
     "data": {
      "text/plain": [
       "<function __main__.update_years(years)>"
      ]
     },
     "execution_count": 284,
     "metadata": {},
     "output_type": "execute_result"
    }
   ],
   "source": [
    "def update_years(years):\n",
    "    print(f\"Savings after {years} years: ${savings*years:,.2f}\")\n",
    "\n",
    "interact(update_years,  \n",
    "         years=widgets.IntSlider(value=4, min=1, max=10, step=1, description='Years: ', style={'handle_color': 'blue'}))"
   ]
  },
  {
   "cell_type": "code",
   "execution_count": 368,
   "metadata": {},
   "outputs": [],
   "source": [
    "class Mortgage(Loan):\n",
    "    def __init__(self, principal, interest, term, term_unit='years', compounded='monthly', currency='$'):\n",
    "        super().__init__(principal, interest, term, term_unit, compounded, currency)\n",
    "\n",
    "    @property\n",
    "    def n_payments(self):\n",
    "        return len(self._schedule)\n",
    "    \n",
    "    @property\n",
    "    def summarize(self):\n",
    "        print('Original Balance:         {}{:>11,}'.format(self._currency,self.principal))\n",
    "        print('Interest Rate:             {:>11.2f} %'.format(self.interest * 100))\n",
    "        print('APY:                       {:>11} %'.format(self.apy))\n",
    "        print('APR:                       {:>11} %'.format(self.apr))\n",
    "        print('Term:                      {:>11} {}'.format(self.term, self.term_unit))\n",
    "        print('Monthly Payment:          {}{:>11}'.format(self._currency,self.monthly_payment))\n",
    "        print('')\n",
    "        print('Total principal payments: {}{:>11,}'.format(self._currency,self.total_principal))\n",
    "        print('Total interest payments:  {}{:>11,}'.format(self._currency,self.total_interest))\n",
    "        print('Total payments:           {}{:>11,}'.format(self._currency,self.total_paid))\n",
    "        print('Interest to principal:     {:>11} %'.format(self.interest_to_principle))\n",
    "        print('Years to pay:              {:>11}'.format(self.years_to_pay))\n",
    "\n",
    "    @property\n",
    "    def schedule_df(self):\n",
    "        data = []\n",
    "        for i, p in enumerate(self._schedule):\n",
    "            if i == 0:\n",
    "                continue\n",
    "            data.append({\n",
    "                \"Payment Number\": i,\n",
    "                \"Payment\": p.payment,\n",
    "                \"Interest\": p.interest,\n",
    "                \"Principal\": p.principal,\n",
    "                \"Balance\": p.balance\n",
    "            })\n",
    "        df = pd.DataFrame(data)\n",
    "        df['Years'] = df[\"Payment Number\"]// 12\n",
    "        return df\n",
    "    \n",
    "    def schedule(self, nth_payment=None):\n",
    "        if nth_payment:\n",
    "            data = self._schedule[nth_payment]\n",
    "        else:\n",
    "            data = self._schedule[1:]\n",
    "        return data\n",
    "\n",
    "\n",
    "    def schedule_graph(self, cols=[\"Interest\", \"Principal\"]):\n",
    "        fig = px.line(self.schedule_df, x=self.schedule_df[\"Payment Number\"], y=cols,\n",
    "                    labels={\"value\": \"Amount ($)\", \"variable\": \"Type\", \"x\": \"Payment Number\"},\n",
    "                    title=f\"Payment Schedule\",\n",
    "                    line_shape=\"linear\", render_mode=\"svg\")\n",
    "        fig.add_annotation(\n",
    "            text=f\"Monthly Payment = ${super().monthly_payment:,.2f}\",\n",
    "            xref=\"paper\", yref=\"paper\",\n",
    "            x=-0.025, y=1.12,\n",
    "            showarrow=False,\n",
    "            font=dict(size=14, color=\"dark blue\")\n",
    "        )\n",
    "\n",
    "        return fig\n"
   ]
  },
  {
   "cell_type": "code",
   "execution_count": 383,
   "metadata": {},
   "outputs": [
    {
     "name": "stdout",
     "output_type": "stream",
     "text": [
      "Move sliders to display the graph\n"
     ]
    },
    {
     "data": {
      "application/vnd.jupyter.widget-view+json": {
       "model_id": "b990aa8fd0df4d7586a7875b90adfb1f",
       "version_major": 2,
       "version_minor": 0
      },
      "text/plain": [
       "interactive(children=(IntSlider(value=200000, description='House Price: ', max=1500000, min=200000, step=50000…"
      ]
     },
     "metadata": {},
     "output_type": "display_data"
    },
    {
     "data": {
      "application/vnd.plotly.v1+json": {
       "config": {
        "plotlyServerURL": "https://plot.ly"
       },
       "data": [
        {
         "customdata": [
          14,
          14,
          14,
          14,
          14,
          14,
          14,
          14,
          15,
          15,
          15,
          15,
          15,
          15,
          15,
          15,
          15,
          15,
          15,
          15,
          15,
          16,
          16,
          16,
          16,
          16,
          16,
          16,
          16,
          16,
          16,
          16,
          17,
          17,
          17,
          17,
          17,
          17,
          17,
          17,
          17,
          17,
          17,
          18,
          18,
          18,
          18,
          18,
          18,
          18,
          18,
          18,
          18,
          19,
          19,
          19,
          19,
          19,
          19,
          19,
          19,
          19,
          20,
          20,
          20,
          20,
          20,
          20,
          20,
          20,
          20,
          20,
          21,
          21,
          21,
          21,
          21,
          21,
          21,
          21,
          22,
          22,
          22,
          22,
          22,
          22,
          22,
          22,
          22,
          23,
          23,
          23,
          23,
          23,
          23,
          23,
          24,
          24,
          24,
          24,
          24,
          24,
          24,
          24,
          25,
          25,
          25,
          25,
          25,
          25,
          25,
          26,
          26,
          26,
          26,
          26,
          26,
          26,
          27,
          27,
          27,
          27,
          27,
          27,
          27,
          28,
          28,
          28,
          28,
          28,
          28,
          28,
          29,
          29,
          29,
          29,
          29,
          29,
          30,
          30,
          30,
          30,
          30,
          30,
          31,
          31,
          31,
          31,
          31,
          31,
          32,
          32,
          32,
          32,
          32,
          32,
          33,
          33,
          33,
          33,
          33,
          34,
          34,
          34,
          34,
          34,
          35,
          35,
          35,
          35,
          35,
          35,
          36,
          36,
          36,
          36,
          36,
          37,
          37,
          37,
          37,
          37,
          38,
          38,
          38,
          38,
          39,
          39,
          39,
          39,
          39,
          40,
          40,
          40,
          40,
          40,
          41,
          41,
          41,
          41,
          42,
          42,
          42,
          42,
          43,
          43,
          43,
          43,
          43,
          44,
          44,
          44,
          44,
          45,
          45,
          45,
          45,
          46,
          46,
          46,
          46,
          47,
          47,
          47,
          47,
          48,
          48,
          48,
          48,
          49,
          49,
          49,
          50,
          50,
          50,
          50,
          51,
          51,
          51,
          51,
          52,
          52,
          52,
          53,
          53,
          53,
          54,
          54,
          54,
          54,
          55,
          55,
          55,
          56,
          56,
          56,
          57,
          57,
          57,
          57,
          58,
          58,
          58,
          59,
          59,
          59,
          60,
          60,
          60,
          61,
          61,
          61,
          62,
          62,
          62,
          63,
          63,
          63,
          64,
          64,
          64,
          65,
          65,
          66,
          66,
          66,
          67,
          67,
          67,
          68,
          68,
          68,
          69,
          69,
          70,
          70,
          70,
          71,
          71,
          72,
          72,
          72,
          73,
          73,
          74,
          74,
          74,
          75,
          75,
          76,
          76,
          76,
          77,
          77,
          78,
          78,
          79,
          79,
          79,
          80,
          80,
          81,
          81,
          82,
          82,
          83,
          83,
          83,
          84,
          84,
          85,
          85,
          86,
          86,
          87,
          87,
          88,
          88,
          89,
          89,
          90,
          90,
          91,
          91,
          92,
          92,
          93,
          93,
          94,
          94,
          95,
          95,
          96,
          96,
          97,
          97,
          98,
          98,
          99,
          99
         ],
         "hovertemplate": "Principal: $%{y:.2f}<br>Year: %{text}<br> % of Monthly: %{customdata}%",
         "mode": "lines",
         "name": "Principal",
         "text": [
          "0",
          "0",
          "0",
          "0",
          "0",
          "0",
          "0",
          "0",
          "0",
          "0",
          "0",
          "0",
          "1",
          "1",
          "1",
          "1",
          "1",
          "1",
          "1",
          "1",
          "1",
          "1",
          "1",
          "1",
          "2",
          "2",
          "2",
          "2",
          "2",
          "2",
          "2",
          "2",
          "2",
          "2",
          "2",
          "2",
          "3",
          "3",
          "3",
          "3",
          "3",
          "3",
          "3",
          "3",
          "3",
          "3",
          "3",
          "3",
          "4",
          "4",
          "4",
          "4",
          "4",
          "4",
          "4",
          "4",
          "4",
          "4",
          "4",
          "4",
          "5",
          "5",
          "5",
          "5",
          "5",
          "5",
          "5",
          "5",
          "5",
          "5",
          "5",
          "5",
          "6",
          "6",
          "6",
          "6",
          "6",
          "6",
          "6",
          "6",
          "6",
          "6",
          "6",
          "6",
          "7",
          "7",
          "7",
          "7",
          "7",
          "7",
          "7",
          "7",
          "7",
          "7",
          "7",
          "7",
          "8",
          "8",
          "8",
          "8",
          "8",
          "8",
          "8",
          "8",
          "8",
          "8",
          "8",
          "8",
          "9",
          "9",
          "9",
          "9",
          "9",
          "9",
          "9",
          "9",
          "9",
          "9",
          "9",
          "9",
          "10",
          "10",
          "10",
          "10",
          "10",
          "10",
          "10",
          "10",
          "10",
          "10",
          "10",
          "10",
          "11",
          "11",
          "11",
          "11",
          "11",
          "11",
          "11",
          "11",
          "11",
          "11",
          "11",
          "11",
          "12",
          "12",
          "12",
          "12",
          "12",
          "12",
          "12",
          "12",
          "12",
          "12",
          "12",
          "12",
          "13",
          "13",
          "13",
          "13",
          "13",
          "13",
          "13",
          "13",
          "13",
          "13",
          "13",
          "13",
          "14",
          "14",
          "14",
          "14",
          "14",
          "14",
          "14",
          "14",
          "14",
          "14",
          "14",
          "14",
          "15",
          "15",
          "15",
          "15",
          "15",
          "15",
          "15",
          "15",
          "15",
          "15",
          "15",
          "15",
          "16",
          "16",
          "16",
          "16",
          "16",
          "16",
          "16",
          "16",
          "16",
          "16",
          "16",
          "16",
          "17",
          "17",
          "17",
          "17",
          "17",
          "17",
          "17",
          "17",
          "17",
          "17",
          "17",
          "17",
          "18",
          "18",
          "18",
          "18",
          "18",
          "18",
          "18",
          "18",
          "18",
          "18",
          "18",
          "18",
          "19",
          "19",
          "19",
          "19",
          "19",
          "19",
          "19",
          "19",
          "19",
          "19",
          "19",
          "19",
          "20",
          "20",
          "20",
          "20",
          "20",
          "20",
          "20",
          "20",
          "20",
          "20",
          "20",
          "20",
          "21",
          "21",
          "21",
          "21",
          "21",
          "21",
          "21",
          "21",
          "21",
          "21",
          "21",
          "21",
          "22",
          "22",
          "22",
          "22",
          "22",
          "22",
          "22",
          "22",
          "22",
          "22",
          "22",
          "22",
          "23",
          "23",
          "23",
          "23",
          "23",
          "23",
          "23",
          "23",
          "23",
          "23",
          "23",
          "23",
          "24",
          "24",
          "24",
          "24",
          "24",
          "24",
          "24",
          "24",
          "24",
          "24",
          "24",
          "24",
          "25",
          "25",
          "25",
          "25",
          "25",
          "25",
          "25",
          "25",
          "25",
          "25",
          "25",
          "25",
          "26",
          "26",
          "26",
          "26",
          "26",
          "26",
          "26",
          "26",
          "26",
          "26",
          "26",
          "26",
          "27",
          "27",
          "27",
          "27",
          "27",
          "27",
          "27",
          "27",
          "27",
          "27",
          "27",
          "27",
          "28",
          "28",
          "28",
          "28",
          "28",
          "28",
          "28",
          "28",
          "28",
          "28",
          "28",
          "28",
          "29",
          "29",
          "29",
          "29",
          "29",
          "29",
          "29",
          "29",
          "29",
          "29",
          "29",
          "29"
         ],
         "type": "scatter",
         "x": [
          0,
          1,
          2,
          3,
          4,
          5,
          6,
          7,
          8,
          9,
          10,
          11,
          12,
          13,
          14,
          15,
          16,
          17,
          18,
          19,
          20,
          21,
          22,
          23,
          24,
          25,
          26,
          27,
          28,
          29,
          30,
          31,
          32,
          33,
          34,
          35,
          36,
          37,
          38,
          39,
          40,
          41,
          42,
          43,
          44,
          45,
          46,
          47,
          48,
          49,
          50,
          51,
          52,
          53,
          54,
          55,
          56,
          57,
          58,
          59,
          60,
          61,
          62,
          63,
          64,
          65,
          66,
          67,
          68,
          69,
          70,
          71,
          72,
          73,
          74,
          75,
          76,
          77,
          78,
          79,
          80,
          81,
          82,
          83,
          84,
          85,
          86,
          87,
          88,
          89,
          90,
          91,
          92,
          93,
          94,
          95,
          96,
          97,
          98,
          99,
          100,
          101,
          102,
          103,
          104,
          105,
          106,
          107,
          108,
          109,
          110,
          111,
          112,
          113,
          114,
          115,
          116,
          117,
          118,
          119,
          120,
          121,
          122,
          123,
          124,
          125,
          126,
          127,
          128,
          129,
          130,
          131,
          132,
          133,
          134,
          135,
          136,
          137,
          138,
          139,
          140,
          141,
          142,
          143,
          144,
          145,
          146,
          147,
          148,
          149,
          150,
          151,
          152,
          153,
          154,
          155,
          156,
          157,
          158,
          159,
          160,
          161,
          162,
          163,
          164,
          165,
          166,
          167,
          168,
          169,
          170,
          171,
          172,
          173,
          174,
          175,
          176,
          177,
          178,
          179,
          180,
          181,
          182,
          183,
          184,
          185,
          186,
          187,
          188,
          189,
          190,
          191,
          192,
          193,
          194,
          195,
          196,
          197,
          198,
          199,
          200,
          201,
          202,
          203,
          204,
          205,
          206,
          207,
          208,
          209,
          210,
          211,
          212,
          213,
          214,
          215,
          216,
          217,
          218,
          219,
          220,
          221,
          222,
          223,
          224,
          225,
          226,
          227,
          228,
          229,
          230,
          231,
          232,
          233,
          234,
          235,
          236,
          237,
          238,
          239,
          240,
          241,
          242,
          243,
          244,
          245,
          246,
          247,
          248,
          249,
          250,
          251,
          252,
          253,
          254,
          255,
          256,
          257,
          258,
          259,
          260,
          261,
          262,
          263,
          264,
          265,
          266,
          267,
          268,
          269,
          270,
          271,
          272,
          273,
          274,
          275,
          276,
          277,
          278,
          279,
          280,
          281,
          282,
          283,
          284,
          285,
          286,
          287,
          288,
          289,
          290,
          291,
          292,
          293,
          294,
          295,
          296,
          297,
          298,
          299,
          300,
          301,
          302,
          303,
          304,
          305,
          306,
          307,
          308,
          309,
          310,
          311,
          312,
          313,
          314,
          315,
          316,
          317,
          318,
          319,
          320,
          321,
          322,
          323,
          324,
          325,
          326,
          327,
          328,
          329,
          330,
          331,
          332,
          333,
          334,
          335,
          336,
          337,
          338,
          339,
          340,
          341,
          342,
          343,
          344,
          345,
          346,
          347,
          348,
          349,
          350,
          351,
          352,
          353,
          354,
          355,
          356,
          357,
          358,
          359
         ],
         "y": [
          709.2705441972284,
          713.1715321903132,
          717.0939756173599,
          721.0379924832554,
          725.0037014419133,
          728.9912217998439,
          733.0006735197429,
          737.0321772241016,
          741.0858541988341,
          745.1618263969277,
          749.2602164421108,
          753.3811476325424,
          757.5247439445213,
          761.6911300362162,
          765.8804312514154,
          770.0927736232983,
          774.3282838782263,
          778.5870894395566,
          782.8693184314742,
          787.1750996828473,
          791.504562731103,
          795.857837826124,
          800.2350559341677,
          804.6363487418056,
          809.0618486598855,
          813.511688827515,
          817.9860031160663,
          822.4849261332046,
          827.0085932269373,
          831.5571404896854,
          836.1307047623786,
          840.7294236385718,
          845.3534354685839,
          850.0028793636611,
          854.6778952001613,
          859.3786236237621,
          864.1052060536928,
          868.8577846869881,
          873.6365025027666,
          878.4415032665318,
          883.2729315344977,
          888.1309326579375,
          893.0156527875561,
          897.9272388778877,
          902.865838691716,
          907.8316008045205,
          912.8246746089453,
          917.8452103192946,
          922.8933589760506,
          927.969272450419,
          933.0731034488963,
          938.2050055178652,
          943.3651330482135,
          948.5536412799786,
          953.7706863070185,
          959.0164250817071,
          964.2910154196564,
          969.5946160044646,
          974.9273863924892,
          980.2894870176478,
          985.6810791962449,
          991.1023251318243,
          996.5533879200493,
          1002.0344315536096,
          1007.5456209271545,
          1013.0871218422537,
          1018.6591010123861,
          1024.2617260679542,
          1029.895165561328,
          1035.5595889719154,
          1041.255166711261,
          1046.9820701281728,
          1052.7404715138778,
          1058.5305441072042,
          1064.3524620997937,
          1070.2064006413425,
          1076.0925358448699,
          1082.0110447920167,
          1087.962105538373,
          1093.945897118834,
          1099.9625995529875,
          1106.012393850529,
          1112.0954620167067,
          1118.2119870577988,
          1124.3621529866166,
          1130.546144828043,
          1136.7641486245973,
          1143.0163514420326,
          1149.3029413749637,
          1155.624107552526,
          1161.9800401440648,
          1168.3709303648573,
          1174.796970481864,
          1181.2583538195142,
          1187.7552747655216,
          1194.2879287767319,
          1200.856512385004,
          1207.4612232031216,
          1214.1022599307387,
          1220.7798223603577,
          1227.4941113833397,
          1234.245328995948,
          1241.0336783054258,
          1247.8593635361055,
          1254.7225900355543,
          1261.6235642807496,
          1268.5624938842939,
          1275.5395876006576,
          1282.555055332461,
          1289.6091081367897,
          1296.701958231542,
          1303.8338190018155,
          1311.0049050063253,
          1318.2154319838603,
          1325.4656168597714,
          1332.7556777525,
          1340.085833980139,
          1347.4563060670298,
          1354.8673157503983,
          1362.3190859870256,
          1369.8118409599542,
          1377.345806085234,
          1384.9212080187028,
          1392.5382746628056,
          1400.197235173451,
          1407.898319966905,
          1415.641760726723,
          1423.42779041072,
          1431.256643257979,
          1439.1285547958978,
          1447.0437618472752,
          1455.0025025374352,
          1463.0050163013912,
          1471.0515438910488,
          1479.1423273824496,
          1487.277610183053,
          1495.4576370390598,
          1503.6826540427746,
          1511.95290864001,
          1520.26864963753,
          1528.6301272105363,
          1537.0375929101945,
          1545.4912996712005,
          1553.991501819392,
          1562.5384550793988,
          1571.1324165823353,
          1579.7736448735382,
          1588.4623999203427,
          1597.1989431199045,
          1605.9835373070641,
          1614.816446762253,
          1623.6979372194453,
          1632.6282758741522,
          1641.60773139146,
          1650.6365739141131,
          1659.7150750706408,
          1668.8435079835292,
          1678.0221472774388,
          1687.2512690874646,
          1696.5311510674455,
          1705.8620723983165,
          1715.2443137965074,
          1724.6781575223881,
          1734.1638873887612,
          1743.7017887693994,
          1753.2921486076311,
          1762.935255424973,
          1772.6313993298104,
          1782.3808720261245,
          1792.183966822268,
          1802.0409786397906,
          1811.9522040223094,
          1821.9179411444322,
          1831.9384898207265,
          1842.0141515147404,
          1852.1452293480716,
          1862.332028109486,
          1872.5748542640881,
          1882.8740159625406,
          1893.2298230503345,
          1903.6425870771116,
          1914.1126213060356,
          1924.6402407232188,
          1935.2257620471964,
          1945.8695037384562,
          1956.5717860090176,
          1967.3329308320672,
          1978.1532619516436,
          1989.0331048923777,
          1999.9727869692856,
          2010.9726372976168,
          2022.0329868027536,
          2033.1541682301688,
          2044.3365161554348,
          2055.5803669942898,
          2066.8860590127583,
          2078.2539323373285,
          2089.684328965184,
          2101.177592774492,
          2112.734069534752,
          2124.354106917193,
          2136.0380545052376,
          2147.7862638050165,
          2159.599088255944,
          2171.4768832413515,
          2183.4200060991793,
          2195.4288161327245,
          2207.5036746214546,
          2219.6449448318726,
          2231.8529920284477,
          2244.1281834846045,
          2256.4708884937695,
          2268.8814783804855,
          2281.360326511578,
          2293.907808307392,
          2306.5243012530823,
          2319.2101849099745,
          2331.965840926979,
          2344.7916530520774,
          2357.688007143864,
          2370.6552911831554,
          2383.6938952846626,
          2396.8042117087284,
          2409.986634873126,
          2423.2415613649287,
          2436.569389952436,
          2449.970521597174,
          2463.4453594659585,
          2476.994308943021,
          2490.617777642208,
          2504.31617541924,
          2518.0899143840456,
          2531.939408913158,
          2545.8650756621805,
          2559.8673335783224,
          2573.9466039130034,
          2588.1033102345245,
          2602.3378784408146,
          2616.6507367722393,
          2631.042315824486,
          2645.513048561521,
          2660.0633703286094,
          2674.693718865417,
          2689.4045343191765,
          2704.196259257932,
          2719.0693386838507,
          2734.024220046612,
          2749.061353256868,
          2764.181190699781,
          2779.3841872486296,
          2794.670800278497,
          2810.041489680029,
          2825.496717873269,
          2841.0369498215723,
          2856.662653045591,
          2872.3742976373414,
          2888.172356274347,
          2904.057304233856,
          2920.029619407142,
          2936.089782313881,
          2952.2382761166077,
          2968.475586635249,
          2984.8022023617427,
          3001.2186144747325,
          3017.7253168543434,
          3034.3228060970423,
          3051.011581530576,
          3067.7921452289943,
          3084.665002027754,
          3101.6306595389065,
          3118.6896281663703,
          3135.8424211212855,
          3153.0895544374525,
          3170.4315469868584,
          3187.868920495286,
          3205.40219955801,
          3223.0319116555793,
          3240.758587169685,
          3258.5827593991185,
          3276.5049645758136,
          3294.5257418809806,
          3312.645633461326,
          3330.865184445363,
          3349.184942959813,
          3367.6054601460914,
          3386.1272901768953,
          3404.750990272868,
          3423.477120719369,
          3442.3062448833252,
          3461.2389292301837,
          3480.2757433409497,
          3499.4172599293247,
          3518.664054858936,
          3538.01670716066,
          3557.475799050044,
          3577.0419159448193,
          3596.7156464825157,
          3616.4975825381694,
          3636.3883192421295,
          3656.388454997961,
          3676.49859150045,
          3696.7193337537024,
          3717.0512900893477,
          3737.495072184839,
          3758.0512950818556,
          3778.720577204806,
          3799.5035403794327,
          3820.400809851519,
          3841.4130143057027,
          3862.540785884384,
          3883.784760206748,
          3905.1455763878853,
          3926.6238770580185,
          3948.2203083818376,
          3969.935520077938,
          3991.7701654383663,
          4013.7249013482774,
          4035.800388305693,
          4057.9972904413744,
          4080.316275538802,
          4102.758015054265,
          4125.323184137063,
          4148.012461649818,
          4170.826530188891,
          4193.766076104931,
          4216.831789523508,
          4240.024364365887,
          4263.344498369899,
          4286.792893110934,
          4310.370254023044,
          4334.07729042017,
          4357.914715517481,
          4381.883246452828,
          4405.983604308319,
          4430.216514132014,
          4454.58270495974,
          4479.082909837019,
          4503.717865841122,
          4528.488314103249,
          4553.394999830816,
          4578.438672329886,
          4603.6200850277,
          4628.939995495352,
          4654.399165470577,
          4679.998360880665,
          4705.738351865509,
          4731.619912800769,
          4757.6438223211735,
          4783.81086334394,
          4810.121823092331,
          4836.577493119339,
          4863.178669331496,
          4889.926152012819,
          4916.82074584889,
          4943.863259951058,
          4971.054507880789,
          4998.395307674134,
          5025.8864818663415,
          5053.528857516606,
          5081.323266232947
         ]
        },
        {
         "customdata": [
          86,
          86,
          86,
          86,
          86,
          86,
          86,
          86,
          85,
          85,
          85,
          85,
          85,
          85,
          85,
          85,
          85,
          85,
          85,
          85,
          85,
          84,
          84,
          84,
          84,
          84,
          84,
          84,
          84,
          84,
          84,
          84,
          83,
          83,
          83,
          83,
          83,
          83,
          83,
          83,
          83,
          83,
          83,
          82,
          82,
          82,
          82,
          82,
          82,
          82,
          82,
          82,
          82,
          81,
          81,
          81,
          81,
          81,
          81,
          81,
          81,
          81,
          80,
          80,
          80,
          80,
          80,
          80,
          80,
          80,
          80,
          80,
          79,
          79,
          79,
          79,
          79,
          79,
          79,
          79,
          78,
          78,
          78,
          78,
          78,
          78,
          78,
          78,
          78,
          77,
          77,
          77,
          77,
          77,
          77,
          77,
          76,
          76,
          76,
          76,
          76,
          76,
          76,
          76,
          75,
          75,
          75,
          75,
          75,
          75,
          75,
          74,
          74,
          74,
          74,
          74,
          74,
          74,
          73,
          73,
          73,
          73,
          73,
          73,
          73,
          72,
          72,
          72,
          72,
          72,
          72,
          72,
          71,
          71,
          71,
          71,
          71,
          71,
          70,
          70,
          70,
          70,
          70,
          70,
          69,
          69,
          69,
          69,
          69,
          69,
          68,
          68,
          68,
          68,
          68,
          68,
          67,
          67,
          67,
          67,
          67,
          66,
          66,
          66,
          66,
          66,
          65,
          65,
          65,
          65,
          65,
          65,
          64,
          64,
          64,
          64,
          64,
          63,
          63,
          63,
          63,
          63,
          62,
          62,
          62,
          62,
          61,
          61,
          61,
          61,
          61,
          60,
          60,
          60,
          60,
          60,
          59,
          59,
          59,
          59,
          58,
          58,
          58,
          58,
          57,
          57,
          57,
          57,
          57,
          56,
          56,
          56,
          56,
          55,
          55,
          55,
          55,
          54,
          54,
          54,
          54,
          53,
          53,
          53,
          53,
          52,
          52,
          52,
          52,
          51,
          51,
          51,
          50,
          50,
          50,
          50,
          49,
          49,
          49,
          49,
          48,
          48,
          48,
          47,
          47,
          47,
          46,
          46,
          46,
          46,
          45,
          45,
          45,
          44,
          44,
          44,
          43,
          43,
          43,
          43,
          42,
          42,
          42,
          41,
          41,
          41,
          40,
          40,
          40,
          39,
          39,
          39,
          38,
          38,
          38,
          37,
          37,
          37,
          36,
          36,
          36,
          35,
          35,
          34,
          34,
          34,
          33,
          33,
          33,
          32,
          32,
          32,
          31,
          31,
          30,
          30,
          30,
          29,
          29,
          28,
          28,
          28,
          27,
          27,
          26,
          26,
          26,
          25,
          25,
          24,
          24,
          24,
          23,
          23,
          22,
          22,
          21,
          21,
          21,
          20,
          20,
          19,
          19,
          18,
          18,
          17,
          17,
          17,
          16,
          16,
          15,
          15,
          14,
          14,
          13,
          13,
          12,
          12,
          11,
          11,
          10,
          10,
          9,
          9,
          8,
          8,
          7,
          7,
          6,
          6,
          5,
          5,
          4,
          4,
          3,
          3,
          2,
          2,
          1,
          1
         ],
         "hovertemplate": "Interest: $%{y:.2f}<br>Year: %{text}<br> % of Monthly: %{customdata}%",
         "mode": "lines",
         "name": "Interest",
         "text": [
          "0",
          "0",
          "0",
          "0",
          "0",
          "0",
          "0",
          "0",
          "0",
          "0",
          "0",
          "0",
          "1",
          "1",
          "1",
          "1",
          "1",
          "1",
          "1",
          "1",
          "1",
          "1",
          "1",
          "1",
          "2",
          "2",
          "2",
          "2",
          "2",
          "2",
          "2",
          "2",
          "2",
          "2",
          "2",
          "2",
          "3",
          "3",
          "3",
          "3",
          "3",
          "3",
          "3",
          "3",
          "3",
          "3",
          "3",
          "3",
          "4",
          "4",
          "4",
          "4",
          "4",
          "4",
          "4",
          "4",
          "4",
          "4",
          "4",
          "4",
          "5",
          "5",
          "5",
          "5",
          "5",
          "5",
          "5",
          "5",
          "5",
          "5",
          "5",
          "5",
          "6",
          "6",
          "6",
          "6",
          "6",
          "6",
          "6",
          "6",
          "6",
          "6",
          "6",
          "6",
          "7",
          "7",
          "7",
          "7",
          "7",
          "7",
          "7",
          "7",
          "7",
          "7",
          "7",
          "7",
          "8",
          "8",
          "8",
          "8",
          "8",
          "8",
          "8",
          "8",
          "8",
          "8",
          "8",
          "8",
          "9",
          "9",
          "9",
          "9",
          "9",
          "9",
          "9",
          "9",
          "9",
          "9",
          "9",
          "9",
          "10",
          "10",
          "10",
          "10",
          "10",
          "10",
          "10",
          "10",
          "10",
          "10",
          "10",
          "10",
          "11",
          "11",
          "11",
          "11",
          "11",
          "11",
          "11",
          "11",
          "11",
          "11",
          "11",
          "11",
          "12",
          "12",
          "12",
          "12",
          "12",
          "12",
          "12",
          "12",
          "12",
          "12",
          "12",
          "12",
          "13",
          "13",
          "13",
          "13",
          "13",
          "13",
          "13",
          "13",
          "13",
          "13",
          "13",
          "13",
          "14",
          "14",
          "14",
          "14",
          "14",
          "14",
          "14",
          "14",
          "14",
          "14",
          "14",
          "14",
          "15",
          "15",
          "15",
          "15",
          "15",
          "15",
          "15",
          "15",
          "15",
          "15",
          "15",
          "15",
          "16",
          "16",
          "16",
          "16",
          "16",
          "16",
          "16",
          "16",
          "16",
          "16",
          "16",
          "16",
          "17",
          "17",
          "17",
          "17",
          "17",
          "17",
          "17",
          "17",
          "17",
          "17",
          "17",
          "17",
          "18",
          "18",
          "18",
          "18",
          "18",
          "18",
          "18",
          "18",
          "18",
          "18",
          "18",
          "18",
          "19",
          "19",
          "19",
          "19",
          "19",
          "19",
          "19",
          "19",
          "19",
          "19",
          "19",
          "19",
          "20",
          "20",
          "20",
          "20",
          "20",
          "20",
          "20",
          "20",
          "20",
          "20",
          "20",
          "20",
          "21",
          "21",
          "21",
          "21",
          "21",
          "21",
          "21",
          "21",
          "21",
          "21",
          "21",
          "21",
          "22",
          "22",
          "22",
          "22",
          "22",
          "22",
          "22",
          "22",
          "22",
          "22",
          "22",
          "22",
          "23",
          "23",
          "23",
          "23",
          "23",
          "23",
          "23",
          "23",
          "23",
          "23",
          "23",
          "23",
          "24",
          "24",
          "24",
          "24",
          "24",
          "24",
          "24",
          "24",
          "24",
          "24",
          "24",
          "24",
          "25",
          "25",
          "25",
          "25",
          "25",
          "25",
          "25",
          "25",
          "25",
          "25",
          "25",
          "25",
          "26",
          "26",
          "26",
          "26",
          "26",
          "26",
          "26",
          "26",
          "26",
          "26",
          "26",
          "26",
          "27",
          "27",
          "27",
          "27",
          "27",
          "27",
          "27",
          "27",
          "27",
          "27",
          "27",
          "27",
          "28",
          "28",
          "28",
          "28",
          "28",
          "28",
          "28",
          "28",
          "28",
          "28",
          "28",
          "28",
          "29",
          "29",
          "29",
          "29",
          "29",
          "29",
          "29",
          "29",
          "29",
          "29",
          "29",
          "29"
         ],
         "type": "scatter",
         "x": [
          0,
          1,
          2,
          3,
          4,
          5,
          6,
          7,
          8,
          9,
          10,
          11,
          12,
          13,
          14,
          15,
          16,
          17,
          18,
          19,
          20,
          21,
          22,
          23,
          24,
          25,
          26,
          27,
          28,
          29,
          30,
          31,
          32,
          33,
          34,
          35,
          36,
          37,
          38,
          39,
          40,
          41,
          42,
          43,
          44,
          45,
          46,
          47,
          48,
          49,
          50,
          51,
          52,
          53,
          54,
          55,
          56,
          57,
          58,
          59,
          60,
          61,
          62,
          63,
          64,
          65,
          66,
          67,
          68,
          69,
          70,
          71,
          72,
          73,
          74,
          75,
          76,
          77,
          78,
          79,
          80,
          81,
          82,
          83,
          84,
          85,
          86,
          87,
          88,
          89,
          90,
          91,
          92,
          93,
          94,
          95,
          96,
          97,
          98,
          99,
          100,
          101,
          102,
          103,
          104,
          105,
          106,
          107,
          108,
          109,
          110,
          111,
          112,
          113,
          114,
          115,
          116,
          117,
          118,
          119,
          120,
          121,
          122,
          123,
          124,
          125,
          126,
          127,
          128,
          129,
          130,
          131,
          132,
          133,
          134,
          135,
          136,
          137,
          138,
          139,
          140,
          141,
          142,
          143,
          144,
          145,
          146,
          147,
          148,
          149,
          150,
          151,
          152,
          153,
          154,
          155,
          156,
          157,
          158,
          159,
          160,
          161,
          162,
          163,
          164,
          165,
          166,
          167,
          168,
          169,
          170,
          171,
          172,
          173,
          174,
          175,
          176,
          177,
          178,
          179,
          180,
          181,
          182,
          183,
          184,
          185,
          186,
          187,
          188,
          189,
          190,
          191,
          192,
          193,
          194,
          195,
          196,
          197,
          198,
          199,
          200,
          201,
          202,
          203,
          204,
          205,
          206,
          207,
          208,
          209,
          210,
          211,
          212,
          213,
          214,
          215,
          216,
          217,
          218,
          219,
          220,
          221,
          222,
          223,
          224,
          225,
          226,
          227,
          228,
          229,
          230,
          231,
          232,
          233,
          234,
          235,
          236,
          237,
          238,
          239,
          240,
          241,
          242,
          243,
          244,
          245,
          246,
          247,
          248,
          249,
          250,
          251,
          252,
          253,
          254,
          255,
          256,
          257,
          258,
          259,
          260,
          261,
          262,
          263,
          264,
          265,
          266,
          267,
          268,
          269,
          270,
          271,
          272,
          273,
          274,
          275,
          276,
          277,
          278,
          279,
          280,
          281,
          282,
          283,
          284,
          285,
          286,
          287,
          288,
          289,
          290,
          291,
          292,
          293,
          294,
          295,
          296,
          297,
          298,
          299,
          300,
          301,
          302,
          303,
          304,
          305,
          306,
          307,
          308,
          309,
          310,
          311,
          312,
          313,
          314,
          315,
          316,
          317,
          318,
          319,
          320,
          321,
          322,
          323,
          324,
          325,
          326,
          327,
          328,
          329,
          330,
          331,
          332,
          333,
          334,
          335,
          336,
          337,
          338,
          339,
          340,
          341,
          342,
          343,
          344,
          345,
          346,
          347,
          348,
          349,
          350,
          351,
          352,
          353,
          354,
          355,
          356,
          357,
          358,
          359
         ],
         "y": [
          4400,
          4396.0990120069155,
          4392.176568579869,
          4388.232551713973,
          4384.266842755315,
          4380.279322397385,
          4376.269870677485,
          4372.238366973127,
          4368.184689998395,
          4364.108717800301,
          4360.010327755118,
          4355.889396564687,
          4351.745800252707,
          4347.579414161012,
          4343.390112945814,
          4339.1777705739305,
          4334.942260319002,
          4330.683454757672,
          4326.401225765755,
          4322.095444514382,
          4317.765981466126,
          4313.412706371105,
          4309.035488263061,
          4304.634195455423,
          4300.208695537343,
          4295.758855369714,
          4291.284541081162,
          4286.785618064024,
          4282.261950970292,
          4277.713403707543,
          4273.13983943485,
          4268.541120558657,
          4263.917108728645,
          4259.267664833567,
          4254.592648997068,
          4249.891920573466,
          4245.165338143536,
          4240.412759510241,
          4235.634041694462,
          4230.829040930697,
          4225.997612662731,
          4221.139611539292,
          4216.254891409672,
          4211.343305319341,
          4206.4047055055125,
          4201.438943392708,
          4196.445869588283,
          4191.4253338779345,
          4186.3771852211785,
          4181.30127174681,
          4176.197440748332,
          4171.065538679363,
          4165.905411149015,
          4160.71690291725,
          4155.4998578902105,
          4150.2541191155215,
          4144.979528777572,
          4139.675928192764,
          4134.343157804739,
          4128.981057179581,
          4123.589465000984,
          4118.168219065405,
          4112.717156277179,
          4107.236112643619,
          4101.724923270074,
          4096.183422354975,
          4090.6114431848428,
          4085.0088181292745,
          4079.3753786359007,
          4073.7109552253132,
          4068.0153774859677,
          4062.288474069056,
          4056.530072683351,
          4050.7400000900248,
          4044.918082097435,
          4039.0641435558864,
          4033.178008352359,
          4027.259499405212,
          4021.3084386588557,
          4015.3246470783947,
          4009.307944644241,
          4003.2581503467,
          3997.175082180522,
          3991.05855713943,
          3984.908391210612,
          3978.724399369186,
          3972.5063955726314,
          3966.254192755196,
          3959.9676028222652,
          3953.6464366447026,
          3947.290504053164,
          3940.8996138323714,
          3934.4735737153646,
          3928.0121903777144,
          3921.515269431707,
          3914.982615420497,
          3908.414031812225,
          3901.809320994107,
          3895.16828426649,
          3888.490721836871,
          3881.776432813889,
          3875.025215201281,
          3868.236865891803,
          3861.411180661123,
          3854.5479541616746,
          3847.6469799164793,
          3840.708050312935,
          3833.730956596571,
          3826.715488864768,
          3819.661436060439,
          3812.568585965687,
          3805.436725195413,
          3798.2656391909036,
          3791.0551122133684,
          3783.8049273374572,
          3776.514866444729,
          3769.18471021709,
          3761.814238130199,
          3754.4032284468303,
          3746.9514582102033,
          3739.4587032372747,
          3731.924738111995,
          3724.349336178526,
          3716.7322695344233,
          3709.0733090237777,
          3701.372224230324,
          3693.628783470506,
          3685.8427537865086,
          3678.0139009392497,
          3670.141989401331,
          3662.2267823499537,
          3654.2680416597937,
          3646.2655278958377,
          3638.21900030618,
          3630.128216814779,
          3621.9929340141757,
          3613.812907158169,
          3605.5878901544543,
          3597.3176355572186,
          3589.001894559699,
          3580.6404169866923,
          3572.232951287034,
          3563.7792445260284,
          3555.279042377837,
          3546.73208911783,
          3538.1381276148936,
          3529.4968993236907,
          3520.808144276886,
          3512.0716010773244,
          3503.287006890165,
          3494.4540974349757,
          3485.5726069777834,
          3476.6422683230767,
          3467.6628128057687,
          3458.6339702831156,
          3449.555469126588,
          3440.4270362136995,
          3431.24839691979,
          3422.0192751097643,
          3412.7393931297834,
          3403.408471798912,
          3394.0262304007215,
          3384.592386674841,
          3375.1066568084675,
          3365.5687554278293,
          3355.9783955895978,
          3346.335288772256,
          3336.6391448674185,
          3326.8896721711044,
          3317.0865773749606,
          3307.229565557438,
          3297.3183401749193,
          3287.3526030527964,
          3277.332054376502,
          3267.2563926824882,
          3257.1253148491573,
          3246.9385160877428,
          3236.695689933141,
          3226.396528234688,
          3216.040721146894,
          3205.627957120117,
          3195.1579228911933,
          3184.63030347401,
          3174.0447821500325,
          3163.4010404587725,
          3152.6987581882113,
          3141.9376133651617,
          3131.117282245585,
          3120.2374393048513,
          3109.2977572279433,
          3098.297906899612,
          3087.237557394475,
          3076.11637596706,
          3064.934028041794,
          3053.690177202939,
          3042.3844851844706,
          3031.0166118599004,
          3019.586215232045,
          3008.0929514227364,
          2996.536474662477,
          2984.9164372800356,
          2973.2324896919913,
          2961.4842803922124,
          2949.671455941285,
          2937.793660955877,
          2925.8505380980496,
          2913.8417280645044,
          2901.7668695757743,
          2889.6255993653563,
          2877.4175521687807,
          2865.1423607126244,
          2852.799655703459,
          2840.3890658167434,
          2827.910217685651,
          2815.362735889837,
          2802.746242944146,
          2790.0603592872544,
          2777.30470327025,
          2764.478891145151,
          2751.582537053365,
          2738.6152530140735,
          2725.5766489125663,
          2712.4663324885005,
          2699.2839093241023,
          2686.0289828323002,
          2672.701154244793,
          2659.300022600055,
          2645.8251847312704,
          2632.2762352542077,
          2618.652766555021,
          2604.9543687779887,
          2591.180629813183,
          2577.3311352840706,
          2563.4054685350484,
          2549.4032106189065,
          2535.3239402842255,
          2521.167233962704,
          2506.9326657564143,
          2492.6198074249896,
          2478.2282283727423,
          2463.7574956357075,
          2449.2071738686195,
          2434.576825331812,
          2419.8660098780524,
          2405.074284939297,
          2390.201205513378,
          2375.246324150617,
          2360.2091909403607,
          2345.089353497448,
          2329.886356948599,
          2314.5997439187313,
          2299.2290545172,
          2283.7738263239594,
          2268.2335943756566,
          2252.607891151638,
          2236.896246559887,
          2221.098187922882,
          2205.213239963373,
          2189.240924790087,
          2173.1807618833473,
          2157.032268080621,
          2140.7949575619796,
          2124.4683418354857,
          2108.0519297224964,
          2091.5452273428855,
          2074.9477381001866,
          2058.2589626666527,
          2041.4783989682344,
          2024.605542169475,
          2007.6398846583224,
          1990.5809160308584,
          1973.4281230759434,
          1956.1809897597764,
          1938.8389972103703,
          1921.4016237019425,
          1903.8683446392185,
          1886.2386325416494,
          1868.5119570275438,
          1850.6877847981104,
          1832.7655796214153,
          1814.7448023162483,
          1796.6249107359029,
          1778.4053597518657,
          1760.085601237416,
          1741.6650840511372,
          1723.1432540203336,
          1704.5195539243607,
          1685.79342347786,
          1666.9642993139034,
          1648.0316149670452,
          1628.9948008562792,
          1609.853284267904,
          1590.6064893382927,
          1571.2538370365685,
          1551.7947451471848,
          1532.2286282524096,
          1512.554897714713,
          1492.7729616590593,
          1472.8822249550992,
          1452.8820891992675,
          1432.7719526967787,
          1412.5512104435263,
          1392.219254107881,
          1371.7754720123896,
          1351.219249115373,
          1330.5499669924227,
          1309.7670038177962,
          1288.8697343457095,
          1267.8575298915262,
          1246.7297583128448,
          1225.4857839904805,
          1204.1249678093434,
          1182.6466671392102,
          1161.050235815391,
          1139.335024119291,
          1117.500378758862,
          1095.5456428489513,
          1073.4701558915356,
          1051.2732537558543,
          1028.9542686584268,
          1006.5125291429633,
          983.9473600601649,
          961.258082547411,
          938.444014008337,
          915.5044680922981,
          892.4387546737211,
          869.2461798313417,
          845.9260458273294,
          822.4776510862949,
          798.9002901741848,
          775.193253777058,
          751.3558286797471,
          727.3872977444009,
          703.2869398889104,
          679.0540300652146,
          654.6878392374886,
          630.1876343602099,
          605.5526783561064,
          580.7822300939802,
          555.8755443664123,
          530.8318718673428,
          505.65045916952846,
          480.3305487018761,
          454.87137872665164,
          429.2721833165635,
          403.53219233171984,
          377.6506313964595,
          351.6267218760553,
          325.45968085328883,
          299.14872110489716,
          272.6930510778893,
          246.09187486573296,
          219.34439218440974,
          192.44979834833921,
          165.40728424617032,
          138.2160363164395,
          110.87523652309517,
          83.38406233088743,
          55.74168668062255,
          27.947277964281213
         ]
        }
       ],
       "layout": {
        "legend": {
         "orientation": "h",
         "x": 1,
         "xanchor": "right",
         "y": 1.02,
         "yanchor": "bottom"
        },
        "template": {
         "data": {
          "bar": [
           {
            "error_x": {
             "color": "#f2f5fa"
            },
            "error_y": {
             "color": "#f2f5fa"
            },
            "marker": {
             "line": {
              "color": "rgb(17,17,17)",
              "width": 0.5
             },
             "pattern": {
              "fillmode": "overlay",
              "size": 10,
              "solidity": 0.2
             }
            },
            "type": "bar"
           }
          ],
          "barpolar": [
           {
            "marker": {
             "line": {
              "color": "rgb(17,17,17)",
              "width": 0.5
             },
             "pattern": {
              "fillmode": "overlay",
              "size": 10,
              "solidity": 0.2
             }
            },
            "type": "barpolar"
           }
          ],
          "carpet": [
           {
            "aaxis": {
             "endlinecolor": "#A2B1C6",
             "gridcolor": "#506784",
             "linecolor": "#506784",
             "minorgridcolor": "#506784",
             "startlinecolor": "#A2B1C6"
            },
            "baxis": {
             "endlinecolor": "#A2B1C6",
             "gridcolor": "#506784",
             "linecolor": "#506784",
             "minorgridcolor": "#506784",
             "startlinecolor": "#A2B1C6"
            },
            "type": "carpet"
           }
          ],
          "choropleth": [
           {
            "colorbar": {
             "outlinewidth": 0,
             "ticks": ""
            },
            "type": "choropleth"
           }
          ],
          "contour": [
           {
            "colorbar": {
             "outlinewidth": 0,
             "ticks": ""
            },
            "colorscale": [
             [
              0,
              "#0d0887"
             ],
             [
              0.1111111111111111,
              "#46039f"
             ],
             [
              0.2222222222222222,
              "#7201a8"
             ],
             [
              0.3333333333333333,
              "#9c179e"
             ],
             [
              0.4444444444444444,
              "#bd3786"
             ],
             [
              0.5555555555555556,
              "#d8576b"
             ],
             [
              0.6666666666666666,
              "#ed7953"
             ],
             [
              0.7777777777777778,
              "#fb9f3a"
             ],
             [
              0.8888888888888888,
              "#fdca26"
             ],
             [
              1,
              "#f0f921"
             ]
            ],
            "type": "contour"
           }
          ],
          "contourcarpet": [
           {
            "colorbar": {
             "outlinewidth": 0,
             "ticks": ""
            },
            "type": "contourcarpet"
           }
          ],
          "heatmap": [
           {
            "colorbar": {
             "outlinewidth": 0,
             "ticks": ""
            },
            "colorscale": [
             [
              0,
              "#0d0887"
             ],
             [
              0.1111111111111111,
              "#46039f"
             ],
             [
              0.2222222222222222,
              "#7201a8"
             ],
             [
              0.3333333333333333,
              "#9c179e"
             ],
             [
              0.4444444444444444,
              "#bd3786"
             ],
             [
              0.5555555555555556,
              "#d8576b"
             ],
             [
              0.6666666666666666,
              "#ed7953"
             ],
             [
              0.7777777777777778,
              "#fb9f3a"
             ],
             [
              0.8888888888888888,
              "#fdca26"
             ],
             [
              1,
              "#f0f921"
             ]
            ],
            "type": "heatmap"
           }
          ],
          "heatmapgl": [
           {
            "colorbar": {
             "outlinewidth": 0,
             "ticks": ""
            },
            "colorscale": [
             [
              0,
              "#0d0887"
             ],
             [
              0.1111111111111111,
              "#46039f"
             ],
             [
              0.2222222222222222,
              "#7201a8"
             ],
             [
              0.3333333333333333,
              "#9c179e"
             ],
             [
              0.4444444444444444,
              "#bd3786"
             ],
             [
              0.5555555555555556,
              "#d8576b"
             ],
             [
              0.6666666666666666,
              "#ed7953"
             ],
             [
              0.7777777777777778,
              "#fb9f3a"
             ],
             [
              0.8888888888888888,
              "#fdca26"
             ],
             [
              1,
              "#f0f921"
             ]
            ],
            "type": "heatmapgl"
           }
          ],
          "histogram": [
           {
            "marker": {
             "pattern": {
              "fillmode": "overlay",
              "size": 10,
              "solidity": 0.2
             }
            },
            "type": "histogram"
           }
          ],
          "histogram2d": [
           {
            "colorbar": {
             "outlinewidth": 0,
             "ticks": ""
            },
            "colorscale": [
             [
              0,
              "#0d0887"
             ],
             [
              0.1111111111111111,
              "#46039f"
             ],
             [
              0.2222222222222222,
              "#7201a8"
             ],
             [
              0.3333333333333333,
              "#9c179e"
             ],
             [
              0.4444444444444444,
              "#bd3786"
             ],
             [
              0.5555555555555556,
              "#d8576b"
             ],
             [
              0.6666666666666666,
              "#ed7953"
             ],
             [
              0.7777777777777778,
              "#fb9f3a"
             ],
             [
              0.8888888888888888,
              "#fdca26"
             ],
             [
              1,
              "#f0f921"
             ]
            ],
            "type": "histogram2d"
           }
          ],
          "histogram2dcontour": [
           {
            "colorbar": {
             "outlinewidth": 0,
             "ticks": ""
            },
            "colorscale": [
             [
              0,
              "#0d0887"
             ],
             [
              0.1111111111111111,
              "#46039f"
             ],
             [
              0.2222222222222222,
              "#7201a8"
             ],
             [
              0.3333333333333333,
              "#9c179e"
             ],
             [
              0.4444444444444444,
              "#bd3786"
             ],
             [
              0.5555555555555556,
              "#d8576b"
             ],
             [
              0.6666666666666666,
              "#ed7953"
             ],
             [
              0.7777777777777778,
              "#fb9f3a"
             ],
             [
              0.8888888888888888,
              "#fdca26"
             ],
             [
              1,
              "#f0f921"
             ]
            ],
            "type": "histogram2dcontour"
           }
          ],
          "mesh3d": [
           {
            "colorbar": {
             "outlinewidth": 0,
             "ticks": ""
            },
            "type": "mesh3d"
           }
          ],
          "parcoords": [
           {
            "line": {
             "colorbar": {
              "outlinewidth": 0,
              "ticks": ""
             }
            },
            "type": "parcoords"
           }
          ],
          "pie": [
           {
            "automargin": true,
            "type": "pie"
           }
          ],
          "scatter": [
           {
            "marker": {
             "line": {
              "color": "#283442"
             }
            },
            "type": "scatter"
           }
          ],
          "scatter3d": [
           {
            "line": {
             "colorbar": {
              "outlinewidth": 0,
              "ticks": ""
             }
            },
            "marker": {
             "colorbar": {
              "outlinewidth": 0,
              "ticks": ""
             }
            },
            "type": "scatter3d"
           }
          ],
          "scattercarpet": [
           {
            "marker": {
             "colorbar": {
              "outlinewidth": 0,
              "ticks": ""
             }
            },
            "type": "scattercarpet"
           }
          ],
          "scattergeo": [
           {
            "marker": {
             "colorbar": {
              "outlinewidth": 0,
              "ticks": ""
             }
            },
            "type": "scattergeo"
           }
          ],
          "scattergl": [
           {
            "marker": {
             "line": {
              "color": "#283442"
             }
            },
            "type": "scattergl"
           }
          ],
          "scattermapbox": [
           {
            "marker": {
             "colorbar": {
              "outlinewidth": 0,
              "ticks": ""
             }
            },
            "type": "scattermapbox"
           }
          ],
          "scatterpolar": [
           {
            "marker": {
             "colorbar": {
              "outlinewidth": 0,
              "ticks": ""
             }
            },
            "type": "scatterpolar"
           }
          ],
          "scatterpolargl": [
           {
            "marker": {
             "colorbar": {
              "outlinewidth": 0,
              "ticks": ""
             }
            },
            "type": "scatterpolargl"
           }
          ],
          "scatterternary": [
           {
            "marker": {
             "colorbar": {
              "outlinewidth": 0,
              "ticks": ""
             }
            },
            "type": "scatterternary"
           }
          ],
          "surface": [
           {
            "colorbar": {
             "outlinewidth": 0,
             "ticks": ""
            },
            "colorscale": [
             [
              0,
              "#0d0887"
             ],
             [
              0.1111111111111111,
              "#46039f"
             ],
             [
              0.2222222222222222,
              "#7201a8"
             ],
             [
              0.3333333333333333,
              "#9c179e"
             ],
             [
              0.4444444444444444,
              "#bd3786"
             ],
             [
              0.5555555555555556,
              "#d8576b"
             ],
             [
              0.6666666666666666,
              "#ed7953"
             ],
             [
              0.7777777777777778,
              "#fb9f3a"
             ],
             [
              0.8888888888888888,
              "#fdca26"
             ],
             [
              1,
              "#f0f921"
             ]
            ],
            "type": "surface"
           }
          ],
          "table": [
           {
            "cells": {
             "fill": {
              "color": "#506784"
             },
             "line": {
              "color": "rgb(17,17,17)"
             }
            },
            "header": {
             "fill": {
              "color": "#2a3f5f"
             },
             "line": {
              "color": "rgb(17,17,17)"
             }
            },
            "type": "table"
           }
          ]
         },
         "layout": {
          "annotationdefaults": {
           "arrowcolor": "#f2f5fa",
           "arrowhead": 0,
           "arrowwidth": 1
          },
          "autotypenumbers": "strict",
          "coloraxis": {
           "colorbar": {
            "outlinewidth": 0,
            "ticks": ""
           }
          },
          "colorscale": {
           "diverging": [
            [
             0,
             "#8e0152"
            ],
            [
             0.1,
             "#c51b7d"
            ],
            [
             0.2,
             "#de77ae"
            ],
            [
             0.3,
             "#f1b6da"
            ],
            [
             0.4,
             "#fde0ef"
            ],
            [
             0.5,
             "#f7f7f7"
            ],
            [
             0.6,
             "#e6f5d0"
            ],
            [
             0.7,
             "#b8e186"
            ],
            [
             0.8,
             "#7fbc41"
            ],
            [
             0.9,
             "#4d9221"
            ],
            [
             1,
             "#276419"
            ]
           ],
           "sequential": [
            [
             0,
             "#0d0887"
            ],
            [
             0.1111111111111111,
             "#46039f"
            ],
            [
             0.2222222222222222,
             "#7201a8"
            ],
            [
             0.3333333333333333,
             "#9c179e"
            ],
            [
             0.4444444444444444,
             "#bd3786"
            ],
            [
             0.5555555555555556,
             "#d8576b"
            ],
            [
             0.6666666666666666,
             "#ed7953"
            ],
            [
             0.7777777777777778,
             "#fb9f3a"
            ],
            [
             0.8888888888888888,
             "#fdca26"
            ],
            [
             1,
             "#f0f921"
            ]
           ],
           "sequentialminus": [
            [
             0,
             "#0d0887"
            ],
            [
             0.1111111111111111,
             "#46039f"
            ],
            [
             0.2222222222222222,
             "#7201a8"
            ],
            [
             0.3333333333333333,
             "#9c179e"
            ],
            [
             0.4444444444444444,
             "#bd3786"
            ],
            [
             0.5555555555555556,
             "#d8576b"
            ],
            [
             0.6666666666666666,
             "#ed7953"
            ],
            [
             0.7777777777777778,
             "#fb9f3a"
            ],
            [
             0.8888888888888888,
             "#fdca26"
            ],
            [
             1,
             "#f0f921"
            ]
           ]
          },
          "colorway": [
           "#636efa",
           "#EF553B",
           "#00cc96",
           "#ab63fa",
           "#FFA15A",
           "#19d3f3",
           "#FF6692",
           "#B6E880",
           "#FF97FF",
           "#FECB52"
          ],
          "font": {
           "color": "#f2f5fa"
          },
          "geo": {
           "bgcolor": "rgb(17,17,17)",
           "lakecolor": "rgb(17,17,17)",
           "landcolor": "rgb(17,17,17)",
           "showlakes": true,
           "showland": true,
           "subunitcolor": "#506784"
          },
          "hoverlabel": {
           "align": "left"
          },
          "hovermode": "closest",
          "mapbox": {
           "style": "dark"
          },
          "paper_bgcolor": "rgb(17,17,17)",
          "plot_bgcolor": "rgb(17,17,17)",
          "polar": {
           "angularaxis": {
            "gridcolor": "#506784",
            "linecolor": "#506784",
            "ticks": ""
           },
           "bgcolor": "rgb(17,17,17)",
           "radialaxis": {
            "gridcolor": "#506784",
            "linecolor": "#506784",
            "ticks": ""
           }
          },
          "scene": {
           "xaxis": {
            "backgroundcolor": "rgb(17,17,17)",
            "gridcolor": "#506784",
            "gridwidth": 2,
            "linecolor": "#506784",
            "showbackground": true,
            "ticks": "",
            "zerolinecolor": "#C8D4E3"
           },
           "yaxis": {
            "backgroundcolor": "rgb(17,17,17)",
            "gridcolor": "#506784",
            "gridwidth": 2,
            "linecolor": "#506784",
            "showbackground": true,
            "ticks": "",
            "zerolinecolor": "#C8D4E3"
           },
           "zaxis": {
            "backgroundcolor": "rgb(17,17,17)",
            "gridcolor": "#506784",
            "gridwidth": 2,
            "linecolor": "#506784",
            "showbackground": true,
            "ticks": "",
            "zerolinecolor": "#C8D4E3"
           }
          },
          "shapedefaults": {
           "line": {
            "color": "#f2f5fa"
           }
          },
          "sliderdefaults": {
           "bgcolor": "#C8D4E3",
           "bordercolor": "rgb(17,17,17)",
           "borderwidth": 1,
           "tickwidth": 0
          },
          "ternary": {
           "aaxis": {
            "gridcolor": "#506784",
            "linecolor": "#506784",
            "ticks": ""
           },
           "baxis": {
            "gridcolor": "#506784",
            "linecolor": "#506784",
            "ticks": ""
           },
           "bgcolor": "rgb(17,17,17)",
           "caxis": {
            "gridcolor": "#506784",
            "linecolor": "#506784",
            "ticks": ""
           }
          },
          "title": {
           "x": 0.05
          },
          "updatemenudefaults": {
           "bgcolor": "#506784",
           "borderwidth": 0
          },
          "xaxis": {
           "automargin": true,
           "gridcolor": "#283442",
           "linecolor": "#506784",
           "ticks": "",
           "title": {
            "standoff": 15
           },
           "zerolinecolor": "#283442",
           "zerolinewidth": 2
          },
          "yaxis": {
           "automargin": true,
           "gridcolor": "#283442",
           "linecolor": "#506784",
           "ticks": "",
           "title": {
            "standoff": 15
           },
           "zerolinecolor": "#283442",
           "zerolinewidth": 2
          }
         }
        },
        "title": {
         "text": "Mortgage Payment Schedule"
        },
        "xaxis": {
         "title": {
          "text": "Payment Number"
         }
        },
        "yaxis": {
         "title": {
          "text": "Amount ($)"
         }
        }
       }
      }
     },
     "metadata": {},
     "output_type": "display_data"
    },
    {
     "data": {
      "text/plain": [
       "<function __main__.update_graph(house_price, deposit_percentage, interest, term)>"
      ]
     },
     "execution_count": 383,
     "metadata": {},
     "output_type": "execute_result"
    }
   ],
   "source": [
    "\n",
    "# Function to update and display the mortgage payment schedule graph using Plotly\n",
    "def update_graph(house_price, deposit_percentage, interest, term):\n",
    "    deposit = house_price * (deposit_percentage / 100)\n",
    "    loan_amount = house_price - deposit\n",
    "\n",
    "    m = Mortgage(principal=loan_amount, interest=interest, term=term)\n",
    "    schedule = m.schedule()\n",
    "\n",
    "    print('Deposit Amount:           {}{:>11,.2f}'.format(m._currency, deposit))\n",
    "    m.summarize\n",
    "\n",
    "    fig = go.Figure()\n",
    "\n",
    "\n",
    "    fig.add_trace(go.Scatter(x=list(range(len(schedule))), y=[p.principal for p in schedule], mode='lines', name='Principal',\n",
    "                             hovertemplate=\"Principal: $%{y:.2f}<br>Year: %{text}<br> % of Monthly: %{customdata}%\",\n",
    "                             text=[p//12 for p in range(len(schedule))],\n",
    "                             customdata=[round(1+((p.principal-m.monthly_payment)/m.monthly_payment),2)*100 for p in schedule]\n",
    "                             ))\n",
    "    \n",
    "    fig.add_trace(go.Scatter(x=list(range(len(schedule))), y=[p.interest for p in schedule], mode='lines', name='Interest',\n",
    "                             hovertemplate=\"Interest: $%{y:.2f}<br>Year: %{text}<br> % of Monthly: %{customdata}%\",\n",
    "                             text=[p//12 for p in range(len(schedule))],\n",
    "                             customdata=[round(1+((p.interest-m.monthly_payment)/m.monthly_payment),2)*100 for p in schedule]\n",
    "                             ))\n",
    "\n",
    "    fig.update_layout(title='Mortgage Payment Schedule',\n",
    "                      xaxis_title='Payment Number',\n",
    "                      yaxis_title='Amount ($)',\n",
    "                      legend=dict(orientation=\"h\", yanchor=\"bottom\", y=1.02, xanchor=\"right\", x=1),\n",
    "                      template=\"plotly_dark\",\n",
    "                      )\n",
    "    if not (house_price == 200000 and deposit_percentage == 20 and interest == 0.066 and term == 30):\n",
    "        fig.show()\n",
    "\n",
    "# Use interact to create interactive sliders and update the graph\n",
    "print(\"Move sliders to display the graph\")\n",
    "interact(update_graph,  \n",
    "         house_price=widgets.IntSlider(value=200000, min=200000, max=1500000, step=50000, description='House Price: ', style={'handle_color': 'blue'}),\n",
    "         deposit_percentage=widgets.IntSlider(value=20, min=5, max=99, step=5, description='Deposit %: ', style={'handle_color': 'blue'}),\n",
    "         interest=widgets.FloatSlider(value=0.066, min=0.001, max=0.1, step=0.001, description='Interest: ', readout_format='.3f', style={'handle_color': 'blue'}),\n",
    "         term=widgets.IntSlider(value=30, min=5, max=30, step=5, description='Term: ', style={'handle_color': 'blue'}))\n"
   ]
  }
 ],
 "metadata": {
  "kernelspec": {
   "display_name": "Python 3",
   "language": "python",
   "name": "python3"
  },
  "language_info": {
   "codemirror_mode": {
    "name": "ipython",
    "version": 3
   },
   "file_extension": ".py",
   "mimetype": "text/x-python",
   "name": "python",
   "nbconvert_exporter": "python",
   "pygments_lexer": "ipython3",
   "version": "3.10.12"
  }
 },
 "nbformat": 4,
 "nbformat_minor": 2
}
