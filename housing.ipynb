{
 "cells": [
  {
   "cell_type": "markdown",
   "metadata": {},
   "source": [
    "# Housing Cost Estimations"
   ]
  },
  {
   "cell_type": "code",
   "execution_count": 6,
   "metadata": {},
   "outputs": [
    {
     "name": "stdout",
     "output_type": "stream",
     "text": [
      "Defaulting to user installation because normal site-packages is not writeable\n",
      "Requirement already satisfied: mortgage in /home/ben/.local/lib/python3.10/site-packages (1.0.5)\n"
     ]
    }
   ],
   "source": [
    "!pip install mortgage"
   ]
  },
  {
   "cell_type": "code",
   "execution_count": 7,
   "metadata": {},
   "outputs": [],
   "source": [
    "import pandas as pd\n",
    "import matplotlib.pyplot as plt\n",
    "import numpy as np\n",
    "import plotly.express as px\n",
    "from mortgage import Loan\n",
    "import plotly.graph_objects as go\n",
    "from ipywidgets import interact, widgets"
   ]
  },
  {
   "cell_type": "markdown",
   "metadata": {},
   "source": [
    "## Purchasing Costs"
   ]
  },
  {
   "cell_type": "code",
   "execution_count": 8,
   "metadata": {},
   "outputs": [
    {
     "data": {
      "text/html": [
       "<div>\n",
       "<style scoped>\n",
       "    .dataframe tbody tr th:only-of-type {\n",
       "        vertical-align: middle;\n",
       "    }\n",
       "\n",
       "    .dataframe tbody tr th {\n",
       "        vertical-align: top;\n",
       "    }\n",
       "\n",
       "    .dataframe thead th {\n",
       "        text-align: right;\n",
       "    }\n",
       "</style>\n",
       "<table border=\"1\" class=\"dataframe\">\n",
       "  <thead>\n",
       "    <tr style=\"text-align: right;\">\n",
       "      <th></th>\n",
       "      <th>Month</th>\n",
       "      <th># of Sales</th>\n",
       "      <th>Monthly Change ($)</th>\n",
       "      <th>Monthly Change (%)</th>\n",
       "      <th>Days on Market</th>\n",
       "      <th>Above/Below Asking (%)</th>\n",
       "      <th>Avg List Price ($)</th>\n",
       "      <th>Avg Sold Price ($)</th>\n",
       "      <th>Year</th>\n",
       "    </tr>\n",
       "  </thead>\n",
       "  <tbody>\n",
       "    <tr>\n",
       "      <th>118</th>\n",
       "      <td>January 2012</td>\n",
       "      <td>796</td>\n",
       "      <td>314000.0</td>\n",
       "      <td>0.00</td>\n",
       "      <td>25.0</td>\n",
       "      <td>-1.56</td>\n",
       "      <td>319000.0</td>\n",
       "      <td>314000.0</td>\n",
       "      <td>2012</td>\n",
       "    </tr>\n",
       "    <tr>\n",
       "      <th>117</th>\n",
       "      <td>February 2012</td>\n",
       "      <td>1,261</td>\n",
       "      <td>14000.0</td>\n",
       "      <td>4.45</td>\n",
       "      <td>18.0</td>\n",
       "      <td>-1.79</td>\n",
       "      <td>334000.0</td>\n",
       "      <td>328000.0</td>\n",
       "      <td>2012</td>\n",
       "    </tr>\n",
       "    <tr>\n",
       "      <th>116</th>\n",
       "      <td>March 2012</td>\n",
       "      <td>1,586</td>\n",
       "      <td>1000.0</td>\n",
       "      <td>0.30</td>\n",
       "      <td>20.0</td>\n",
       "      <td>-0.27</td>\n",
       "      <td>329900.0</td>\n",
       "      <td>329000.0</td>\n",
       "      <td>2012</td>\n",
       "    </tr>\n",
       "    <tr>\n",
       "      <th>115</th>\n",
       "      <td>April 2012</td>\n",
       "      <td>1,509</td>\n",
       "      <td>4000.0</td>\n",
       "      <td>1.21</td>\n",
       "      <td>21.0</td>\n",
       "      <td>-0.59</td>\n",
       "      <td>335000.0</td>\n",
       "      <td>333000.0</td>\n",
       "      <td>2012</td>\n",
       "    </tr>\n",
       "    <tr>\n",
       "      <th>114</th>\n",
       "      <td>May 2012</td>\n",
       "      <td>1,562</td>\n",
       "      <td>2759.0</td>\n",
       "      <td>0.82</td>\n",
       "      <td>19.0</td>\n",
       "      <td>-1.21</td>\n",
       "      <td>339900.0</td>\n",
       "      <td>335759.0</td>\n",
       "      <td>2012</td>\n",
       "    </tr>\n",
       "    <tr>\n",
       "      <th>...</th>\n",
       "      <td>...</td>\n",
       "      <td>...</td>\n",
       "      <td>...</td>\n",
       "      <td>...</td>\n",
       "      <td>...</td>\n",
       "      <td>...</td>\n",
       "      <td>...</td>\n",
       "      <td>...</td>\n",
       "      <td>...</td>\n",
       "    </tr>\n",
       "    <tr>\n",
       "      <th>4</th>\n",
       "      <td>July 2022</td>\n",
       "      <td>754</td>\n",
       "      <td>-11895.0</td>\n",
       "      <td>-1.73</td>\n",
       "      <td>17.0</td>\n",
       "      <td>-2.08</td>\n",
       "      <td>689450.0</td>\n",
       "      <td>675106.0</td>\n",
       "      <td>2022</td>\n",
       "    </tr>\n",
       "    <tr>\n",
       "      <th>3</th>\n",
       "      <td>August 2022</td>\n",
       "      <td>937</td>\n",
       "      <td>-15106.0</td>\n",
       "      <td>-2.23</td>\n",
       "      <td>20.0</td>\n",
       "      <td>-2.79</td>\n",
       "      <td>679000.0</td>\n",
       "      <td>660000.0</td>\n",
       "      <td>2022</td>\n",
       "    </tr>\n",
       "    <tr>\n",
       "      <th>2</th>\n",
       "      <td>September 2022</td>\n",
       "      <td>814</td>\n",
       "      <td>10000.0</td>\n",
       "      <td>1.51</td>\n",
       "      <td>18.0</td>\n",
       "      <td>-1.21</td>\n",
       "      <td>678250.0</td>\n",
       "      <td>670000.0</td>\n",
       "      <td>2022</td>\n",
       "    </tr>\n",
       "    <tr>\n",
       "      <th>1</th>\n",
       "      <td>October 2022</td>\n",
       "      <td>824</td>\n",
       "      <td>-12000.0</td>\n",
       "      <td>-1.79</td>\n",
       "      <td>18.0</td>\n",
       "      <td>-1.78</td>\n",
       "      <td>669950.0</td>\n",
       "      <td>658000.0</td>\n",
       "      <td>2022</td>\n",
       "    </tr>\n",
       "    <tr>\n",
       "      <th>0</th>\n",
       "      <td>November 2022</td>\n",
       "      <td>808</td>\n",
       "      <td>-13000.0</td>\n",
       "      <td>-1.97</td>\n",
       "      <td>18.0</td>\n",
       "      <td>-1.14</td>\n",
       "      <td>652500.0</td>\n",
       "      <td>645000.0</td>\n",
       "      <td>2022</td>\n",
       "    </tr>\n",
       "  </tbody>\n",
       "</table>\n",
       "<p>119 rows × 9 columns</p>\n",
       "</div>"
      ],
      "text/plain": [
       "              Month # of Sales  Monthly Change ($)  Monthly Change (%)  \\\n",
       "118    January 2012        796            314000.0                0.00   \n",
       "117   February 2012      1,261             14000.0                4.45   \n",
       "116      March 2012      1,586              1000.0                0.30   \n",
       "115      April 2012      1,509              4000.0                1.21   \n",
       "114        May 2012      1,562              2759.0                0.82   \n",
       "..              ...        ...                 ...                 ...   \n",
       "4         July 2022        754            -11895.0               -1.73   \n",
       "3       August 2022        937            -15106.0               -2.23   \n",
       "2    September 2022        814             10000.0                1.51   \n",
       "1      October 2022        824            -12000.0               -1.79   \n",
       "0     November 2022        808            -13000.0               -1.97   \n",
       "\n",
       "     Days on Market  Above/Below Asking (%)  Avg List Price ($)  \\\n",
       "118            25.0                   -1.56            319000.0   \n",
       "117            18.0                   -1.79            334000.0   \n",
       "116            20.0                   -0.27            329900.0   \n",
       "115            21.0                   -0.59            335000.0   \n",
       "114            19.0                   -1.21            339900.0   \n",
       "..              ...                     ...                 ...   \n",
       "4              17.0                   -2.08            689450.0   \n",
       "3              20.0                   -2.79            679000.0   \n",
       "2              18.0                   -1.21            678250.0   \n",
       "1              18.0                   -1.78            669950.0   \n",
       "0              18.0                   -1.14            652500.0   \n",
       "\n",
       "     Avg Sold Price ($)  Year  \n",
       "118            314000.0  2012  \n",
       "117            328000.0  2012  \n",
       "116            329000.0  2012  \n",
       "115            333000.0  2012  \n",
       "114            335759.0  2012  \n",
       "..                  ...   ...  \n",
       "4              675106.0  2022  \n",
       "3              660000.0  2022  \n",
       "2              670000.0  2022  \n",
       "1              658000.0  2022  \n",
       "0              645000.0  2022  \n",
       "\n",
       "[119 rows x 9 columns]"
      ]
     },
     "execution_count": 8,
     "metadata": {},
     "output_type": "execute_result"
    }
   ],
   "source": [
    "buy = pd.read_csv(\"data/TO_housing_prices.csv\", index_col=0)\n",
    "buy"
   ]
  },
  {
   "cell_type": "code",
   "execution_count": 9,
   "metadata": {},
   "outputs": [
    {
     "data": {
      "application/vnd.plotly.v1+json": {
       "config": {
        "plotlyServerURL": "https://plot.ly"
       },
       "data": [
        {
         "hovertemplate": "<b>%{hovertext}</b><br><br>Month=%{x}<br>Avg Sold Price ($)=%{y}<extra></extra>",
         "hovertext": [
          2012,
          2012,
          2012,
          2012,
          2012,
          2012,
          2012,
          2012,
          2012,
          2012,
          2012,
          2012,
          2013,
          2013,
          2013,
          2013,
          2013,
          2013,
          2013,
          2013,
          2013,
          2013,
          2013,
          2013,
          2014,
          2014,
          2014,
          2014,
          2014,
          2014,
          2014,
          2014,
          2014,
          2014,
          2014,
          2014,
          2016,
          2016,
          2016,
          2016,
          2016,
          2016,
          2016,
          2016,
          2016,
          2016,
          2016,
          2016,
          2017,
          2017,
          2017,
          2017,
          2017,
          2017,
          2017,
          2017,
          2017,
          2017,
          2017,
          2017,
          2018,
          2018,
          2018,
          2018,
          2018,
          2018,
          2018,
          2018,
          2018,
          2018,
          2018,
          2018,
          2019,
          2019,
          2019,
          2019,
          2019,
          2019,
          2019,
          2019,
          2019,
          2019,
          2019,
          2019,
          2020,
          2020,
          2020,
          2020,
          2020,
          2020,
          2020,
          2020,
          2020,
          2020,
          2020,
          2020,
          2021,
          2021,
          2021,
          2021,
          2021,
          2021,
          2021,
          2021,
          2021,
          2021,
          2021,
          2021,
          2022,
          2022,
          2022,
          2022,
          2022,
          2022,
          2022,
          2022,
          2022,
          2022,
          2022
         ],
         "legendgroup": "",
         "line": {
          "color": "#636efa",
          "dash": "solid"
         },
         "marker": {
          "symbol": "circle"
         },
         "mode": "lines",
         "name": "",
         "orientation": "v",
         "showlegend": false,
         "type": "scatter",
         "x": [
          "January 2012",
          "February 2012",
          "March 2012",
          "April 2012",
          "May 2012",
          "June 2012",
          "July 2012",
          "August 2012",
          "September 2012",
          "October 2012",
          "November 2012",
          "December 2012",
          "January 2013",
          "February 2013",
          "March 2013",
          "April 2013",
          "May 2013",
          "June 2013",
          "July 2013",
          "August 2013",
          "September 2013",
          "October 2013",
          "November 2013",
          "December 2013",
          "January 2014",
          "February 2014",
          "March 2014",
          "April 2014",
          "May 2014",
          "June 2014",
          "July 2014",
          "August 2014",
          "September 2014",
          "October 2014",
          "November 2014",
          "December 2014",
          "January 2016",
          "February 2016",
          "March 2016",
          "April 2016",
          "May 2016",
          "June 2016",
          "July 2016",
          "August 2016",
          "September 2016",
          "October 2016",
          "November 2016",
          "December 2016",
          "January 2017",
          "February 2017",
          "March 2017",
          "April 2017",
          "May 2017",
          "June 2017",
          "July 2017",
          "August 2017",
          "September 2017",
          "October 2017",
          "November 2017",
          "December 2017",
          "January 2018",
          "February 2018",
          "March 2018",
          "April 2018",
          "May 2018",
          "June 2018",
          "July 2018",
          "August 2018",
          "September 2018",
          "October 2018",
          "November 2018",
          "December 2018",
          "January 2019",
          "February 2019",
          "March 2019",
          "April 2019",
          "May 2019",
          "June 2019",
          "July 2019",
          "August 2019",
          "September 2019",
          "October 2019",
          "November 2019",
          "December 2019",
          "January 2020",
          "February 2020",
          "March 2020",
          "April 2020",
          "May 2020",
          "June 2020",
          "July 2020",
          "August 2020",
          "September 2020",
          "October 2020",
          "November 2020",
          "December 2020",
          "January 2021",
          "February 2021",
          "March 2021",
          "April 2021",
          "May 2021",
          "June 2021",
          "July 2021",
          "August 2021",
          "September 2021",
          "October 2021",
          "November 2021",
          "December 2021",
          "January 2022",
          "February 2022",
          "March 2022",
          "April 2022",
          "May 2022",
          "June 2022",
          "July 2022",
          "August 2022",
          "September 2022",
          "October 2022",
          "November 2022"
         ],
         "xaxis": "x",
         "y": [
          314000,
          328000,
          329000,
          333000,
          335759,
          332800,
          322500,
          321000,
          328000,
          325500,
          316125,
          315000,
          323250,
          320250,
          330500,
          335000,
          336000,
          330000,
          327000,
          321900,
          331000,
          332500,
          330500,
          325000,
          330750,
          339000,
          338100,
          347900,
          340000,
          349500,
          340500,
          330000,
          340000,
          343000,
          339490,
          341500,
          368000,
          377000,
          366000,
          385000,
          388000,
          385000,
          378000,
          390000,
          396900,
          401750,
          412000,
          410000,
          425000,
          453000,
          488800,
          501000,
          483000,
          472750,
          469995,
          473250,
          490000,
          485000,
          485000,
          478000,
          498000,
          510000,
          516800,
          530000,
          535000,
          535000,
          524900,
          520000,
          545000,
          536000,
          530000,
          526500,
          531000,
          543500,
          547750,
          565000,
          570000,
          570000,
          565000,
          570000,
          574900,
          590000,
          592250,
          580000,
          594500,
          641500,
          635000,
          580000,
          595050,
          610000,
          615000,
          600000,
          597000,
          580000,
          569500,
          565000,
          581250,
          618000,
          647000,
          641000,
          640000,
          640000,
          645000,
          640000,
          650000,
          655000,
          648000,
          651000,
          708000,
          745000,
          748000,
          730000,
          703250,
          687000,
          675106,
          660000,
          670000,
          658000,
          645000
         ],
         "yaxis": "y"
        }
       ],
       "layout": {
        "legend": {
         "tracegroupgap": 0
        },
        "template": {
         "data": {
          "bar": [
           {
            "error_x": {
             "color": "#2a3f5f"
            },
            "error_y": {
             "color": "#2a3f5f"
            },
            "marker": {
             "line": {
              "color": "#E5ECF6",
              "width": 0.5
             },
             "pattern": {
              "fillmode": "overlay",
              "size": 10,
              "solidity": 0.2
             }
            },
            "type": "bar"
           }
          ],
          "barpolar": [
           {
            "marker": {
             "line": {
              "color": "#E5ECF6",
              "width": 0.5
             },
             "pattern": {
              "fillmode": "overlay",
              "size": 10,
              "solidity": 0.2
             }
            },
            "type": "barpolar"
           }
          ],
          "carpet": [
           {
            "aaxis": {
             "endlinecolor": "#2a3f5f",
             "gridcolor": "white",
             "linecolor": "white",
             "minorgridcolor": "white",
             "startlinecolor": "#2a3f5f"
            },
            "baxis": {
             "endlinecolor": "#2a3f5f",
             "gridcolor": "white",
             "linecolor": "white",
             "minorgridcolor": "white",
             "startlinecolor": "#2a3f5f"
            },
            "type": "carpet"
           }
          ],
          "choropleth": [
           {
            "colorbar": {
             "outlinewidth": 0,
             "ticks": ""
            },
            "type": "choropleth"
           }
          ],
          "contour": [
           {
            "colorbar": {
             "outlinewidth": 0,
             "ticks": ""
            },
            "colorscale": [
             [
              0,
              "#0d0887"
             ],
             [
              0.1111111111111111,
              "#46039f"
             ],
             [
              0.2222222222222222,
              "#7201a8"
             ],
             [
              0.3333333333333333,
              "#9c179e"
             ],
             [
              0.4444444444444444,
              "#bd3786"
             ],
             [
              0.5555555555555556,
              "#d8576b"
             ],
             [
              0.6666666666666666,
              "#ed7953"
             ],
             [
              0.7777777777777778,
              "#fb9f3a"
             ],
             [
              0.8888888888888888,
              "#fdca26"
             ],
             [
              1,
              "#f0f921"
             ]
            ],
            "type": "contour"
           }
          ],
          "contourcarpet": [
           {
            "colorbar": {
             "outlinewidth": 0,
             "ticks": ""
            },
            "type": "contourcarpet"
           }
          ],
          "heatmap": [
           {
            "colorbar": {
             "outlinewidth": 0,
             "ticks": ""
            },
            "colorscale": [
             [
              0,
              "#0d0887"
             ],
             [
              0.1111111111111111,
              "#46039f"
             ],
             [
              0.2222222222222222,
              "#7201a8"
             ],
             [
              0.3333333333333333,
              "#9c179e"
             ],
             [
              0.4444444444444444,
              "#bd3786"
             ],
             [
              0.5555555555555556,
              "#d8576b"
             ],
             [
              0.6666666666666666,
              "#ed7953"
             ],
             [
              0.7777777777777778,
              "#fb9f3a"
             ],
             [
              0.8888888888888888,
              "#fdca26"
             ],
             [
              1,
              "#f0f921"
             ]
            ],
            "type": "heatmap"
           }
          ],
          "heatmapgl": [
           {
            "colorbar": {
             "outlinewidth": 0,
             "ticks": ""
            },
            "colorscale": [
             [
              0,
              "#0d0887"
             ],
             [
              0.1111111111111111,
              "#46039f"
             ],
             [
              0.2222222222222222,
              "#7201a8"
             ],
             [
              0.3333333333333333,
              "#9c179e"
             ],
             [
              0.4444444444444444,
              "#bd3786"
             ],
             [
              0.5555555555555556,
              "#d8576b"
             ],
             [
              0.6666666666666666,
              "#ed7953"
             ],
             [
              0.7777777777777778,
              "#fb9f3a"
             ],
             [
              0.8888888888888888,
              "#fdca26"
             ],
             [
              1,
              "#f0f921"
             ]
            ],
            "type": "heatmapgl"
           }
          ],
          "histogram": [
           {
            "marker": {
             "pattern": {
              "fillmode": "overlay",
              "size": 10,
              "solidity": 0.2
             }
            },
            "type": "histogram"
           }
          ],
          "histogram2d": [
           {
            "colorbar": {
             "outlinewidth": 0,
             "ticks": ""
            },
            "colorscale": [
             [
              0,
              "#0d0887"
             ],
             [
              0.1111111111111111,
              "#46039f"
             ],
             [
              0.2222222222222222,
              "#7201a8"
             ],
             [
              0.3333333333333333,
              "#9c179e"
             ],
             [
              0.4444444444444444,
              "#bd3786"
             ],
             [
              0.5555555555555556,
              "#d8576b"
             ],
             [
              0.6666666666666666,
              "#ed7953"
             ],
             [
              0.7777777777777778,
              "#fb9f3a"
             ],
             [
              0.8888888888888888,
              "#fdca26"
             ],
             [
              1,
              "#f0f921"
             ]
            ],
            "type": "histogram2d"
           }
          ],
          "histogram2dcontour": [
           {
            "colorbar": {
             "outlinewidth": 0,
             "ticks": ""
            },
            "colorscale": [
             [
              0,
              "#0d0887"
             ],
             [
              0.1111111111111111,
              "#46039f"
             ],
             [
              0.2222222222222222,
              "#7201a8"
             ],
             [
              0.3333333333333333,
              "#9c179e"
             ],
             [
              0.4444444444444444,
              "#bd3786"
             ],
             [
              0.5555555555555556,
              "#d8576b"
             ],
             [
              0.6666666666666666,
              "#ed7953"
             ],
             [
              0.7777777777777778,
              "#fb9f3a"
             ],
             [
              0.8888888888888888,
              "#fdca26"
             ],
             [
              1,
              "#f0f921"
             ]
            ],
            "type": "histogram2dcontour"
           }
          ],
          "mesh3d": [
           {
            "colorbar": {
             "outlinewidth": 0,
             "ticks": ""
            },
            "type": "mesh3d"
           }
          ],
          "parcoords": [
           {
            "line": {
             "colorbar": {
              "outlinewidth": 0,
              "ticks": ""
             }
            },
            "type": "parcoords"
           }
          ],
          "pie": [
           {
            "automargin": true,
            "type": "pie"
           }
          ],
          "scatter": [
           {
            "fillpattern": {
             "fillmode": "overlay",
             "size": 10,
             "solidity": 0.2
            },
            "type": "scatter"
           }
          ],
          "scatter3d": [
           {
            "line": {
             "colorbar": {
              "outlinewidth": 0,
              "ticks": ""
             }
            },
            "marker": {
             "colorbar": {
              "outlinewidth": 0,
              "ticks": ""
             }
            },
            "type": "scatter3d"
           }
          ],
          "scattercarpet": [
           {
            "marker": {
             "colorbar": {
              "outlinewidth": 0,
              "ticks": ""
             }
            },
            "type": "scattercarpet"
           }
          ],
          "scattergeo": [
           {
            "marker": {
             "colorbar": {
              "outlinewidth": 0,
              "ticks": ""
             }
            },
            "type": "scattergeo"
           }
          ],
          "scattergl": [
           {
            "marker": {
             "colorbar": {
              "outlinewidth": 0,
              "ticks": ""
             }
            },
            "type": "scattergl"
           }
          ],
          "scattermapbox": [
           {
            "marker": {
             "colorbar": {
              "outlinewidth": 0,
              "ticks": ""
             }
            },
            "type": "scattermapbox"
           }
          ],
          "scatterpolar": [
           {
            "marker": {
             "colorbar": {
              "outlinewidth": 0,
              "ticks": ""
             }
            },
            "type": "scatterpolar"
           }
          ],
          "scatterpolargl": [
           {
            "marker": {
             "colorbar": {
              "outlinewidth": 0,
              "ticks": ""
             }
            },
            "type": "scatterpolargl"
           }
          ],
          "scatterternary": [
           {
            "marker": {
             "colorbar": {
              "outlinewidth": 0,
              "ticks": ""
             }
            },
            "type": "scatterternary"
           }
          ],
          "surface": [
           {
            "colorbar": {
             "outlinewidth": 0,
             "ticks": ""
            },
            "colorscale": [
             [
              0,
              "#0d0887"
             ],
             [
              0.1111111111111111,
              "#46039f"
             ],
             [
              0.2222222222222222,
              "#7201a8"
             ],
             [
              0.3333333333333333,
              "#9c179e"
             ],
             [
              0.4444444444444444,
              "#bd3786"
             ],
             [
              0.5555555555555556,
              "#d8576b"
             ],
             [
              0.6666666666666666,
              "#ed7953"
             ],
             [
              0.7777777777777778,
              "#fb9f3a"
             ],
             [
              0.8888888888888888,
              "#fdca26"
             ],
             [
              1,
              "#f0f921"
             ]
            ],
            "type": "surface"
           }
          ],
          "table": [
           {
            "cells": {
             "fill": {
              "color": "#EBF0F8"
             },
             "line": {
              "color": "white"
             }
            },
            "header": {
             "fill": {
              "color": "#C8D4E3"
             },
             "line": {
              "color": "white"
             }
            },
            "type": "table"
           }
          ]
         },
         "layout": {
          "annotationdefaults": {
           "arrowcolor": "#2a3f5f",
           "arrowhead": 0,
           "arrowwidth": 1
          },
          "autotypenumbers": "strict",
          "coloraxis": {
           "colorbar": {
            "outlinewidth": 0,
            "ticks": ""
           }
          },
          "colorscale": {
           "diverging": [
            [
             0,
             "#8e0152"
            ],
            [
             0.1,
             "#c51b7d"
            ],
            [
             0.2,
             "#de77ae"
            ],
            [
             0.3,
             "#f1b6da"
            ],
            [
             0.4,
             "#fde0ef"
            ],
            [
             0.5,
             "#f7f7f7"
            ],
            [
             0.6,
             "#e6f5d0"
            ],
            [
             0.7,
             "#b8e186"
            ],
            [
             0.8,
             "#7fbc41"
            ],
            [
             0.9,
             "#4d9221"
            ],
            [
             1,
             "#276419"
            ]
           ],
           "sequential": [
            [
             0,
             "#0d0887"
            ],
            [
             0.1111111111111111,
             "#46039f"
            ],
            [
             0.2222222222222222,
             "#7201a8"
            ],
            [
             0.3333333333333333,
             "#9c179e"
            ],
            [
             0.4444444444444444,
             "#bd3786"
            ],
            [
             0.5555555555555556,
             "#d8576b"
            ],
            [
             0.6666666666666666,
             "#ed7953"
            ],
            [
             0.7777777777777778,
             "#fb9f3a"
            ],
            [
             0.8888888888888888,
             "#fdca26"
            ],
            [
             1,
             "#f0f921"
            ]
           ],
           "sequentialminus": [
            [
             0,
             "#0d0887"
            ],
            [
             0.1111111111111111,
             "#46039f"
            ],
            [
             0.2222222222222222,
             "#7201a8"
            ],
            [
             0.3333333333333333,
             "#9c179e"
            ],
            [
             0.4444444444444444,
             "#bd3786"
            ],
            [
             0.5555555555555556,
             "#d8576b"
            ],
            [
             0.6666666666666666,
             "#ed7953"
            ],
            [
             0.7777777777777778,
             "#fb9f3a"
            ],
            [
             0.8888888888888888,
             "#fdca26"
            ],
            [
             1,
             "#f0f921"
            ]
           ]
          },
          "colorway": [
           "#636efa",
           "#EF553B",
           "#00cc96",
           "#ab63fa",
           "#FFA15A",
           "#19d3f3",
           "#FF6692",
           "#B6E880",
           "#FF97FF",
           "#FECB52"
          ],
          "font": {
           "color": "#2a3f5f"
          },
          "geo": {
           "bgcolor": "white",
           "lakecolor": "white",
           "landcolor": "#E5ECF6",
           "showlakes": true,
           "showland": true,
           "subunitcolor": "white"
          },
          "hoverlabel": {
           "align": "left"
          },
          "hovermode": "closest",
          "mapbox": {
           "style": "light"
          },
          "paper_bgcolor": "white",
          "plot_bgcolor": "#E5ECF6",
          "polar": {
           "angularaxis": {
            "gridcolor": "white",
            "linecolor": "white",
            "ticks": ""
           },
           "bgcolor": "#E5ECF6",
           "radialaxis": {
            "gridcolor": "white",
            "linecolor": "white",
            "ticks": ""
           }
          },
          "scene": {
           "xaxis": {
            "backgroundcolor": "#E5ECF6",
            "gridcolor": "white",
            "gridwidth": 2,
            "linecolor": "white",
            "showbackground": true,
            "ticks": "",
            "zerolinecolor": "white"
           },
           "yaxis": {
            "backgroundcolor": "#E5ECF6",
            "gridcolor": "white",
            "gridwidth": 2,
            "linecolor": "white",
            "showbackground": true,
            "ticks": "",
            "zerolinecolor": "white"
           },
           "zaxis": {
            "backgroundcolor": "#E5ECF6",
            "gridcolor": "white",
            "gridwidth": 2,
            "linecolor": "white",
            "showbackground": true,
            "ticks": "",
            "zerolinecolor": "white"
           }
          },
          "shapedefaults": {
           "line": {
            "color": "#2a3f5f"
           }
          },
          "ternary": {
           "aaxis": {
            "gridcolor": "white",
            "linecolor": "white",
            "ticks": ""
           },
           "baxis": {
            "gridcolor": "white",
            "linecolor": "white",
            "ticks": ""
           },
           "bgcolor": "#E5ECF6",
           "caxis": {
            "gridcolor": "white",
            "linecolor": "white",
            "ticks": ""
           }
          },
          "title": {
           "x": 0.05
          },
          "xaxis": {
           "automargin": true,
           "gridcolor": "white",
           "linecolor": "white",
           "ticks": "",
           "title": {
            "standoff": 15
           },
           "zerolinecolor": "white",
           "zerolinewidth": 2
          },
          "yaxis": {
           "automargin": true,
           "gridcolor": "white",
           "linecolor": "white",
           "ticks": "",
           "title": {
            "standoff": 15
           },
           "zerolinecolor": "white",
           "zerolinewidth": 2
          }
         }
        },
        "title": {
         "text": "Average Sold Price of Condos Over the Years"
        },
        "xaxis": {
         "anchor": "y",
         "domain": [
          0,
          1
         ],
         "title": {
          "text": "Month"
         }
        },
        "yaxis": {
         "anchor": "x",
         "domain": [
          0,
          1
         ],
         "title": {
          "text": "Avg Sold Price ($)"
         }
        }
       }
      }
     },
     "metadata": {},
     "output_type": "display_data"
    }
   ],
   "source": [
    "fig = px.line(buy, x='Month', y='Avg Sold Price ($)',\n",
    "              labels={'Avg Sold Price': 'Average Sold Price ($)'},\n",
    "              title='Average Sold Price of Condos Over the Years',\n",
    "              hover_name='Year',\n",
    "              color_discrete_map={'Year': 'blue'})\n",
    "\n",
    "fig.show()"
   ]
  },
  {
   "cell_type": "markdown",
   "metadata": {},
   "source": [
    "## Rental Costs"
   ]
  },
  {
   "cell_type": "code",
   "execution_count": 10,
   "metadata": {},
   "outputs": [],
   "source": [
    "rent = pd.read_csv(\"data/TO_rental_prices.csv\", index_col=0)\n"
   ]
  },
  {
   "cell_type": "code",
   "execution_count": 11,
   "metadata": {},
   "outputs": [
    {
     "data": {
      "application/vnd.plotly.v1+json": {
       "config": {
        "plotlyServerURL": "https://plot.ly"
       },
       "data": [
        {
         "hovertemplate": "<b>%{hovertext}</b><br><br>House Type=1 Bedroom<br>Year=%{x}<br>Monthly Price=%{y}<extra></extra>",
         "hovertext": [
          1990,
          1991,
          1992,
          1993,
          1994,
          1995,
          1996,
          1997,
          1998,
          1999,
          2000,
          2001,
          2002,
          2003,
          2004,
          2005,
          2006,
          2007,
          2008,
          2009,
          2010,
          2011,
          2012,
          2013,
          2014,
          2015,
          2016,
          2017,
          2018,
          2019,
          2020,
          2021,
          2022
         ],
         "legendgroup": "1 Bedroom",
         "line": {
          "color": "#636efa",
          "dash": "solid"
         },
         "marker": {
          "symbol": "circle"
         },
         "mode": "lines",
         "name": "1 Bedroom",
         "orientation": "v",
         "showlegend": true,
         "type": "scatter",
         "x": [
          1990,
          1991,
          1992,
          1993,
          1994,
          1995,
          1996,
          1997,
          1998,
          1999,
          2000,
          2001,
          2002,
          2003,
          2004,
          2005,
          2006,
          2007,
          2008,
          2009,
          2010,
          2011,
          2012,
          2013,
          2014,
          2015,
          2016,
          2017,
          2018,
          2019,
          2020,
          2021,
          2022
         ],
         "xaxis": "x",
         "y": [
          559,
          592,
          610,
          627,
          641,
          661,
          675,
          685,
          729,
          770,
          830,
          866,
          891,
          884,
          886,
          888,
          896,
          900,
          927,
          926,
          949,
          977,
          1007,
          1032,
          1067,
          1103,
          1132,
          1194,
          1261,
          1361,
          1421,
          1439,
          1527
         ],
         "yaxis": "y"
        },
        {
         "hovertemplate": "<b>%{hovertext}</b><br><br>House Type=2 Bedroom<br>Year=%{x}<br>Monthly Price=%{y}<extra></extra>",
         "hovertext": [
          1990,
          1991,
          1992,
          1993,
          1994,
          1995,
          1996,
          1997,
          1998,
          1999,
          2000,
          2001,
          2002,
          2003,
          2004,
          2005,
          2006,
          2007,
          2008,
          2009,
          2010,
          2011,
          2012,
          2013,
          2014,
          2015,
          2016,
          2017,
          2018,
          2019,
          2020,
          2021,
          2022
         ],
         "legendgroup": "2 Bedroom",
         "line": {
          "color": "#EF553B",
          "dash": "solid"
         },
         "marker": {
          "symbol": "circle"
         },
         "mode": "lines",
         "name": "2 Bedroom",
         "orientation": "v",
         "showlegend": true,
         "type": "scatter",
         "x": [
          1990,
          1991,
          1992,
          1993,
          1994,
          1995,
          1996,
          1997,
          1998,
          1999,
          2000,
          2001,
          2002,
          2003,
          2004,
          2005,
          2006,
          2007,
          2008,
          2009,
          2010,
          2011,
          2012,
          2013,
          2014,
          2015,
          2016,
          2017,
          2018,
          2019,
          2020,
          2021,
          2022
         ],
         "xaxis": "x",
         "y": [
          689,
          730,
          755,
          773,
          785,
          805,
          819,
          822,
          881,
          916,
          979,
          1027,
          1047,
          1040,
          1052,
          1052,
          1067,
          1061,
          1095,
          1096,
          1123,
          1148,
          1183,
          1211,
          1251,
          1286,
          1326,
          1403,
          1468,
          1563,
          1637,
          1680,
          1779
         ],
         "yaxis": "y"
        },
        {
         "hovertemplate": "<b>%{hovertext}</b><br><br>House Type=3+ Bedroom<br>Year=%{x}<br>Monthly Price=%{y}<extra></extra>",
         "hovertext": [
          1990,
          1991,
          1992,
          1993,
          1994,
          1995,
          1996,
          1997,
          1998,
          1999,
          2000,
          2001,
          2002,
          2003,
          2004,
          2005,
          2006,
          2007,
          2008,
          2009,
          2010,
          2011,
          2012,
          2013,
          2014,
          2015,
          2016,
          2017,
          2018,
          2019,
          2020,
          2021,
          2022
         ],
         "legendgroup": "3+ Bedroom",
         "line": {
          "color": "#00cc96",
          "dash": "solid"
         },
         "marker": {
          "symbol": "circle"
         },
         "mode": "lines",
         "name": "3+ Bedroom",
         "orientation": "v",
         "showlegend": true,
         "type": "scatter",
         "x": [
          1990,
          1991,
          1992,
          1993,
          1994,
          1995,
          1996,
          1997,
          1998,
          1999,
          2000,
          2001,
          2002,
          2003,
          2004,
          2005,
          2006,
          2007,
          2008,
          2009,
          2010,
          2011,
          2012,
          2013,
          2014,
          2015,
          2016,
          2017,
          2018,
          2019,
          2020,
          2021,
          2022
         ],
         "xaxis": "x",
         "y": [
          842,
          888,
          905,
          930,
          946,
          965,
          988,
          989,
          1053,
          1086,
          1170,
          1218,
          1257,
          1223,
          1245,
          1248,
          1271,
          1261,
          1293,
          1299,
          1329,
          1356,
          1411,
          1461,
          1466,
          1516,
          1525,
          1589,
          1647,
          1730,
          1854,
          1918,
          2018
         ],
         "yaxis": "y"
        },
        {
         "hovertemplate": "<b>%{hovertext}</b><br><br>House Type=Total<br>Year=%{x}<br>Monthly Price=%{y}<extra></extra>",
         "hovertext": [
          1990,
          1991,
          1992,
          1993,
          1994,
          1995,
          1996,
          1997,
          1998,
          1999,
          2000,
          2001,
          2002,
          2003,
          2004,
          2005,
          2006,
          2007,
          2008,
          2009,
          2010,
          2011,
          2012,
          2013,
          2014,
          2015,
          2016,
          2017,
          2018,
          2019,
          2020,
          2021,
          2022
         ],
         "legendgroup": "Total",
         "line": {
          "color": "#ab63fa",
          "dash": "solid"
         },
         "marker": {
          "symbol": "circle"
         },
         "mode": "lines",
         "name": "Total",
         "orientation": "v",
         "showlegend": true,
         "type": "scatter",
         "x": [
          1990,
          1991,
          1992,
          1993,
          1994,
          1995,
          1996,
          1997,
          1998,
          1999,
          2000,
          2001,
          2002,
          2003,
          2004,
          2005,
          2006,
          2007,
          2008,
          2009,
          2010,
          2011,
          2012,
          2013,
          2014,
          2015,
          2016,
          2017,
          2018,
          2019,
          2020,
          2021,
          2022
         ],
         "xaxis": "x",
         "y": [
          634,
          672,
          691,
          710,
          722,
          741,
          755,
          762,
          813,
          850,
          913,
          954,
          981,
          970,
          980,
          979,
          995,
          992,
          1021,
          1018,
          1048,
          1073,
          1108,
          1138,
          1170,
          1208,
          1240,
          1308,
          1370,
          1465,
          1536,
          1570,
          1665
         ],
         "yaxis": "y"
        }
       ],
       "layout": {
        "legend": {
         "title": {
          "text": "House Type"
         },
         "tracegroupgap": 0
        },
        "template": {
         "data": {
          "bar": [
           {
            "error_x": {
             "color": "#2a3f5f"
            },
            "error_y": {
             "color": "#2a3f5f"
            },
            "marker": {
             "line": {
              "color": "#E5ECF6",
              "width": 0.5
             },
             "pattern": {
              "fillmode": "overlay",
              "size": 10,
              "solidity": 0.2
             }
            },
            "type": "bar"
           }
          ],
          "barpolar": [
           {
            "marker": {
             "line": {
              "color": "#E5ECF6",
              "width": 0.5
             },
             "pattern": {
              "fillmode": "overlay",
              "size": 10,
              "solidity": 0.2
             }
            },
            "type": "barpolar"
           }
          ],
          "carpet": [
           {
            "aaxis": {
             "endlinecolor": "#2a3f5f",
             "gridcolor": "white",
             "linecolor": "white",
             "minorgridcolor": "white",
             "startlinecolor": "#2a3f5f"
            },
            "baxis": {
             "endlinecolor": "#2a3f5f",
             "gridcolor": "white",
             "linecolor": "white",
             "minorgridcolor": "white",
             "startlinecolor": "#2a3f5f"
            },
            "type": "carpet"
           }
          ],
          "choropleth": [
           {
            "colorbar": {
             "outlinewidth": 0,
             "ticks": ""
            },
            "type": "choropleth"
           }
          ],
          "contour": [
           {
            "colorbar": {
             "outlinewidth": 0,
             "ticks": ""
            },
            "colorscale": [
             [
              0,
              "#0d0887"
             ],
             [
              0.1111111111111111,
              "#46039f"
             ],
             [
              0.2222222222222222,
              "#7201a8"
             ],
             [
              0.3333333333333333,
              "#9c179e"
             ],
             [
              0.4444444444444444,
              "#bd3786"
             ],
             [
              0.5555555555555556,
              "#d8576b"
             ],
             [
              0.6666666666666666,
              "#ed7953"
             ],
             [
              0.7777777777777778,
              "#fb9f3a"
             ],
             [
              0.8888888888888888,
              "#fdca26"
             ],
             [
              1,
              "#f0f921"
             ]
            ],
            "type": "contour"
           }
          ],
          "contourcarpet": [
           {
            "colorbar": {
             "outlinewidth": 0,
             "ticks": ""
            },
            "type": "contourcarpet"
           }
          ],
          "heatmap": [
           {
            "colorbar": {
             "outlinewidth": 0,
             "ticks": ""
            },
            "colorscale": [
             [
              0,
              "#0d0887"
             ],
             [
              0.1111111111111111,
              "#46039f"
             ],
             [
              0.2222222222222222,
              "#7201a8"
             ],
             [
              0.3333333333333333,
              "#9c179e"
             ],
             [
              0.4444444444444444,
              "#bd3786"
             ],
             [
              0.5555555555555556,
              "#d8576b"
             ],
             [
              0.6666666666666666,
              "#ed7953"
             ],
             [
              0.7777777777777778,
              "#fb9f3a"
             ],
             [
              0.8888888888888888,
              "#fdca26"
             ],
             [
              1,
              "#f0f921"
             ]
            ],
            "type": "heatmap"
           }
          ],
          "heatmapgl": [
           {
            "colorbar": {
             "outlinewidth": 0,
             "ticks": ""
            },
            "colorscale": [
             [
              0,
              "#0d0887"
             ],
             [
              0.1111111111111111,
              "#46039f"
             ],
             [
              0.2222222222222222,
              "#7201a8"
             ],
             [
              0.3333333333333333,
              "#9c179e"
             ],
             [
              0.4444444444444444,
              "#bd3786"
             ],
             [
              0.5555555555555556,
              "#d8576b"
             ],
             [
              0.6666666666666666,
              "#ed7953"
             ],
             [
              0.7777777777777778,
              "#fb9f3a"
             ],
             [
              0.8888888888888888,
              "#fdca26"
             ],
             [
              1,
              "#f0f921"
             ]
            ],
            "type": "heatmapgl"
           }
          ],
          "histogram": [
           {
            "marker": {
             "pattern": {
              "fillmode": "overlay",
              "size": 10,
              "solidity": 0.2
             }
            },
            "type": "histogram"
           }
          ],
          "histogram2d": [
           {
            "colorbar": {
             "outlinewidth": 0,
             "ticks": ""
            },
            "colorscale": [
             [
              0,
              "#0d0887"
             ],
             [
              0.1111111111111111,
              "#46039f"
             ],
             [
              0.2222222222222222,
              "#7201a8"
             ],
             [
              0.3333333333333333,
              "#9c179e"
             ],
             [
              0.4444444444444444,
              "#bd3786"
             ],
             [
              0.5555555555555556,
              "#d8576b"
             ],
             [
              0.6666666666666666,
              "#ed7953"
             ],
             [
              0.7777777777777778,
              "#fb9f3a"
             ],
             [
              0.8888888888888888,
              "#fdca26"
             ],
             [
              1,
              "#f0f921"
             ]
            ],
            "type": "histogram2d"
           }
          ],
          "histogram2dcontour": [
           {
            "colorbar": {
             "outlinewidth": 0,
             "ticks": ""
            },
            "colorscale": [
             [
              0,
              "#0d0887"
             ],
             [
              0.1111111111111111,
              "#46039f"
             ],
             [
              0.2222222222222222,
              "#7201a8"
             ],
             [
              0.3333333333333333,
              "#9c179e"
             ],
             [
              0.4444444444444444,
              "#bd3786"
             ],
             [
              0.5555555555555556,
              "#d8576b"
             ],
             [
              0.6666666666666666,
              "#ed7953"
             ],
             [
              0.7777777777777778,
              "#fb9f3a"
             ],
             [
              0.8888888888888888,
              "#fdca26"
             ],
             [
              1,
              "#f0f921"
             ]
            ],
            "type": "histogram2dcontour"
           }
          ],
          "mesh3d": [
           {
            "colorbar": {
             "outlinewidth": 0,
             "ticks": ""
            },
            "type": "mesh3d"
           }
          ],
          "parcoords": [
           {
            "line": {
             "colorbar": {
              "outlinewidth": 0,
              "ticks": ""
             }
            },
            "type": "parcoords"
           }
          ],
          "pie": [
           {
            "automargin": true,
            "type": "pie"
           }
          ],
          "scatter": [
           {
            "fillpattern": {
             "fillmode": "overlay",
             "size": 10,
             "solidity": 0.2
            },
            "type": "scatter"
           }
          ],
          "scatter3d": [
           {
            "line": {
             "colorbar": {
              "outlinewidth": 0,
              "ticks": ""
             }
            },
            "marker": {
             "colorbar": {
              "outlinewidth": 0,
              "ticks": ""
             }
            },
            "type": "scatter3d"
           }
          ],
          "scattercarpet": [
           {
            "marker": {
             "colorbar": {
              "outlinewidth": 0,
              "ticks": ""
             }
            },
            "type": "scattercarpet"
           }
          ],
          "scattergeo": [
           {
            "marker": {
             "colorbar": {
              "outlinewidth": 0,
              "ticks": ""
             }
            },
            "type": "scattergeo"
           }
          ],
          "scattergl": [
           {
            "marker": {
             "colorbar": {
              "outlinewidth": 0,
              "ticks": ""
             }
            },
            "type": "scattergl"
           }
          ],
          "scattermapbox": [
           {
            "marker": {
             "colorbar": {
              "outlinewidth": 0,
              "ticks": ""
             }
            },
            "type": "scattermapbox"
           }
          ],
          "scatterpolar": [
           {
            "marker": {
             "colorbar": {
              "outlinewidth": 0,
              "ticks": ""
             }
            },
            "type": "scatterpolar"
           }
          ],
          "scatterpolargl": [
           {
            "marker": {
             "colorbar": {
              "outlinewidth": 0,
              "ticks": ""
             }
            },
            "type": "scatterpolargl"
           }
          ],
          "scatterternary": [
           {
            "marker": {
             "colorbar": {
              "outlinewidth": 0,
              "ticks": ""
             }
            },
            "type": "scatterternary"
           }
          ],
          "surface": [
           {
            "colorbar": {
             "outlinewidth": 0,
             "ticks": ""
            },
            "colorscale": [
             [
              0,
              "#0d0887"
             ],
             [
              0.1111111111111111,
              "#46039f"
             ],
             [
              0.2222222222222222,
              "#7201a8"
             ],
             [
              0.3333333333333333,
              "#9c179e"
             ],
             [
              0.4444444444444444,
              "#bd3786"
             ],
             [
              0.5555555555555556,
              "#d8576b"
             ],
             [
              0.6666666666666666,
              "#ed7953"
             ],
             [
              0.7777777777777778,
              "#fb9f3a"
             ],
             [
              0.8888888888888888,
              "#fdca26"
             ],
             [
              1,
              "#f0f921"
             ]
            ],
            "type": "surface"
           }
          ],
          "table": [
           {
            "cells": {
             "fill": {
              "color": "#EBF0F8"
             },
             "line": {
              "color": "white"
             }
            },
            "header": {
             "fill": {
              "color": "#C8D4E3"
             },
             "line": {
              "color": "white"
             }
            },
            "type": "table"
           }
          ]
         },
         "layout": {
          "annotationdefaults": {
           "arrowcolor": "#2a3f5f",
           "arrowhead": 0,
           "arrowwidth": 1
          },
          "autotypenumbers": "strict",
          "coloraxis": {
           "colorbar": {
            "outlinewidth": 0,
            "ticks": ""
           }
          },
          "colorscale": {
           "diverging": [
            [
             0,
             "#8e0152"
            ],
            [
             0.1,
             "#c51b7d"
            ],
            [
             0.2,
             "#de77ae"
            ],
            [
             0.3,
             "#f1b6da"
            ],
            [
             0.4,
             "#fde0ef"
            ],
            [
             0.5,
             "#f7f7f7"
            ],
            [
             0.6,
             "#e6f5d0"
            ],
            [
             0.7,
             "#b8e186"
            ],
            [
             0.8,
             "#7fbc41"
            ],
            [
             0.9,
             "#4d9221"
            ],
            [
             1,
             "#276419"
            ]
           ],
           "sequential": [
            [
             0,
             "#0d0887"
            ],
            [
             0.1111111111111111,
             "#46039f"
            ],
            [
             0.2222222222222222,
             "#7201a8"
            ],
            [
             0.3333333333333333,
             "#9c179e"
            ],
            [
             0.4444444444444444,
             "#bd3786"
            ],
            [
             0.5555555555555556,
             "#d8576b"
            ],
            [
             0.6666666666666666,
             "#ed7953"
            ],
            [
             0.7777777777777778,
             "#fb9f3a"
            ],
            [
             0.8888888888888888,
             "#fdca26"
            ],
            [
             1,
             "#f0f921"
            ]
           ],
           "sequentialminus": [
            [
             0,
             "#0d0887"
            ],
            [
             0.1111111111111111,
             "#46039f"
            ],
            [
             0.2222222222222222,
             "#7201a8"
            ],
            [
             0.3333333333333333,
             "#9c179e"
            ],
            [
             0.4444444444444444,
             "#bd3786"
            ],
            [
             0.5555555555555556,
             "#d8576b"
            ],
            [
             0.6666666666666666,
             "#ed7953"
            ],
            [
             0.7777777777777778,
             "#fb9f3a"
            ],
            [
             0.8888888888888888,
             "#fdca26"
            ],
            [
             1,
             "#f0f921"
            ]
           ]
          },
          "colorway": [
           "#636efa",
           "#EF553B",
           "#00cc96",
           "#ab63fa",
           "#FFA15A",
           "#19d3f3",
           "#FF6692",
           "#B6E880",
           "#FF97FF",
           "#FECB52"
          ],
          "font": {
           "color": "#2a3f5f"
          },
          "geo": {
           "bgcolor": "white",
           "lakecolor": "white",
           "landcolor": "#E5ECF6",
           "showlakes": true,
           "showland": true,
           "subunitcolor": "white"
          },
          "hoverlabel": {
           "align": "left"
          },
          "hovermode": "closest",
          "mapbox": {
           "style": "light"
          },
          "paper_bgcolor": "white",
          "plot_bgcolor": "#E5ECF6",
          "polar": {
           "angularaxis": {
            "gridcolor": "white",
            "linecolor": "white",
            "ticks": ""
           },
           "bgcolor": "#E5ECF6",
           "radialaxis": {
            "gridcolor": "white",
            "linecolor": "white",
            "ticks": ""
           }
          },
          "scene": {
           "xaxis": {
            "backgroundcolor": "#E5ECF6",
            "gridcolor": "white",
            "gridwidth": 2,
            "linecolor": "white",
            "showbackground": true,
            "ticks": "",
            "zerolinecolor": "white"
           },
           "yaxis": {
            "backgroundcolor": "#E5ECF6",
            "gridcolor": "white",
            "gridwidth": 2,
            "linecolor": "white",
            "showbackground": true,
            "ticks": "",
            "zerolinecolor": "white"
           },
           "zaxis": {
            "backgroundcolor": "#E5ECF6",
            "gridcolor": "white",
            "gridwidth": 2,
            "linecolor": "white",
            "showbackground": true,
            "ticks": "",
            "zerolinecolor": "white"
           }
          },
          "shapedefaults": {
           "line": {
            "color": "#2a3f5f"
           }
          },
          "ternary": {
           "aaxis": {
            "gridcolor": "white",
            "linecolor": "white",
            "ticks": ""
           },
           "baxis": {
            "gridcolor": "white",
            "linecolor": "white",
            "ticks": ""
           },
           "bgcolor": "#E5ECF6",
           "caxis": {
            "gridcolor": "white",
            "linecolor": "white",
            "ticks": ""
           }
          },
          "title": {
           "x": 0.05
          },
          "xaxis": {
           "automargin": true,
           "gridcolor": "white",
           "linecolor": "white",
           "ticks": "",
           "title": {
            "standoff": 15
           },
           "zerolinecolor": "white",
           "zerolinewidth": 2
          },
          "yaxis": {
           "automargin": true,
           "gridcolor": "white",
           "linecolor": "white",
           "ticks": "",
           "title": {
            "standoff": 15
           },
           "zerolinecolor": "white",
           "zerolinewidth": 2
          }
         }
        },
        "title": {
         "text": "Rental Prices of Condos Over the Years"
        },
        "xaxis": {
         "anchor": "y",
         "domain": [
          0,
          1
         ],
         "title": {
          "text": "Year"
         }
        },
        "yaxis": {
         "anchor": "x",
         "domain": [
          0,
          1
         ],
         "title": {
          "text": "Monthly Price"
         }
        }
       }
      }
     },
     "metadata": {},
     "output_type": "display_data"
    }
   ],
   "source": [
    "fig = px.line(rent, \n",
    "              x='Year', \n",
    "              y=rent.columns[2:], \n",
    "              labels={'value': 'Monthly Price', 'variable':'House Type'}, \n",
    "              title='Rental Prices of Condos Over the Years',\n",
    "              hover_name='Year',)\n",
    "\n",
    "fig.update_layout(\n",
    "    xaxis_title='Year',\n",
    "    yaxis_title='Monthly Price',\n",
    "    legend_title_text='House Type'\n",
    ")\n",
    "\n",
    "fig.show()"
   ]
  },
  {
   "cell_type": "markdown",
   "metadata": {},
   "source": [
    "## Living Costs"
   ]
  },
  {
   "cell_type": "code",
   "execution_count": 12,
   "metadata": {},
   "outputs": [
    {
     "name": "stdout",
     "output_type": "stream",
     "text": [
      "Yearly Hydro Cost\n",
      "Avg Hydro Cost: $1380.69\n"
     ]
    }
   ],
   "source": [
    "## hydro cost estimator\n",
    "\n",
    "def est_elect(usage):\n",
    "    # Est. Electricity Consumption\n",
    "    cost_off_peak = 8.7\n",
    "    cost_mid_peak = 12.2\n",
    "    cost_on_peak = 18.2\n",
    "    T_off_peak = 12\n",
    "    T_mid_peak = 6\n",
    "    T_on_peak = 6\n",
    "    fees = 50\n",
    "    trans = 1.891\n",
    "    \n",
    "    total_time = T_off_peak + T_mid_peak + T_on_peak\n",
    "    \n",
    "    weighted_average_cost = ((cost_off_peak * T_off_peak) + (cost_mid_peak * T_mid_peak) + (cost_on_peak * T_on_peak)) / total_time\n",
    "\n",
    "    return (((trans+weighted_average_cost) * usage)/100) + fees\n",
    "    # Est. Water Consumption\n",
    "def est_water(usage):\n",
    "    cost = 4.3863 # per m**3\n",
    "    return cost * usage\n",
    "\n",
    "print(f\"Yearly Hydro Cost\")\n",
    "costs = []\n",
    "for i in range(5000, 15000, 1000): # kWh\n",
    "    for j in range(100, 300, 100): # m**3\n",
    "        #print(f\"Electricity Consumption: {i} kWh. Cost ${est_elect(i):.2f}\")\n",
    "        #print(f\"Water Consumption: {(j/1000)*24:.2f} m^3. Cost ${est_water(j/1000*24):.2f}\")\n",
    "        #print(f\"Total Cost: ${est_elect(i) + est_water(j/1000*24):.2f}\")\n",
    "        costs.append(est_elect(i) + est_water(j/1000*24))\n",
    "\n",
    "avg_hydro_cost = sum(costs)/len(costs)\n",
    "print(f\"Avg Hydro Cost: ${avg_hydro_cost:.2f}\")"
   ]
  },
  {
   "cell_type": "code",
   "execution_count": 13,
   "metadata": {},
   "outputs": [
    {
     "name": "stdout",
     "output_type": "stream",
     "text": [
      "Monthly Finances \n",
      "--------------------\n",
      "Net income:  $10,250.0\n",
      "Expenses:    $5,214.56\n",
      "  Rent:          $3,000.00\n",
      "  Est. Utils:    $215.06\n",
      "  Est. Spending: $1,999.50\n",
      "Net Savings: $5,035.44\n",
      "Percent expenses of income: 51%\n",
      "===================================\n",
      "Yearly Finances \n",
      "--------------------\n",
      "Net income:  $123,000\n",
      "Expenses:    $62,574.69\n",
      "  Rent:          $36,000.00\n",
      "  Est. Utils:    $2,580.69\n",
      "  Est. Spending: $23,994.00\n",
      "Net Savings: $60,425.31\n",
      "Percent expenses of income: 51%\n"
     ]
    }
   ],
   "source": [
    "rent = 3000\n",
    "net_income = 63_000 + 60_000  # Ben (gross. $85k) + Liz (gross. $81k)\n",
    "est_util = avg_hydro_cost/12 + 100\n",
    "spending = list(range(1000, 3000))\n",
    "est_spending = sum(spending)/len(spending)\n",
    "\n",
    "expenses = (rent + est_util + est_spending) * 12\n",
    "savings = net_income - expenses\n",
    "\n",
    "print(f\"Monthly Finances \\n{'':-<20}\")\n",
    "print(f\"Net income:  ${net_income/12:,}\")\n",
    "print(f\"Expenses:    ${expenses/12:,.2f}\")\n",
    "print(f\"  Rent:          ${rent:,.2f}\")\n",
    "print(f\"  Est. Utils:    ${est_util:,.2f}\")\n",
    "print(f\"  Est. Spending: ${est_spending:,.2f}\")\n",
    "print(f\"Net Savings: ${savings/12:,.2f}\")\n",
    "print(f\"Percent expenses of income: {(expenses/12)/(net_income/12)*100:.0f}%\")\n",
    "print(f\"{'':=<35}\")\n",
    "print(f\"Yearly Finances \\n{'':-<20}\")\n",
    "print(f\"Net income:  ${net_income:,}\")\n",
    "print(f\"Expenses:    ${expenses:,.2f}\")\n",
    "print(f\"  Rent:          ${rent * 12:,.2f}\")\n",
    "print(f\"  Est. Utils:    ${est_util * 12:,.2f}\")\n",
    "print(f\"  Est. Spending: ${est_spending * 12:,.2f}\")\n",
    "print(f\"Net Savings: ${savings:,.2f}\")\n",
    "print(f\"Percent expenses of income: {expenses/net_income*100:.0f}%\")"
   ]
  },
  {
   "cell_type": "markdown",
   "metadata": {},
   "source": [
    "### Savings"
   ]
  },
  {
   "cell_type": "code",
   "execution_count": 14,
   "metadata": {},
   "outputs": [
    {
     "data": {
      "application/vnd.jupyter.widget-view+json": {
       "model_id": "db9e70f2688149fab73f72f3d6675f4e",
       "version_major": 2,
       "version_minor": 0
      },
      "text/plain": [
       "interactive(children=(IntSlider(value=4, description='Years: ', max=10, min=1, style=SliderStyle(handle_color=…"
      ]
     },
     "metadata": {},
     "output_type": "display_data"
    },
    {
     "data": {
      "text/plain": [
       "<function __main__.update_years(years)>"
      ]
     },
     "execution_count": 14,
     "metadata": {},
     "output_type": "execute_result"
    }
   ],
   "source": [
    "def update_years(years):\n",
    "    print(f\"Savings after {years} years: ${savings*years:,.2f}\")\n",
    "\n",
    "interact(update_years,  \n",
    "         years=widgets.IntSlider(value=4, min=1, max=10, step=1, description='Years: ', style={'handle_color': 'blue'}))"
   ]
  },
  {
   "cell_type": "code",
   "execution_count": 15,
   "metadata": {},
   "outputs": [],
   "source": [
    "class Mortgage(Loan):\n",
    "    def __init__(self, principal, interest, term, term_unit='years', compounded='monthly', currency='$'):\n",
    "        super().__init__(principal, interest, term, term_unit, compounded, currency)\n",
    "\n",
    "    @property\n",
    "    def n_payments(self):\n",
    "        return len(self._schedule)\n",
    "    \n",
    "    @property\n",
    "    def summarize(self):\n",
    "        print('Original Balance:         {}{:>11,}'.format(self._currency,self.principal))\n",
    "        print('Interest Rate:             {:>11.2f} %'.format(self.interest * 100))\n",
    "        print('APY:                       {:>11} %'.format(self.apy))\n",
    "        print('APR:                       {:>11} %'.format(self.apr))\n",
    "        print('Term:                      {:>11} {}'.format(self.term, self.term_unit))\n",
    "        print('Monthly Payment:          {}{:>11}'.format(self._currency,self.monthly_payment))\n",
    "        print('')\n",
    "        print('Total principal payments: {}{:>11,}'.format(self._currency,self.total_principal))\n",
    "        print('Total interest payments:  {}{:>11,}'.format(self._currency,self.total_interest))\n",
    "        print('Total payments:           {}{:>11,}'.format(self._currency,self.total_paid))\n",
    "        print('Interest to principal:     {:>11} %'.format(self.interest_to_principle))\n",
    "        print('Years to pay:              {:>11}'.format(self.years_to_pay))\n",
    "\n",
    "    @property\n",
    "    def schedule_df(self):\n",
    "        data = []\n",
    "        for i, p in enumerate(self._schedule):\n",
    "            if i == 0:\n",
    "                continue\n",
    "            data.append({\n",
    "                \"Payment Number\": i,\n",
    "                \"Payment\": p.payment,\n",
    "                \"Interest\": p.interest,\n",
    "                \"Principal\": p.principal,\n",
    "                \"Balance\": p.balance\n",
    "            })\n",
    "        df = pd.DataFrame(data)\n",
    "        df['Years'] = df[\"Payment Number\"]// 12\n",
    "        return df\n",
    "    \n",
    "    def schedule(self, nth_payment=None):\n",
    "        if nth_payment:\n",
    "            data = self._schedule[nth_payment]\n",
    "        else:\n",
    "            data = self._schedule[1:]\n",
    "        return data\n",
    "\n",
    "\n",
    "    def schedule_graph(self, cols=[\"Interest\", \"Principal\"]):\n",
    "        fig = px.line(self.schedule_df, x=self.schedule_df[\"Payment Number\"], y=cols,\n",
    "                    labels={\"value\": \"Amount ($)\", \"variable\": \"Type\", \"x\": \"Payment Number\"},\n",
    "                    title=f\"Payment Schedule\",\n",
    "                    line_shape=\"linear\", render_mode=\"svg\")\n",
    "        fig.add_annotation(\n",
    "            text=f\"Monthly Payment = ${super().monthly_payment:,.2f}\",\n",
    "            xref=\"paper\", yref=\"paper\",\n",
    "            x=-0.025, y=1.12,\n",
    "            showarrow=False,\n",
    "            font=dict(size=14, color=\"dark blue\")\n",
    "        )\n",
    "\n",
    "        return fig\n"
   ]
  },
  {
   "cell_type": "code",
   "execution_count": 16,
   "metadata": {},
   "outputs": [
    {
     "name": "stdout",
     "output_type": "stream",
     "text": [
      "Move sliders to display the graph\n"
     ]
    },
    {
     "data": {
      "application/vnd.jupyter.widget-view+json": {
       "model_id": "0499a0ff7fbd4b3186caf7139dcf1d5a",
       "version_major": 2,
       "version_minor": 0
      },
      "text/plain": [
       "interactive(children=(IntSlider(value=200000, description='House Price: ', max=1500000, min=200000, step=50000…"
      ]
     },
     "metadata": {},
     "output_type": "display_data"
    },
    {
     "data": {
      "application/vnd.plotly.v1+json": {
       "config": {
        "plotlyServerURL": "https://plot.ly"
       },
       "data": [
        {
         "customdata": [
          14,
          14,
          14,
          14,
          14,
          14,
          14,
          14,
          15,
          15,
          15,
          15,
          15,
          15,
          15,
          15,
          15,
          15,
          15,
          15,
          15,
          16,
          16,
          16,
          16,
          16,
          16,
          16,
          16,
          16,
          16,
          16,
          17,
          17,
          17,
          17,
          17,
          17,
          17,
          17,
          17,
          17,
          17,
          18,
          18,
          18,
          18,
          18,
          18,
          18,
          18,
          18,
          18,
          19,
          19,
          19,
          19,
          19,
          19,
          19,
          19,
          19,
          20,
          20,
          20,
          20,
          20,
          20,
          20,
          20,
          20,
          20,
          21,
          21,
          21,
          21,
          21,
          21,
          21,
          21,
          22,
          22,
          22,
          22,
          22,
          22,
          22,
          22,
          22,
          23,
          23,
          23,
          23,
          23,
          23,
          23,
          24,
          24,
          24,
          24,
          24,
          24,
          24,
          24,
          25,
          25,
          25,
          25,
          25,
          25,
          25,
          26,
          26,
          26,
          26,
          26,
          26,
          26,
          27,
          27,
          27,
          27,
          27,
          27,
          27,
          28,
          28,
          28,
          28,
          28,
          28,
          28,
          29,
          29,
          29,
          29,
          29,
          29,
          30,
          30,
          30,
          30,
          30,
          30,
          31,
          31,
          31,
          31,
          31,
          31,
          32,
          32,
          32,
          32,
          32,
          32,
          33,
          33,
          33,
          33,
          33,
          34,
          34,
          34,
          34,
          34,
          35,
          35,
          35,
          35,
          35,
          35,
          36,
          36,
          36,
          36,
          36,
          37,
          37,
          37,
          37,
          37,
          38,
          38,
          38,
          38,
          39,
          39,
          39,
          39,
          39,
          40,
          40,
          40,
          40,
          40,
          41,
          41,
          41,
          41,
          42,
          42,
          42,
          42,
          43,
          43,
          43,
          43,
          43,
          44,
          44,
          44,
          44,
          45,
          45,
          45,
          45,
          46,
          46,
          46,
          46,
          47,
          47,
          47,
          47,
          48,
          48,
          48,
          48,
          49,
          49,
          49,
          50,
          50,
          50,
          50,
          51,
          51,
          51,
          51,
          52,
          52,
          52,
          53,
          53,
          53,
          54,
          54,
          54,
          54,
          55,
          55,
          55,
          56,
          56,
          56,
          57,
          57,
          57,
          57,
          58,
          58,
          58,
          59,
          59,
          59,
          60,
          60,
          60,
          61,
          61,
          61,
          62,
          62,
          62,
          63,
          63,
          63,
          64,
          64,
          64,
          65,
          65,
          66,
          66,
          66,
          67,
          67,
          67,
          68,
          68,
          68,
          69,
          69,
          70,
          70,
          70,
          71,
          71,
          72,
          72,
          72,
          73,
          73,
          74,
          74,
          74,
          75,
          75,
          76,
          76,
          76,
          77,
          77,
          78,
          78,
          79,
          79,
          79,
          80,
          80,
          81,
          81,
          82,
          82,
          83,
          83,
          83,
          84,
          84,
          85,
          85,
          86,
          86,
          87,
          87,
          88,
          88,
          89,
          89,
          90,
          90,
          91,
          91,
          92,
          92,
          93,
          93,
          94,
          94,
          95,
          95,
          96,
          96,
          97,
          97,
          98,
          98,
          99,
          99
         ],
         "hovertemplate": "Principal: $%{y:.2f}<br>Year: %{text}<br> % of Monthly: %{customdata}%",
         "mode": "lines",
         "name": "Principal",
         "text": [
          "0",
          "0",
          "0",
          "0",
          "0",
          "0",
          "0",
          "0",
          "0",
          "0",
          "0",
          "0",
          "1",
          "1",
          "1",
          "1",
          "1",
          "1",
          "1",
          "1",
          "1",
          "1",
          "1",
          "1",
          "2",
          "2",
          "2",
          "2",
          "2",
          "2",
          "2",
          "2",
          "2",
          "2",
          "2",
          "2",
          "3",
          "3",
          "3",
          "3",
          "3",
          "3",
          "3",
          "3",
          "3",
          "3",
          "3",
          "3",
          "4",
          "4",
          "4",
          "4",
          "4",
          "4",
          "4",
          "4",
          "4",
          "4",
          "4",
          "4",
          "5",
          "5",
          "5",
          "5",
          "5",
          "5",
          "5",
          "5",
          "5",
          "5",
          "5",
          "5",
          "6",
          "6",
          "6",
          "6",
          "6",
          "6",
          "6",
          "6",
          "6",
          "6",
          "6",
          "6",
          "7",
          "7",
          "7",
          "7",
          "7",
          "7",
          "7",
          "7",
          "7",
          "7",
          "7",
          "7",
          "8",
          "8",
          "8",
          "8",
          "8",
          "8",
          "8",
          "8",
          "8",
          "8",
          "8",
          "8",
          "9",
          "9",
          "9",
          "9",
          "9",
          "9",
          "9",
          "9",
          "9",
          "9",
          "9",
          "9",
          "10",
          "10",
          "10",
          "10",
          "10",
          "10",
          "10",
          "10",
          "10",
          "10",
          "10",
          "10",
          "11",
          "11",
          "11",
          "11",
          "11",
          "11",
          "11",
          "11",
          "11",
          "11",
          "11",
          "11",
          "12",
          "12",
          "12",
          "12",
          "12",
          "12",
          "12",
          "12",
          "12",
          "12",
          "12",
          "12",
          "13",
          "13",
          "13",
          "13",
          "13",
          "13",
          "13",
          "13",
          "13",
          "13",
          "13",
          "13",
          "14",
          "14",
          "14",
          "14",
          "14",
          "14",
          "14",
          "14",
          "14",
          "14",
          "14",
          "14",
          "15",
          "15",
          "15",
          "15",
          "15",
          "15",
          "15",
          "15",
          "15",
          "15",
          "15",
          "15",
          "16",
          "16",
          "16",
          "16",
          "16",
          "16",
          "16",
          "16",
          "16",
          "16",
          "16",
          "16",
          "17",
          "17",
          "17",
          "17",
          "17",
          "17",
          "17",
          "17",
          "17",
          "17",
          "17",
          "17",
          "18",
          "18",
          "18",
          "18",
          "18",
          "18",
          "18",
          "18",
          "18",
          "18",
          "18",
          "18",
          "19",
          "19",
          "19",
          "19",
          "19",
          "19",
          "19",
          "19",
          "19",
          "19",
          "19",
          "19",
          "20",
          "20",
          "20",
          "20",
          "20",
          "20",
          "20",
          "20",
          "20",
          "20",
          "20",
          "20",
          "21",
          "21",
          "21",
          "21",
          "21",
          "21",
          "21",
          "21",
          "21",
          "21",
          "21",
          "21",
          "22",
          "22",
          "22",
          "22",
          "22",
          "22",
          "22",
          "22",
          "22",
          "22",
          "22",
          "22",
          "23",
          "23",
          "23",
          "23",
          "23",
          "23",
          "23",
          "23",
          "23",
          "23",
          "23",
          "23",
          "24",
          "24",
          "24",
          "24",
          "24",
          "24",
          "24",
          "24",
          "24",
          "24",
          "24",
          "24",
          "25",
          "25",
          "25",
          "25",
          "25",
          "25",
          "25",
          "25",
          "25",
          "25",
          "25",
          "25",
          "26",
          "26",
          "26",
          "26",
          "26",
          "26",
          "26",
          "26",
          "26",
          "26",
          "26",
          "26",
          "27",
          "27",
          "27",
          "27",
          "27",
          "27",
          "27",
          "27",
          "27",
          "27",
          "27",
          "27",
          "28",
          "28",
          "28",
          "28",
          "28",
          "28",
          "28",
          "28",
          "28",
          "28",
          "28",
          "28",
          "29",
          "29",
          "29",
          "29",
          "29",
          "29",
          "29",
          "29",
          "29",
          "29",
          "29",
          "29"
         ],
         "type": "scatter",
         "x": [
          0,
          1,
          2,
          3,
          4,
          5,
          6,
          7,
          8,
          9,
          10,
          11,
          12,
          13,
          14,
          15,
          16,
          17,
          18,
          19,
          20,
          21,
          22,
          23,
          24,
          25,
          26,
          27,
          28,
          29,
          30,
          31,
          32,
          33,
          34,
          35,
          36,
          37,
          38,
          39,
          40,
          41,
          42,
          43,
          44,
          45,
          46,
          47,
          48,
          49,
          50,
          51,
          52,
          53,
          54,
          55,
          56,
          57,
          58,
          59,
          60,
          61,
          62,
          63,
          64,
          65,
          66,
          67,
          68,
          69,
          70,
          71,
          72,
          73,
          74,
          75,
          76,
          77,
          78,
          79,
          80,
          81,
          82,
          83,
          84,
          85,
          86,
          87,
          88,
          89,
          90,
          91,
          92,
          93,
          94,
          95,
          96,
          97,
          98,
          99,
          100,
          101,
          102,
          103,
          104,
          105,
          106,
          107,
          108,
          109,
          110,
          111,
          112,
          113,
          114,
          115,
          116,
          117,
          118,
          119,
          120,
          121,
          122,
          123,
          124,
          125,
          126,
          127,
          128,
          129,
          130,
          131,
          132,
          133,
          134,
          135,
          136,
          137,
          138,
          139,
          140,
          141,
          142,
          143,
          144,
          145,
          146,
          147,
          148,
          149,
          150,
          151,
          152,
          153,
          154,
          155,
          156,
          157,
          158,
          159,
          160,
          161,
          162,
          163,
          164,
          165,
          166,
          167,
          168,
          169,
          170,
          171,
          172,
          173,
          174,
          175,
          176,
          177,
          178,
          179,
          180,
          181,
          182,
          183,
          184,
          185,
          186,
          187,
          188,
          189,
          190,
          191,
          192,
          193,
          194,
          195,
          196,
          197,
          198,
          199,
          200,
          201,
          202,
          203,
          204,
          205,
          206,
          207,
          208,
          209,
          210,
          211,
          212,
          213,
          214,
          215,
          216,
          217,
          218,
          219,
          220,
          221,
          222,
          223,
          224,
          225,
          226,
          227,
          228,
          229,
          230,
          231,
          232,
          233,
          234,
          235,
          236,
          237,
          238,
          239,
          240,
          241,
          242,
          243,
          244,
          245,
          246,
          247,
          248,
          249,
          250,
          251,
          252,
          253,
          254,
          255,
          256,
          257,
          258,
          259,
          260,
          261,
          262,
          263,
          264,
          265,
          266,
          267,
          268,
          269,
          270,
          271,
          272,
          273,
          274,
          275,
          276,
          277,
          278,
          279,
          280,
          281,
          282,
          283,
          284,
          285,
          286,
          287,
          288,
          289,
          290,
          291,
          292,
          293,
          294,
          295,
          296,
          297,
          298,
          299,
          300,
          301,
          302,
          303,
          304,
          305,
          306,
          307,
          308,
          309,
          310,
          311,
          312,
          313,
          314,
          315,
          316,
          317,
          318,
          319,
          320,
          321,
          322,
          323,
          324,
          325,
          326,
          327,
          328,
          329,
          330,
          331,
          332,
          333,
          334,
          335,
          336,
          337,
          338,
          339,
          340,
          341,
          342,
          343,
          344,
          345,
          346,
          347,
          348,
          349,
          350,
          351,
          352,
          353,
          354,
          355,
          356,
          357,
          358,
          359
         ],
         "y": [
          106.39058162958426,
          106.97572982854697,
          107.56409634260399,
          108.1556988724883,
          108.750555216287,
          109.34868326997658,
          109.95010102796144,
          110.55482658361524,
          111.16287812982512,
          111.77427395953916,
          112.38903246631662,
          113.00717214488137,
          113.62871159167821,
          114.25366950543244,
          114.88206468771232,
          115.51391604349473,
          116.14924258173396,
          116.7880634159335,
          117.43039776472112,
          118.0762649524271,
          118.72568440966545,
          119.37867567391861,
          120.03525839012515,
          120.69545231127084,
          121.35927729898283,
          122.02675332412724,
          122.69790046740994,
          123.37273891998069,
          124.05128898404058,
          124.73357107345281,
          125.4196057143568,
          126.10941354578576,
          126.80301532028759,
          127.50043190454916,
          128.20168428002418,
          128.90679354356433,
          129.61578090805392,
          130.3286677030482,
          131.04547537541498,
          131.76622548997977,
          132.49093973017466,
          133.21963989869062,
          133.95234791813343,
          134.68908583168314,
          135.4298758037574,
          136.17474012067808,
          136.9237011913418,
          137.6767815478942,
          138.4340038464076,
          139.19539086756285,
          139.96096551733444,
          140.73075082767977,
          141.504769957232,
          142.2830461919968,
          143.06560294605276,
          143.85246376225606,
          144.64365231294846,
          145.4391924006697,
          146.23910795887338,
          147.04342305264717,
          147.85216187943675,
          148.66534876977363,
          149.4830081880074,
          150.30516473304144,
          151.13184313907317,
          151.96306827633808,
          152.7988651518579,
          153.63925891019315,
          154.4842748341992,
          155.3339383457873,
          156.18827500668914,
          157.04731051922593,
          157.91107072708166,
          158.7795816160806,
          159.65286931496905,
          160.5309600962014,
          161.4138803767305,
          162.30165671880252,
          163.19431583075593,
          164.09188456782508,
          164.9943899329481,
          165.90185907757933,
          166.81431930250602,
          167.7317980586698,
          168.65432294799248,
          169.58192172420644,
          170.5146222936896,
          171.4524527163049,
          172.39544120624456,
          173.3436161328789,
          174.29700602160975,
          175.2556395547286,
          176.2195455722796,
          177.18875307292714,
          178.16329121482823,
          179.1431893165098,
          180.1284768577506,
          181.11918348046822,
          182.1153389896108,
          183.11697335405364,
          184.12411670750095,
          185.1367993493922,
          186.15505174581386,
          187.17890453041585,
          188.20838850533312,
          189.24353464211245,
          190.28437408264406,
          191.33093814009862,
          192.38325829986917,
          193.44136622051843,
          194.50529373473128,
          195.5750728502723,
          196.65073575094883,
          197.73231479757902,
          198.81984252896572,
          199.91335166287502,
          201.01287509702084,
          202.11844591005445,
          203.23009736255975,
          204.34786289805385,
          205.47177614399314,
          206.6018709127851,
          207.7381812028054,
          208.88074119942084,
          210.02958527601766,
          211.18474799503576,
          212.34626410900844,
          213.514168561608,
          214.68849648869684,
          215.86928321938467,
          217.0565642770913,
          218.25037538061528,
          219.45075244520868,
          220.65773158365732,
          221.87134910736745,
          223.09164152745797,
          224.31864555585898,
          225.5523981064162,
          226.7929362960015,
          228.0402974456295,
          229.29451908158046,
          230.55563893652916,
          231.82369495068008,
          233.0987252729088,
          234.3807682619098,
          235.66986248735031,
          236.96604673103073,
          238.2693599880514,
          239.5798414679857,
          240.8975305960596,
          242.22246701433792,
          243.5546905829168,
          244.89424138112284,
          246.241159708719,
          247.59548608711697,
          248.9572612605961,
          250.32652619752938,
          251.7033220916158,
          253.0876903631197,
          254.47967266011685,
          255.87931085974748,
          257.2866470694761,
          258.7017236283582,
          260.1245831083142,
          261.55526831540993,
          262.9938222911447,
          264.44028831374595,
          265.8947098994716,
          267.35713080391866,
          268.8275950233402,
          270.3061467959686,
          271.79283060334643,
          273.28769117166485,
          274.79077347310897,
          276.3021227272111,
          277.82178440221077,
          279.3498042164229,
          280.88622813961325,
          282.43110239438107,
          283.98447345755017,
          285.54638806156674,
          287.11689319590533,
          288.6960361084828,
          290.28386430707945,
          291.8804255607684,
          293.48576790135263,
          295.0999396248101,
          296.72298929274655,
          298.35496573385666,
          299.99591804539284,
          301.6458955946425,
          303.30494802041306,
          304.9731252345253,
          306.6504774233152,
          308.33705504914343,
          310.0329088519137,
          311.73808985059924,
          313.45264934477757,
          315.17663891617383,
          316.9101104302128,
          318.65311603757897,
          320.40570817578566,
          322.1679395707525,
          323.9398632383916,
          325.72153248620276,
          327.51300091487684,
          329.3143224199087,
          331.1255511932182,
          332.9467417247809,
          334.77794880426717,
          336.61922752269066,
          338.47063327406545,
          340.33222175707283,
          342.2040489767367,
          344.0861712461088,
          345.97864518796234,
          347.88152773649614,
          349.7948761390469,
          351.7187479578116,
          353.6532010715796,
          355.5982936774733,
          357.5540842926994,
          359.52063175630923,
          361.49799523096897,
          363.4862342047393,
          365.48540849286536,
          367.4955782395761,
          369.5168039198938,
          371.5491463414532,
          373.59266664633117,
          375.647426312886,
          377.7134871576069,
          379.7909113369737,
          381.87976134932705,
          383.98010003674835,
          386.0919905869505,
          388.2154965351787,
          390.3506817661222,
          392.49761051583585,
          394.656347373673,
          396.8269572842282,
          399.0095055492914,
          401.20405782981254,
          403.41068014787646,
          405.62943888868983,
          407.8604008025776,
          410.1036330069918,
          412.3592029885302,
          414.6271786049671,
          416.9076280872945,
          419.2006200417746,
          421.50622345200435,
          423.8245076809904,
          426.1555424732358,
          428.4993979568386,
          430.8561446456012,
          433.225853441152,
          435.60859563507836,
          438.0044429110713,
          440.4134673470822,
          442.83574141749114,
          445.27133799528735,
          447.7203303542614,
          450.1827921712099,
          452.6587975281515,
          455.14842091455637,
          457.65173722958644,
          460.1688217843491,
          462.69975030416305,
          465.244598930836,
          467.80344422495557,
          470.3763631681928,
          472.96343316561786,
          475.56473204802876,
          478.18033807429293,
          480.81032993370155,
          483.4547867483369,
          486.11378807545276,
          488.7874139098677,
          491.475744686372,
          494.17886128214707,
          496.89684501919885,
          499.62977766680444,
          502.3777414439719,
          505.1408190219137,
          507.91909352653425,
          510.7126485409302,
          513.5215681079053,
          516.3459367324988,
          519.1858393845275,
          522.0413615011424,
          524.9125889893987,
          527.7996082288404,
          530.702506074099,
          533.6213698575066,
          536.5562873917229,
          539.5073469723774,
          542.4746373807254,
          545.4582478863194,
          548.4582682496941,
          551.4747887250675,
          554.5079000630553,
          557.5576935134022,
          560.6242608277258,
          563.7076942622783,
          566.8080865807209,
          569.9255310569149,
          573.0601214777279,
          576.2119521458554,
          579.3811178826576,
          582.5677140310122,
          585.7718364581827,
          588.9935815587028,
          592.2330462572756,
          595.4903280116907,
          598.7655248157549,
          602.0587352022417,
          605.370058245854,
          608.6995935662062,
          612.0474413308203,
          615.4137022581398,
          618.7984776205595,
          622.2018692474727,
          625.6239795283337,
          629.0649114157396,
          632.5247684285262,
          636.003654654883,
          639.5016747554849,
          643.0189339666401,
          646.5555381034566,
          650.1115935630256,
          653.6872073276222,
          657.2824869679242,
          660.8975406462478,
          664.5324771198021,
          668.187405743961,
          671.8624364755528,
          675.5576798761683,
          679.2732471154873,
          683.0092499746224,
          686.7658008494828,
          690.543012754155,
          694.3409993243029,
          698.1598748205865,
          701.9997541320998,
          705.8607527798264,
          709.7429869201154,
          713.646573348176,
          717.571629501591,
          721.5182734638497,
          725.4866239679009,
          729.4768003997244,
          733.4889228019229,
          737.5231118773335,
          741.5794889926588,
          745.6581761821184,
          749.75929615112,
          753.8829722799512,
          758.0293286274909,
          762.1984899349421
         ]
        },
        {
         "customdata": [
          86,
          86,
          86,
          86,
          86,
          86,
          86,
          86,
          85,
          85,
          85,
          85,
          85,
          85,
          85,
          85,
          85,
          85,
          85,
          85,
          85,
          84,
          84,
          84,
          84,
          84,
          84,
          84,
          84,
          84,
          84,
          84,
          83,
          83,
          83,
          83,
          83,
          83,
          83,
          83,
          83,
          83,
          83,
          82,
          82,
          82,
          82,
          82,
          82,
          82,
          82,
          82,
          82,
          81,
          81,
          81,
          81,
          81,
          81,
          81,
          81,
          81,
          80,
          80,
          80,
          80,
          80,
          80,
          80,
          80,
          80,
          80,
          79,
          79,
          79,
          79,
          79,
          79,
          79,
          79,
          78,
          78,
          78,
          78,
          78,
          78,
          78,
          78,
          78,
          77,
          77,
          77,
          77,
          77,
          77,
          77,
          76,
          76,
          76,
          76,
          76,
          76,
          76,
          76,
          75,
          75,
          75,
          75,
          75,
          75,
          75,
          74,
          74,
          74,
          74,
          74,
          74,
          74,
          73,
          73,
          73,
          73,
          73,
          73,
          73,
          72,
          72,
          72,
          72,
          72,
          72,
          72,
          71,
          71,
          71,
          71,
          71,
          71,
          70,
          70,
          70,
          70,
          70,
          70,
          69,
          69,
          69,
          69,
          69,
          69,
          68,
          68,
          68,
          68,
          68,
          68,
          67,
          67,
          67,
          67,
          67,
          66,
          66,
          66,
          66,
          66,
          65,
          65,
          65,
          65,
          65,
          65,
          64,
          64,
          64,
          64,
          64,
          63,
          63,
          63,
          63,
          63,
          62,
          62,
          62,
          62,
          61,
          61,
          61,
          61,
          61,
          60,
          60,
          60,
          60,
          60,
          59,
          59,
          59,
          59,
          58,
          58,
          58,
          58,
          57,
          57,
          57,
          57,
          57,
          56,
          56,
          56,
          56,
          55,
          55,
          55,
          55,
          54,
          54,
          54,
          54,
          53,
          53,
          53,
          53,
          52,
          52,
          52,
          52,
          51,
          51,
          51,
          50,
          50,
          50,
          50,
          49,
          49,
          49,
          49,
          48,
          48,
          48,
          47,
          47,
          47,
          46,
          46,
          46,
          46,
          45,
          45,
          45,
          44,
          44,
          44,
          43,
          43,
          43,
          43,
          42,
          42,
          42,
          41,
          41,
          41,
          40,
          40,
          40,
          39,
          39,
          39,
          38,
          38,
          38,
          37,
          37,
          37,
          36,
          36,
          36,
          35,
          35,
          34,
          34,
          34,
          33,
          33,
          33,
          32,
          32,
          32,
          31,
          31,
          30,
          30,
          30,
          29,
          29,
          28,
          28,
          28,
          27,
          27,
          26,
          26,
          26,
          25,
          25,
          24,
          24,
          24,
          23,
          23,
          22,
          22,
          21,
          21,
          21,
          20,
          20,
          19,
          19,
          18,
          18,
          17,
          17,
          17,
          16,
          16,
          15,
          15,
          14,
          14,
          13,
          13,
          12,
          12,
          11,
          11,
          10,
          10,
          9,
          9,
          8,
          8,
          7,
          7,
          6,
          6,
          5,
          5,
          4,
          4,
          3,
          3,
          2,
          2,
          1,
          1
         ],
         "hovertemplate": "Interest: $%{y:.2f}<br>Year: %{text}<br> % of Monthly: %{customdata}%",
         "mode": "lines",
         "name": "Interest",
         "text": [
          "0",
          "0",
          "0",
          "0",
          "0",
          "0",
          "0",
          "0",
          "0",
          "0",
          "0",
          "0",
          "1",
          "1",
          "1",
          "1",
          "1",
          "1",
          "1",
          "1",
          "1",
          "1",
          "1",
          "1",
          "2",
          "2",
          "2",
          "2",
          "2",
          "2",
          "2",
          "2",
          "2",
          "2",
          "2",
          "2",
          "3",
          "3",
          "3",
          "3",
          "3",
          "3",
          "3",
          "3",
          "3",
          "3",
          "3",
          "3",
          "4",
          "4",
          "4",
          "4",
          "4",
          "4",
          "4",
          "4",
          "4",
          "4",
          "4",
          "4",
          "5",
          "5",
          "5",
          "5",
          "5",
          "5",
          "5",
          "5",
          "5",
          "5",
          "5",
          "5",
          "6",
          "6",
          "6",
          "6",
          "6",
          "6",
          "6",
          "6",
          "6",
          "6",
          "6",
          "6",
          "7",
          "7",
          "7",
          "7",
          "7",
          "7",
          "7",
          "7",
          "7",
          "7",
          "7",
          "7",
          "8",
          "8",
          "8",
          "8",
          "8",
          "8",
          "8",
          "8",
          "8",
          "8",
          "8",
          "8",
          "9",
          "9",
          "9",
          "9",
          "9",
          "9",
          "9",
          "9",
          "9",
          "9",
          "9",
          "9",
          "10",
          "10",
          "10",
          "10",
          "10",
          "10",
          "10",
          "10",
          "10",
          "10",
          "10",
          "10",
          "11",
          "11",
          "11",
          "11",
          "11",
          "11",
          "11",
          "11",
          "11",
          "11",
          "11",
          "11",
          "12",
          "12",
          "12",
          "12",
          "12",
          "12",
          "12",
          "12",
          "12",
          "12",
          "12",
          "12",
          "13",
          "13",
          "13",
          "13",
          "13",
          "13",
          "13",
          "13",
          "13",
          "13",
          "13",
          "13",
          "14",
          "14",
          "14",
          "14",
          "14",
          "14",
          "14",
          "14",
          "14",
          "14",
          "14",
          "14",
          "15",
          "15",
          "15",
          "15",
          "15",
          "15",
          "15",
          "15",
          "15",
          "15",
          "15",
          "15",
          "16",
          "16",
          "16",
          "16",
          "16",
          "16",
          "16",
          "16",
          "16",
          "16",
          "16",
          "16",
          "17",
          "17",
          "17",
          "17",
          "17",
          "17",
          "17",
          "17",
          "17",
          "17",
          "17",
          "17",
          "18",
          "18",
          "18",
          "18",
          "18",
          "18",
          "18",
          "18",
          "18",
          "18",
          "18",
          "18",
          "19",
          "19",
          "19",
          "19",
          "19",
          "19",
          "19",
          "19",
          "19",
          "19",
          "19",
          "19",
          "20",
          "20",
          "20",
          "20",
          "20",
          "20",
          "20",
          "20",
          "20",
          "20",
          "20",
          "20",
          "21",
          "21",
          "21",
          "21",
          "21",
          "21",
          "21",
          "21",
          "21",
          "21",
          "21",
          "21",
          "22",
          "22",
          "22",
          "22",
          "22",
          "22",
          "22",
          "22",
          "22",
          "22",
          "22",
          "22",
          "23",
          "23",
          "23",
          "23",
          "23",
          "23",
          "23",
          "23",
          "23",
          "23",
          "23",
          "23",
          "24",
          "24",
          "24",
          "24",
          "24",
          "24",
          "24",
          "24",
          "24",
          "24",
          "24",
          "24",
          "25",
          "25",
          "25",
          "25",
          "25",
          "25",
          "25",
          "25",
          "25",
          "25",
          "25",
          "25",
          "26",
          "26",
          "26",
          "26",
          "26",
          "26",
          "26",
          "26",
          "26",
          "26",
          "26",
          "26",
          "27",
          "27",
          "27",
          "27",
          "27",
          "27",
          "27",
          "27",
          "27",
          "27",
          "27",
          "27",
          "28",
          "28",
          "28",
          "28",
          "28",
          "28",
          "28",
          "28",
          "28",
          "28",
          "28",
          "28",
          "29",
          "29",
          "29",
          "29",
          "29",
          "29",
          "29",
          "29",
          "29",
          "29",
          "29",
          "29"
         ],
         "type": "scatter",
         "x": [
          0,
          1,
          2,
          3,
          4,
          5,
          6,
          7,
          8,
          9,
          10,
          11,
          12,
          13,
          14,
          15,
          16,
          17,
          18,
          19,
          20,
          21,
          22,
          23,
          24,
          25,
          26,
          27,
          28,
          29,
          30,
          31,
          32,
          33,
          34,
          35,
          36,
          37,
          38,
          39,
          40,
          41,
          42,
          43,
          44,
          45,
          46,
          47,
          48,
          49,
          50,
          51,
          52,
          53,
          54,
          55,
          56,
          57,
          58,
          59,
          60,
          61,
          62,
          63,
          64,
          65,
          66,
          67,
          68,
          69,
          70,
          71,
          72,
          73,
          74,
          75,
          76,
          77,
          78,
          79,
          80,
          81,
          82,
          83,
          84,
          85,
          86,
          87,
          88,
          89,
          90,
          91,
          92,
          93,
          94,
          95,
          96,
          97,
          98,
          99,
          100,
          101,
          102,
          103,
          104,
          105,
          106,
          107,
          108,
          109,
          110,
          111,
          112,
          113,
          114,
          115,
          116,
          117,
          118,
          119,
          120,
          121,
          122,
          123,
          124,
          125,
          126,
          127,
          128,
          129,
          130,
          131,
          132,
          133,
          134,
          135,
          136,
          137,
          138,
          139,
          140,
          141,
          142,
          143,
          144,
          145,
          146,
          147,
          148,
          149,
          150,
          151,
          152,
          153,
          154,
          155,
          156,
          157,
          158,
          159,
          160,
          161,
          162,
          163,
          164,
          165,
          166,
          167,
          168,
          169,
          170,
          171,
          172,
          173,
          174,
          175,
          176,
          177,
          178,
          179,
          180,
          181,
          182,
          183,
          184,
          185,
          186,
          187,
          188,
          189,
          190,
          191,
          192,
          193,
          194,
          195,
          196,
          197,
          198,
          199,
          200,
          201,
          202,
          203,
          204,
          205,
          206,
          207,
          208,
          209,
          210,
          211,
          212,
          213,
          214,
          215,
          216,
          217,
          218,
          219,
          220,
          221,
          222,
          223,
          224,
          225,
          226,
          227,
          228,
          229,
          230,
          231,
          232,
          233,
          234,
          235,
          236,
          237,
          238,
          239,
          240,
          241,
          242,
          243,
          244,
          245,
          246,
          247,
          248,
          249,
          250,
          251,
          252,
          253,
          254,
          255,
          256,
          257,
          258,
          259,
          260,
          261,
          262,
          263,
          264,
          265,
          266,
          267,
          268,
          269,
          270,
          271,
          272,
          273,
          274,
          275,
          276,
          277,
          278,
          279,
          280,
          281,
          282,
          283,
          284,
          285,
          286,
          287,
          288,
          289,
          290,
          291,
          292,
          293,
          294,
          295,
          296,
          297,
          298,
          299,
          300,
          301,
          302,
          303,
          304,
          305,
          306,
          307,
          308,
          309,
          310,
          311,
          312,
          313,
          314,
          315,
          316,
          317,
          318,
          319,
          320,
          321,
          322,
          323,
          324,
          325,
          326,
          327,
          328,
          329,
          330,
          331,
          332,
          333,
          334,
          335,
          336,
          337,
          338,
          339,
          340,
          341,
          342,
          343,
          344,
          345,
          346,
          347,
          348,
          349,
          350,
          351,
          352,
          353,
          354,
          355,
          356,
          357,
          358,
          359
         ],
         "y": [
          660,
          659.4148518010373,
          658.8264852869803,
          658.234882757096,
          657.6400264132973,
          657.0418983596078,
          656.4404806016229,
          655.8357550459691,
          655.2277034997592,
          654.6163076700452,
          654.0015491632677,
          653.383409484703,
          652.7618700379061,
          652.1369121241519,
          651.508516941872,
          650.8766655860895,
          650.2413390478504,
          649.6025182136508,
          648.9601838648632,
          648.3143166771572,
          647.6648972199189,
          647.0119059556657,
          646.3553232394592,
          645.6951293183134,
          645.0313043306015,
          644.3638283054571,
          643.6926811621744,
          643.0178427096037,
          642.3392926455438,
          641.6570105561315,
          640.9709759152275,
          640.2811680837985,
          639.5875663092968,
          638.8901497250351,
          638.1888973495601,
          637.48378808602,
          636.7748007215304,
          636.0619139265361,
          635.3451062541693,
          634.6243561396045,
          633.8996418994096,
          633.1709417308937,
          632.438233711451,
          631.7014957979012,
          630.960705825827,
          630.2158415089062,
          629.4668804382425,
          628.7138000816901,
          627.9565777831767,
          627.1951907620215,
          626.4296161122498,
          625.6598308019045,
          624.8858116723522,
          624.1075354375876,
          623.3249786835315,
          622.5381178673282,
          621.7469293166358,
          620.9513892289146,
          620.151473670711,
          619.3471585769371,
          618.5384197501476,
          617.7252328598107,
          616.9075734415769,
          616.0854168965429,
          615.2587384905112,
          614.4275133532462,
          613.5917164777264,
          612.7513227193912,
          611.9063067953851,
          611.056643283797,
          610.2023066228952,
          609.3432711103584,
          608.4795109025026,
          607.6110000135037,
          606.7377123146152,
          605.8596215333829,
          604.9767012528538,
          604.0889249107818,
          603.1962657988283,
          602.2986970617592,
          601.3961916966362,
          600.488722552005,
          599.5762623270783,
          598.6587835709145,
          597.7362586815918,
          596.8086599053779,
          595.8759593358948,
          594.9381289132795,
          593.9951404233398,
          593.0469654967054,
          592.0935756079746,
          591.1349420748558,
          590.1710360573047,
          589.2018285566572,
          588.2272904147561,
          587.2473923130746,
          586.2621047718337,
          585.2713981491161,
          584.2752426399735,
          583.2736082755307,
          582.2664649220834,
          581.2537822801921,
          580.2355298837705,
          579.2116770991685,
          578.1821931242512,
          577.1470469874719,
          576.1062075469403,
          575.0596434894857,
          574.0073233297152,
          572.9492154090659,
          571.885287894853,
          570.815508779312,
          569.7398458786355,
          568.6582668320053,
          567.5707391006187,
          566.4772299667093,
          565.3777065325635,
          564.2721357195298,
          563.1604842670246,
          562.0427187315305,
          560.9188054855912,
          559.7887107167992,
          558.6524004267789,
          557.5098404301634,
          556.3609963535666,
          555.2058336345485,
          554.0443175205759,
          552.8764130679763,
          551.7020851408874,
          550.5212984101996,
          549.334017352493,
          548.140206248969,
          546.9398291843756,
          545.732850045927,
          544.5192325222168,
          543.2989401021264,
          542.0719360737254,
          540.8381835231681,
          539.5976453335828,
          538.3502841839548,
          537.0960625480038,
          535.8349426930552,
          534.5668866789042,
          533.2918563566756,
          532.0098133676745,
          530.720719142234,
          529.4245348985536,
          528.1212216415329,
          526.8107401615987,
          525.4930510335247,
          524.1681146152464,
          522.8358910466675,
          521.4963402484615,
          520.1494219208653,
          518.7950955424674,
          517.4333203689882,
          516.0640554320549,
          514.6872595379685,
          513.3028912664646,
          511.91090896946747,
          510.5112707698368,
          509.1039345601082,
          507.6888580012261,
          506.26599852127015,
          504.8353133141744,
          503.39675933843967,
          501.95029331583834,
          500.49587173011275,
          499.0334508256656,
          497.5629866062441,
          496.0844348336157,
          494.5977510262379,
          493.1028904579195,
          491.5998081564753,
          490.08845890237325,
          488.5687972273736,
          487.04077741316144,
          485.5043534899711,
          483.9594792352032,
          482.4061081720341,
          480.8441935680176,
          479.27368843367896,
          477.6945455211015,
          476.10671732250484,
          474.5101560688159,
          472.90481372823166,
          471.29064200477427,
          469.6675923368378,
          468.0356158957277,
          466.39466358419145,
          464.7446860349418,
          463.0856336091713,
          461.417456395059,
          459.7401042062691,
          458.05352658044086,
          456.3576727776706,
          454.65249177898505,
          452.9379322848068,
          451.2139427134105,
          449.48047119937155,
          447.7374655920054,
          445.9848734537987,
          444.22264205883187,
          442.4507183911927,
          440.6690491433816,
          438.87758071470745,
          437.07625920967564,
          435.26503043636615,
          433.44383990480344,
          431.6126328253171,
          429.7713541068937,
          427.91994835551884,
          426.0583598725115,
          424.18653265284763,
          422.30441038347556,
          420.41193644162195,
          418.50905389308815,
          416.59570549053745,
          414.6718336717727,
          412.7373805580047,
          410.792287952111,
          408.8364973368849,
          406.86994987327506,
          404.8925863986154,
          402.90434742484507,
          400.905173136719,
          398.89500339000824,
          396.87377770969056,
          394.84143528813115,
          392.7979149832531,
          390.74315531669833,
          388.67709447197745,
          386.5996702926106,
          384.51082028025724,
          382.41048159283594,
          380.29859104263386,
          378.17508509440563,
          376.03989986346215,
          373.89297111374844,
          371.73423425591136,
          369.5636243453562,
          367.3810760802929,
          365.1865237997718,
          362.9799014817078,
          360.7611427408945,
          358.5301808270067,
          356.28694862259255,
          354.03137864105406,
          351.76340302461716,
          349.48295354228986,
          347.1899615878097,
          344.88435817757994,
          342.56607394859395,
          340.2350391563485,
          337.8911836727457,
          335.5344369839831,
          333.16472818843226,
          330.78198599450593,
          328.386138718513,
          325.9771142825021,
          323.55484021209315,
          321.11924363429694,
          318.67025127532287,
          316.20778945837446,
          313.73178410143277,
          311.242160715028,
          308.7388443999979,
          306.22175984523517,
          303.69083132542124,
          301.14598269874836,
          298.5871374046288,
          296.0142184613915,
          293.42714846396643,
          290.82584958155553,
          288.21024355529136,
          285.5802516958828,
          282.93579488124743,
          280.2767935541316,
          277.60316771971657,
          274.9148369432123,
          272.2117203474372,
          269.49373661038544,
          266.76080396277985,
          264.01284018561245,
          261.24976260767056,
          258.47148810305004,
          255.6779330886541,
          252.869013521679,
          250.0446448970855,
          247.20474224505676,
          244.34922012844186,
          241.4779926401856,
          238.5909734007439,
          235.68807555548528,
          232.76921177207774,
          229.83429423786143,
          226.88323465720697,
          223.9159442488589,
          220.9323337432649,
          217.93231337989013,
          214.91579290451682,
          211.88268156652896,
          208.83288811618215,
          205.76632080185843,
          202.68288736730594,
          199.58249504886342,
          196.46505057266944,
          193.3304601518564,
          190.1786294837289,
          187.0094637469267,
          183.8228675985721,
          180.6187451714015,
          177.39700007088152,
          174.15753537230864,
          170.90025361789364,
          167.62505681382933,
          164.33184642734267,
          161.02052338373034,
          157.69098806337814,
          154.343140298764,
          150.9768793714445,
          147.59210400902472,
          144.18871238211165,
          140.76660210125056,
          137.32567021384472,
          133.86581320105816,
          130.38692697470125,
          126.8889068740994,
          123.37164766294424,
          119.83504352612772,
          116.27898806655871,
          112.70337430196206,
          109.10809466166015,
          105.49304098333656,
          101.8581045097822,
          98.20317588562328,
          94.52814515403149,
          90.83290175341595,
          87.11733451409702,
          83.38133165496185,
          79.62478078010142,
          75.84756887542927,
          72.04958230528142,
          68.23070680899775,
          64.39082749748452,
          60.529828849757976,
          56.647594709468926,
          52.74400828140829,
          48.81895212799333,
          44.87230816573457,
          40.9039576616834,
          36.91378122985994,
          32.90165882766146,
          28.867469752250884,
          24.81109263692555,
          20.732405447465926,
          16.631285478464275,
          12.507609349633114,
          8.361253002093383,
          4.1920916946421825
         ]
        }
       ],
       "layout": {
        "legend": {
         "orientation": "h",
         "x": 1,
         "xanchor": "right",
         "y": 1.02,
         "yanchor": "bottom"
        },
        "template": {
         "data": {
          "bar": [
           {
            "error_x": {
             "color": "#f2f5fa"
            },
            "error_y": {
             "color": "#f2f5fa"
            },
            "marker": {
             "line": {
              "color": "rgb(17,17,17)",
              "width": 0.5
             },
             "pattern": {
              "fillmode": "overlay",
              "size": 10,
              "solidity": 0.2
             }
            },
            "type": "bar"
           }
          ],
          "barpolar": [
           {
            "marker": {
             "line": {
              "color": "rgb(17,17,17)",
              "width": 0.5
             },
             "pattern": {
              "fillmode": "overlay",
              "size": 10,
              "solidity": 0.2
             }
            },
            "type": "barpolar"
           }
          ],
          "carpet": [
           {
            "aaxis": {
             "endlinecolor": "#A2B1C6",
             "gridcolor": "#506784",
             "linecolor": "#506784",
             "minorgridcolor": "#506784",
             "startlinecolor": "#A2B1C6"
            },
            "baxis": {
             "endlinecolor": "#A2B1C6",
             "gridcolor": "#506784",
             "linecolor": "#506784",
             "minorgridcolor": "#506784",
             "startlinecolor": "#A2B1C6"
            },
            "type": "carpet"
           }
          ],
          "choropleth": [
           {
            "colorbar": {
             "outlinewidth": 0,
             "ticks": ""
            },
            "type": "choropleth"
           }
          ],
          "contour": [
           {
            "colorbar": {
             "outlinewidth": 0,
             "ticks": ""
            },
            "colorscale": [
             [
              0,
              "#0d0887"
             ],
             [
              0.1111111111111111,
              "#46039f"
             ],
             [
              0.2222222222222222,
              "#7201a8"
             ],
             [
              0.3333333333333333,
              "#9c179e"
             ],
             [
              0.4444444444444444,
              "#bd3786"
             ],
             [
              0.5555555555555556,
              "#d8576b"
             ],
             [
              0.6666666666666666,
              "#ed7953"
             ],
             [
              0.7777777777777778,
              "#fb9f3a"
             ],
             [
              0.8888888888888888,
              "#fdca26"
             ],
             [
              1,
              "#f0f921"
             ]
            ],
            "type": "contour"
           }
          ],
          "contourcarpet": [
           {
            "colorbar": {
             "outlinewidth": 0,
             "ticks": ""
            },
            "type": "contourcarpet"
           }
          ],
          "heatmap": [
           {
            "colorbar": {
             "outlinewidth": 0,
             "ticks": ""
            },
            "colorscale": [
             [
              0,
              "#0d0887"
             ],
             [
              0.1111111111111111,
              "#46039f"
             ],
             [
              0.2222222222222222,
              "#7201a8"
             ],
             [
              0.3333333333333333,
              "#9c179e"
             ],
             [
              0.4444444444444444,
              "#bd3786"
             ],
             [
              0.5555555555555556,
              "#d8576b"
             ],
             [
              0.6666666666666666,
              "#ed7953"
             ],
             [
              0.7777777777777778,
              "#fb9f3a"
             ],
             [
              0.8888888888888888,
              "#fdca26"
             ],
             [
              1,
              "#f0f921"
             ]
            ],
            "type": "heatmap"
           }
          ],
          "heatmapgl": [
           {
            "colorbar": {
             "outlinewidth": 0,
             "ticks": ""
            },
            "colorscale": [
             [
              0,
              "#0d0887"
             ],
             [
              0.1111111111111111,
              "#46039f"
             ],
             [
              0.2222222222222222,
              "#7201a8"
             ],
             [
              0.3333333333333333,
              "#9c179e"
             ],
             [
              0.4444444444444444,
              "#bd3786"
             ],
             [
              0.5555555555555556,
              "#d8576b"
             ],
             [
              0.6666666666666666,
              "#ed7953"
             ],
             [
              0.7777777777777778,
              "#fb9f3a"
             ],
             [
              0.8888888888888888,
              "#fdca26"
             ],
             [
              1,
              "#f0f921"
             ]
            ],
            "type": "heatmapgl"
           }
          ],
          "histogram": [
           {
            "marker": {
             "pattern": {
              "fillmode": "overlay",
              "size": 10,
              "solidity": 0.2
             }
            },
            "type": "histogram"
           }
          ],
          "histogram2d": [
           {
            "colorbar": {
             "outlinewidth": 0,
             "ticks": ""
            },
            "colorscale": [
             [
              0,
              "#0d0887"
             ],
             [
              0.1111111111111111,
              "#46039f"
             ],
             [
              0.2222222222222222,
              "#7201a8"
             ],
             [
              0.3333333333333333,
              "#9c179e"
             ],
             [
              0.4444444444444444,
              "#bd3786"
             ],
             [
              0.5555555555555556,
              "#d8576b"
             ],
             [
              0.6666666666666666,
              "#ed7953"
             ],
             [
              0.7777777777777778,
              "#fb9f3a"
             ],
             [
              0.8888888888888888,
              "#fdca26"
             ],
             [
              1,
              "#f0f921"
             ]
            ],
            "type": "histogram2d"
           }
          ],
          "histogram2dcontour": [
           {
            "colorbar": {
             "outlinewidth": 0,
             "ticks": ""
            },
            "colorscale": [
             [
              0,
              "#0d0887"
             ],
             [
              0.1111111111111111,
              "#46039f"
             ],
             [
              0.2222222222222222,
              "#7201a8"
             ],
             [
              0.3333333333333333,
              "#9c179e"
             ],
             [
              0.4444444444444444,
              "#bd3786"
             ],
             [
              0.5555555555555556,
              "#d8576b"
             ],
             [
              0.6666666666666666,
              "#ed7953"
             ],
             [
              0.7777777777777778,
              "#fb9f3a"
             ],
             [
              0.8888888888888888,
              "#fdca26"
             ],
             [
              1,
              "#f0f921"
             ]
            ],
            "type": "histogram2dcontour"
           }
          ],
          "mesh3d": [
           {
            "colorbar": {
             "outlinewidth": 0,
             "ticks": ""
            },
            "type": "mesh3d"
           }
          ],
          "parcoords": [
           {
            "line": {
             "colorbar": {
              "outlinewidth": 0,
              "ticks": ""
             }
            },
            "type": "parcoords"
           }
          ],
          "pie": [
           {
            "automargin": true,
            "type": "pie"
           }
          ],
          "scatter": [
           {
            "marker": {
             "line": {
              "color": "#283442"
             }
            },
            "type": "scatter"
           }
          ],
          "scatter3d": [
           {
            "line": {
             "colorbar": {
              "outlinewidth": 0,
              "ticks": ""
             }
            },
            "marker": {
             "colorbar": {
              "outlinewidth": 0,
              "ticks": ""
             }
            },
            "type": "scatter3d"
           }
          ],
          "scattercarpet": [
           {
            "marker": {
             "colorbar": {
              "outlinewidth": 0,
              "ticks": ""
             }
            },
            "type": "scattercarpet"
           }
          ],
          "scattergeo": [
           {
            "marker": {
             "colorbar": {
              "outlinewidth": 0,
              "ticks": ""
             }
            },
            "type": "scattergeo"
           }
          ],
          "scattergl": [
           {
            "marker": {
             "line": {
              "color": "#283442"
             }
            },
            "type": "scattergl"
           }
          ],
          "scattermapbox": [
           {
            "marker": {
             "colorbar": {
              "outlinewidth": 0,
              "ticks": ""
             }
            },
            "type": "scattermapbox"
           }
          ],
          "scatterpolar": [
           {
            "marker": {
             "colorbar": {
              "outlinewidth": 0,
              "ticks": ""
             }
            },
            "type": "scatterpolar"
           }
          ],
          "scatterpolargl": [
           {
            "marker": {
             "colorbar": {
              "outlinewidth": 0,
              "ticks": ""
             }
            },
            "type": "scatterpolargl"
           }
          ],
          "scatterternary": [
           {
            "marker": {
             "colorbar": {
              "outlinewidth": 0,
              "ticks": ""
             }
            },
            "type": "scatterternary"
           }
          ],
          "surface": [
           {
            "colorbar": {
             "outlinewidth": 0,
             "ticks": ""
            },
            "colorscale": [
             [
              0,
              "#0d0887"
             ],
             [
              0.1111111111111111,
              "#46039f"
             ],
             [
              0.2222222222222222,
              "#7201a8"
             ],
             [
              0.3333333333333333,
              "#9c179e"
             ],
             [
              0.4444444444444444,
              "#bd3786"
             ],
             [
              0.5555555555555556,
              "#d8576b"
             ],
             [
              0.6666666666666666,
              "#ed7953"
             ],
             [
              0.7777777777777778,
              "#fb9f3a"
             ],
             [
              0.8888888888888888,
              "#fdca26"
             ],
             [
              1,
              "#f0f921"
             ]
            ],
            "type": "surface"
           }
          ],
          "table": [
           {
            "cells": {
             "fill": {
              "color": "#506784"
             },
             "line": {
              "color": "rgb(17,17,17)"
             }
            },
            "header": {
             "fill": {
              "color": "#2a3f5f"
             },
             "line": {
              "color": "rgb(17,17,17)"
             }
            },
            "type": "table"
           }
          ]
         },
         "layout": {
          "annotationdefaults": {
           "arrowcolor": "#f2f5fa",
           "arrowhead": 0,
           "arrowwidth": 1
          },
          "autotypenumbers": "strict",
          "coloraxis": {
           "colorbar": {
            "outlinewidth": 0,
            "ticks": ""
           }
          },
          "colorscale": {
           "diverging": [
            [
             0,
             "#8e0152"
            ],
            [
             0.1,
             "#c51b7d"
            ],
            [
             0.2,
             "#de77ae"
            ],
            [
             0.3,
             "#f1b6da"
            ],
            [
             0.4,
             "#fde0ef"
            ],
            [
             0.5,
             "#f7f7f7"
            ],
            [
             0.6,
             "#e6f5d0"
            ],
            [
             0.7,
             "#b8e186"
            ],
            [
             0.8,
             "#7fbc41"
            ],
            [
             0.9,
             "#4d9221"
            ],
            [
             1,
             "#276419"
            ]
           ],
           "sequential": [
            [
             0,
             "#0d0887"
            ],
            [
             0.1111111111111111,
             "#46039f"
            ],
            [
             0.2222222222222222,
             "#7201a8"
            ],
            [
             0.3333333333333333,
             "#9c179e"
            ],
            [
             0.4444444444444444,
             "#bd3786"
            ],
            [
             0.5555555555555556,
             "#d8576b"
            ],
            [
             0.6666666666666666,
             "#ed7953"
            ],
            [
             0.7777777777777778,
             "#fb9f3a"
            ],
            [
             0.8888888888888888,
             "#fdca26"
            ],
            [
             1,
             "#f0f921"
            ]
           ],
           "sequentialminus": [
            [
             0,
             "#0d0887"
            ],
            [
             0.1111111111111111,
             "#46039f"
            ],
            [
             0.2222222222222222,
             "#7201a8"
            ],
            [
             0.3333333333333333,
             "#9c179e"
            ],
            [
             0.4444444444444444,
             "#bd3786"
            ],
            [
             0.5555555555555556,
             "#d8576b"
            ],
            [
             0.6666666666666666,
             "#ed7953"
            ],
            [
             0.7777777777777778,
             "#fb9f3a"
            ],
            [
             0.8888888888888888,
             "#fdca26"
            ],
            [
             1,
             "#f0f921"
            ]
           ]
          },
          "colorway": [
           "#636efa",
           "#EF553B",
           "#00cc96",
           "#ab63fa",
           "#FFA15A",
           "#19d3f3",
           "#FF6692",
           "#B6E880",
           "#FF97FF",
           "#FECB52"
          ],
          "font": {
           "color": "#f2f5fa"
          },
          "geo": {
           "bgcolor": "rgb(17,17,17)",
           "lakecolor": "rgb(17,17,17)",
           "landcolor": "rgb(17,17,17)",
           "showlakes": true,
           "showland": true,
           "subunitcolor": "#506784"
          },
          "hoverlabel": {
           "align": "left"
          },
          "hovermode": "closest",
          "mapbox": {
           "style": "dark"
          },
          "paper_bgcolor": "rgb(17,17,17)",
          "plot_bgcolor": "rgb(17,17,17)",
          "polar": {
           "angularaxis": {
            "gridcolor": "#506784",
            "linecolor": "#506784",
            "ticks": ""
           },
           "bgcolor": "rgb(17,17,17)",
           "radialaxis": {
            "gridcolor": "#506784",
            "linecolor": "#506784",
            "ticks": ""
           }
          },
          "scene": {
           "xaxis": {
            "backgroundcolor": "rgb(17,17,17)",
            "gridcolor": "#506784",
            "gridwidth": 2,
            "linecolor": "#506784",
            "showbackground": true,
            "ticks": "",
            "zerolinecolor": "#C8D4E3"
           },
           "yaxis": {
            "backgroundcolor": "rgb(17,17,17)",
            "gridcolor": "#506784",
            "gridwidth": 2,
            "linecolor": "#506784",
            "showbackground": true,
            "ticks": "",
            "zerolinecolor": "#C8D4E3"
           },
           "zaxis": {
            "backgroundcolor": "rgb(17,17,17)",
            "gridcolor": "#506784",
            "gridwidth": 2,
            "linecolor": "#506784",
            "showbackground": true,
            "ticks": "",
            "zerolinecolor": "#C8D4E3"
           }
          },
          "shapedefaults": {
           "line": {
            "color": "#f2f5fa"
           }
          },
          "sliderdefaults": {
           "bgcolor": "#C8D4E3",
           "bordercolor": "rgb(17,17,17)",
           "borderwidth": 1,
           "tickwidth": 0
          },
          "ternary": {
           "aaxis": {
            "gridcolor": "#506784",
            "linecolor": "#506784",
            "ticks": ""
           },
           "baxis": {
            "gridcolor": "#506784",
            "linecolor": "#506784",
            "ticks": ""
           },
           "bgcolor": "rgb(17,17,17)",
           "caxis": {
            "gridcolor": "#506784",
            "linecolor": "#506784",
            "ticks": ""
           }
          },
          "title": {
           "x": 0.05
          },
          "updatemenudefaults": {
           "bgcolor": "#506784",
           "borderwidth": 0
          },
          "xaxis": {
           "automargin": true,
           "gridcolor": "#283442",
           "linecolor": "#506784",
           "ticks": "",
           "title": {
            "standoff": 15
           },
           "zerolinecolor": "#283442",
           "zerolinewidth": 2
          },
          "yaxis": {
           "automargin": true,
           "gridcolor": "#283442",
           "linecolor": "#506784",
           "ticks": "",
           "title": {
            "standoff": 15
           },
           "zerolinecolor": "#283442",
           "zerolinewidth": 2
          }
         }
        },
        "title": {
         "text": "Mortgage Payment Schedule"
        },
        "xaxis": {
         "title": {
          "text": "Payment Number"
         }
        },
        "yaxis": {
         "title": {
          "text": "Amount ($)"
         }
        }
       }
      }
     },
     "metadata": {},
     "output_type": "display_data"
    },
    {
     "data": {
      "text/plain": [
       "<function __main__.update_graph(house_price, deposit_percentage, interest, term)>"
      ]
     },
     "execution_count": 16,
     "metadata": {},
     "output_type": "execute_result"
    }
   ],
   "source": [
    "\n",
    "# Function to update and display the mortgage payment schedule graph using Plotly\n",
    "def update_graph(house_price, deposit_percentage, interest, term):\n",
    "    deposit = house_price * (deposit_percentage / 100)\n",
    "    loan_amount = house_price - deposit\n",
    "\n",
    "    m = Mortgage(principal=loan_amount, interest=interest, term=term)\n",
    "    schedule = m.schedule()\n",
    "\n",
    "    print('Deposit Amount:           {}{:>11,.2f}'.format(m._currency, deposit))\n",
    "    m.summarize\n",
    "\n",
    "    fig = go.Figure()\n",
    "\n",
    "\n",
    "    fig.add_trace(go.Scatter(x=list(range(len(schedule))), y=[p.principal for p in schedule], mode='lines', name='Principal',\n",
    "                             hovertemplate=\"Principal: $%{y:.2f}<br>Year: %{text}<br> % of Monthly: %{customdata}%\",\n",
    "                             text=[p//12 for p in range(len(schedule))],\n",
    "                             customdata=[round(1+((p.principal-m.monthly_payment)/m.monthly_payment),2)*100 for p in schedule]\n",
    "                             ))\n",
    "    \n",
    "    fig.add_trace(go.Scatter(x=list(range(len(schedule))), y=[p.interest for p in schedule], mode='lines', name='Interest',\n",
    "                             hovertemplate=\"Interest: $%{y:.2f}<br>Year: %{text}<br> % of Monthly: %{customdata}%\",\n",
    "                             text=[p//12 for p in range(len(schedule))],\n",
    "                             customdata=[round(1+((p.interest-m.monthly_payment)/m.monthly_payment),2)*100 for p in schedule]\n",
    "                             ))\n",
    "\n",
    "    fig.update_layout(title='Mortgage Payment Schedule',\n",
    "                      xaxis_title='Payment Number',\n",
    "                      yaxis_title='Amount ($)',\n",
    "                      legend=dict(orientation=\"h\", yanchor=\"bottom\", y=1.02, xanchor=\"right\", x=1),\n",
    "                      template=\"plotly_dark\",\n",
    "                      )\n",
    "    if not (house_price == 200000 and deposit_percentage == 20 and interest == 0.066 and term == 30):\n",
    "        fig.show()\n",
    "\n",
    "# Use interact to create interactive sliders and update the graph\n",
    "print(\"Move sliders to display the graph\")\n",
    "interact(update_graph,  \n",
    "         house_price=widgets.IntSlider(value=200000, min=200000, max=1500000, step=50000, description='House Price: ', style={'handle_color': 'blue'}),\n",
    "         deposit_percentage=widgets.IntSlider(value=20, min=5, max=99, step=5, description='Deposit %: ', style={'handle_color': 'blue'}),\n",
    "         interest=widgets.FloatSlider(value=0.066, min=0.001, max=0.1, step=0.001, description='Interest: ', readout_format='.3f', style={'handle_color': 'blue'}),\n",
    "         term=widgets.IntSlider(value=30, min=5, max=30, step=5, description='Term: ', style={'handle_color': 'blue'}))\n"
   ]
  }
 ],
 "metadata": {
  "kernelspec": {
   "display_name": "Python 3",
   "language": "python",
   "name": "python3"
  },
  "language_info": {
   "codemirror_mode": {
    "name": "ipython",
    "version": 3
   },
   "file_extension": ".py",
   "mimetype": "text/x-python",
   "name": "python",
   "nbconvert_exporter": "python",
   "pygments_lexer": "ipython3",
   "version": "3.10.12"
  }
 },
 "nbformat": 4,
 "nbformat_minor": 2
}
